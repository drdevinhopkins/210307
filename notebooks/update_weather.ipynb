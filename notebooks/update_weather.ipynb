{
 "metadata": {
  "language_info": {
   "codemirror_mode": {
    "name": "ipython",
    "version": 3
   },
   "file_extension": ".py",
   "mimetype": "text/x-python",
   "name": "python",
   "nbconvert_exporter": "python",
   "pygments_lexer": "ipython3",
   "version": "3.8.5-final"
  },
  "orig_nbformat": 2,
  "kernelspec": {
   "name": "python3",
   "display_name": "Python 3.8.5 64-bit ('base': conda)",
   "metadata": {
    "interpreter": {
     "hash": "759f92077ddf767ee53021667a11c5c835d99672edecdbae08c8b508f136d5a9"
    }
   }
  }
 },
 "nbformat": 4,
 "nbformat_minor": 2,
 "cells": [
  {
   "cell_type": "code",
   "execution_count": 10,
   "metadata": {},
   "outputs": [],
   "source": [
    "import pandas as pd\n",
    "from datetime import date"
   ]
  },
  {
   "cell_type": "code",
   "execution_count": 11,
   "metadata": {},
   "outputs": [
    {
     "output_type": "stream",
     "name": "stderr",
     "text": [
      "/Users/devinhopkins/opt/anaconda3/lib/python3.8/site-packages/IPython/core/interactiveshell.py:3146: DtypeWarning: Columns (2,3,4,8,9,10) have mixed types.Specify dtype option on import or set low_memory=False.\n  has_raised = await self.run_ast_nodes(code_ast.body, cell_name,\n"
     ]
    },
    {
     "output_type": "execute_result",
     "data": {
      "text/plain": [
       "      station             valid  tmpf dwpf   relh    drct  sknt  p01i   alti  \\\n",
       "95511    CYUL  2021-03-14 15:00  24.8  3.2  38.77  320.00  14.0   0.0  30.06   \n",
       "95512    CYUL  2021-03-14 16:00    23  3.2   41.8  330.00  18.0   0.0  30.07   \n",
       "95513    CYUL  2021-03-14 17:00    23  1.4  38.45  330.00  19.0   0.0  30.09   \n",
       "95514    CYUL  2021-03-14 18:00  21.2 -0.4  38.13  320.00  15.0   0.0  30.13   \n",
       "95515    CYUL  2021-03-14 19:00  19.4 -2.2  37.82  310.00  16.0   0.0  30.16   \n",
       "\n",
       "         mslp  ... skyl4 wxcodes ice_accretion_1hr ice_accretion_3hr  \\\n",
       "95511  1018.2  ...     M    VCSH                 M                 M   \n",
       "95512  1018.8  ...     M       M                 M                 M   \n",
       "95513  1019.4  ...     M       M                 M                 M   \n",
       "95514  1020.5  ...     M       M                 M                 M   \n",
       "95515  1021.7  ...     M       M                 M                 M   \n",
       "\n",
       "      ice_accretion_6hr peak_wind_gust peak_wind_drct peak_wind_time   feel  \\\n",
       "95511                 M              M              M              M  11.88   \n",
       "95512                 M              M              M              M   7.90   \n",
       "95513                 M              M              M              M   7.54   \n",
       "95514                 M              M              M              M   6.78   \n",
       "95515                 M              M              M              M   4.00   \n",
       "\n",
       "                                                   metar  \n",
       "95511  CYUL 141900Z 32014G19KT 290V350 15SM VCSH BKN0...  \n",
       "95512  CYUL 142000Z 33018G25KT 15SM BKN055 M05/M16 A3...  \n",
       "95513  CYUL 142100Z 33019G25KT 15SM BKN055 M05/M17 A3...  \n",
       "95514  CYUL 142200Z 32015G26KT 15SM BKN060 BKN170 M06...  \n",
       "95515  CYUL 142300Z 31016G25KT 15SM SCT060 BKN180 M07...  \n",
       "\n",
       "[5 rows x 29 columns]"
      ],
      "text/html": "<div>\n<style scoped>\n    .dataframe tbody tr th:only-of-type {\n        vertical-align: middle;\n    }\n\n    .dataframe tbody tr th {\n        vertical-align: top;\n    }\n\n    .dataframe thead th {\n        text-align: right;\n    }\n</style>\n<table border=\"1\" class=\"dataframe\">\n  <thead>\n    <tr style=\"text-align: right;\">\n      <th></th>\n      <th>station</th>\n      <th>valid</th>\n      <th>tmpf</th>\n      <th>dwpf</th>\n      <th>relh</th>\n      <th>drct</th>\n      <th>sknt</th>\n      <th>p01i</th>\n      <th>alti</th>\n      <th>mslp</th>\n      <th>...</th>\n      <th>skyl4</th>\n      <th>wxcodes</th>\n      <th>ice_accretion_1hr</th>\n      <th>ice_accretion_3hr</th>\n      <th>ice_accretion_6hr</th>\n      <th>peak_wind_gust</th>\n      <th>peak_wind_drct</th>\n      <th>peak_wind_time</th>\n      <th>feel</th>\n      <th>metar</th>\n    </tr>\n  </thead>\n  <tbody>\n    <tr>\n      <th>95511</th>\n      <td>CYUL</td>\n      <td>2021-03-14 15:00</td>\n      <td>24.8</td>\n      <td>3.2</td>\n      <td>38.77</td>\n      <td>320.00</td>\n      <td>14.0</td>\n      <td>0.0</td>\n      <td>30.06</td>\n      <td>1018.2</td>\n      <td>...</td>\n      <td>M</td>\n      <td>VCSH</td>\n      <td>M</td>\n      <td>M</td>\n      <td>M</td>\n      <td>M</td>\n      <td>M</td>\n      <td>M</td>\n      <td>11.88</td>\n      <td>CYUL 141900Z 32014G19KT 290V350 15SM VCSH BKN0...</td>\n    </tr>\n    <tr>\n      <th>95512</th>\n      <td>CYUL</td>\n      <td>2021-03-14 16:00</td>\n      <td>23</td>\n      <td>3.2</td>\n      <td>41.8</td>\n      <td>330.00</td>\n      <td>18.0</td>\n      <td>0.0</td>\n      <td>30.07</td>\n      <td>1018.8</td>\n      <td>...</td>\n      <td>M</td>\n      <td>M</td>\n      <td>M</td>\n      <td>M</td>\n      <td>M</td>\n      <td>M</td>\n      <td>M</td>\n      <td>M</td>\n      <td>7.90</td>\n      <td>CYUL 142000Z 33018G25KT 15SM BKN055 M05/M16 A3...</td>\n    </tr>\n    <tr>\n      <th>95513</th>\n      <td>CYUL</td>\n      <td>2021-03-14 17:00</td>\n      <td>23</td>\n      <td>1.4</td>\n      <td>38.45</td>\n      <td>330.00</td>\n      <td>19.0</td>\n      <td>0.0</td>\n      <td>30.09</td>\n      <td>1019.4</td>\n      <td>...</td>\n      <td>M</td>\n      <td>M</td>\n      <td>M</td>\n      <td>M</td>\n      <td>M</td>\n      <td>M</td>\n      <td>M</td>\n      <td>M</td>\n      <td>7.54</td>\n      <td>CYUL 142100Z 33019G25KT 15SM BKN055 M05/M17 A3...</td>\n    </tr>\n    <tr>\n      <th>95514</th>\n      <td>CYUL</td>\n      <td>2021-03-14 18:00</td>\n      <td>21.2</td>\n      <td>-0.4</td>\n      <td>38.13</td>\n      <td>320.00</td>\n      <td>15.0</td>\n      <td>0.0</td>\n      <td>30.13</td>\n      <td>1020.5</td>\n      <td>...</td>\n      <td>M</td>\n      <td>M</td>\n      <td>M</td>\n      <td>M</td>\n      <td>M</td>\n      <td>M</td>\n      <td>M</td>\n      <td>M</td>\n      <td>6.78</td>\n      <td>CYUL 142200Z 32015G26KT 15SM BKN060 BKN170 M06...</td>\n    </tr>\n    <tr>\n      <th>95515</th>\n      <td>CYUL</td>\n      <td>2021-03-14 19:00</td>\n      <td>19.4</td>\n      <td>-2.2</td>\n      <td>37.82</td>\n      <td>310.00</td>\n      <td>16.0</td>\n      <td>0.0</td>\n      <td>30.16</td>\n      <td>1021.7</td>\n      <td>...</td>\n      <td>M</td>\n      <td>M</td>\n      <td>M</td>\n      <td>M</td>\n      <td>M</td>\n      <td>M</td>\n      <td>M</td>\n      <td>M</td>\n      <td>4.00</td>\n      <td>CYUL 142300Z 31016G25KT 15SM SCT060 BKN180 M07...</td>\n    </tr>\n  </tbody>\n</table>\n<p>5 rows × 29 columns</p>\n</div>"
     },
     "metadata": {},
     "execution_count": 11
    }
   ],
   "source": [
    "old_weather = pd.read_csv('../CYULweather.csv')\n",
    "old_weather.tail()\n"
   ]
  },
  {
   "cell_type": "code",
   "execution_count": 12,
   "metadata": {},
   "outputs": [
    {
     "output_type": "stream",
     "name": "stdout",
     "text": [
      "2021-03-14 19:00:00\n"
     ]
    }
   ],
   "source": [
    "last_timestamp = pd.to_datetime(old_weather.tail(1).valid).tolist()[0]\n",
    "print(last_timestamp)"
   ]
  },
  {
   "cell_type": "code",
   "execution_count": 13,
   "metadata": {},
   "outputs": [
    {
     "output_type": "stream",
     "name": "stdout",
     "text": [
      "2021 3 14\n2021 3 15\n"
     ]
    }
   ],
   "source": [
    "old_year = str(last_timestamp.date().year)\n",
    "old_month = str(last_timestamp.date().month)\n",
    "old_day = str(last_timestamp.date().day)\n",
    "print(old_year, old_month, old_day)\n",
    "\n",
    "today = date.today()\n",
    "today_year = str(today.year)\n",
    "today_month = str(today.month)\n",
    "today_day = str(today.day+1)\n",
    "print(today_year, today_month, today_day)"
   ]
  },
  {
   "cell_type": "code",
   "execution_count": 15,
   "metadata": {},
   "outputs": [
    {
     "output_type": "execute_result",
     "data": {
      "text/plain": [
       "   station             valid  tmpf  dwpf   relh   drct  sknt  p01i   alti  \\\n",
       "17    CYUL  2021-03-14 15:00  24.8   3.2  38.77  320.0  14.0   0.0  30.06   \n",
       "18    CYUL  2021-03-14 16:00  23.0   3.2  41.80  330.0  18.0   0.0  30.07   \n",
       "19    CYUL  2021-03-14 17:00  23.0   1.4  38.45  330.0  19.0   0.0  30.09   \n",
       "20    CYUL  2021-03-14 18:00  21.2  -0.4  38.13  320.0  15.0   0.0  30.13   \n",
       "21    CYUL  2021-03-14 19:00  19.4  -2.2  37.82  310.0  16.0   0.0  30.16   \n",
       "\n",
       "      mslp  ...  skyl4 wxcodes ice_accretion_1hr ice_accretion_3hr  \\\n",
       "17  1018.2  ...      M    VCSH                 M                 M   \n",
       "18  1018.8  ...      M       M                 M                 M   \n",
       "19  1019.4  ...      M       M                 M                 M   \n",
       "20  1020.5  ...      M       M                 M                 M   \n",
       "21  1021.7  ...      M       M                 M                 M   \n",
       "\n",
       "   ice_accretion_6hr peak_wind_gust  peak_wind_drct peak_wind_time   feel  \\\n",
       "17                 M              M               M              M  11.88   \n",
       "18                 M              M               M              M   7.90   \n",
       "19                 M              M               M              M   7.54   \n",
       "20                 M              M               M              M   6.78   \n",
       "21                 M              M               M              M   4.00   \n",
       "\n",
       "                                                metar  \n",
       "17  CYUL 141900Z 32014G19KT 290V350 15SM VCSH BKN0...  \n",
       "18  CYUL 142000Z 33018G25KT 15SM BKN055 M05/M16 A3...  \n",
       "19  CYUL 142100Z 33019G25KT 15SM BKN055 M05/M17 A3...  \n",
       "20  CYUL 142200Z 32015G26KT 15SM BKN060 BKN170 M06...  \n",
       "21  CYUL 142300Z 31016G25KT 15SM SCT060 BKN180 M07...  \n",
       "\n",
       "[5 rows x 29 columns]"
      ],
      "text/html": "<div>\n<style scoped>\n    .dataframe tbody tr th:only-of-type {\n        vertical-align: middle;\n    }\n\n    .dataframe tbody tr th {\n        vertical-align: top;\n    }\n\n    .dataframe thead th {\n        text-align: right;\n    }\n</style>\n<table border=\"1\" class=\"dataframe\">\n  <thead>\n    <tr style=\"text-align: right;\">\n      <th></th>\n      <th>station</th>\n      <th>valid</th>\n      <th>tmpf</th>\n      <th>dwpf</th>\n      <th>relh</th>\n      <th>drct</th>\n      <th>sknt</th>\n      <th>p01i</th>\n      <th>alti</th>\n      <th>mslp</th>\n      <th>...</th>\n      <th>skyl4</th>\n      <th>wxcodes</th>\n      <th>ice_accretion_1hr</th>\n      <th>ice_accretion_3hr</th>\n      <th>ice_accretion_6hr</th>\n      <th>peak_wind_gust</th>\n      <th>peak_wind_drct</th>\n      <th>peak_wind_time</th>\n      <th>feel</th>\n      <th>metar</th>\n    </tr>\n  </thead>\n  <tbody>\n    <tr>\n      <th>17</th>\n      <td>CYUL</td>\n      <td>2021-03-14 15:00</td>\n      <td>24.8</td>\n      <td>3.2</td>\n      <td>38.77</td>\n      <td>320.0</td>\n      <td>14.0</td>\n      <td>0.0</td>\n      <td>30.06</td>\n      <td>1018.2</td>\n      <td>...</td>\n      <td>M</td>\n      <td>VCSH</td>\n      <td>M</td>\n      <td>M</td>\n      <td>M</td>\n      <td>M</td>\n      <td>M</td>\n      <td>M</td>\n      <td>11.88</td>\n      <td>CYUL 141900Z 32014G19KT 290V350 15SM VCSH BKN0...</td>\n    </tr>\n    <tr>\n      <th>18</th>\n      <td>CYUL</td>\n      <td>2021-03-14 16:00</td>\n      <td>23.0</td>\n      <td>3.2</td>\n      <td>41.80</td>\n      <td>330.0</td>\n      <td>18.0</td>\n      <td>0.0</td>\n      <td>30.07</td>\n      <td>1018.8</td>\n      <td>...</td>\n      <td>M</td>\n      <td>M</td>\n      <td>M</td>\n      <td>M</td>\n      <td>M</td>\n      <td>M</td>\n      <td>M</td>\n      <td>M</td>\n      <td>7.90</td>\n      <td>CYUL 142000Z 33018G25KT 15SM BKN055 M05/M16 A3...</td>\n    </tr>\n    <tr>\n      <th>19</th>\n      <td>CYUL</td>\n      <td>2021-03-14 17:00</td>\n      <td>23.0</td>\n      <td>1.4</td>\n      <td>38.45</td>\n      <td>330.0</td>\n      <td>19.0</td>\n      <td>0.0</td>\n      <td>30.09</td>\n      <td>1019.4</td>\n      <td>...</td>\n      <td>M</td>\n      <td>M</td>\n      <td>M</td>\n      <td>M</td>\n      <td>M</td>\n      <td>M</td>\n      <td>M</td>\n      <td>M</td>\n      <td>7.54</td>\n      <td>CYUL 142100Z 33019G25KT 15SM BKN055 M05/M17 A3...</td>\n    </tr>\n    <tr>\n      <th>20</th>\n      <td>CYUL</td>\n      <td>2021-03-14 18:00</td>\n      <td>21.2</td>\n      <td>-0.4</td>\n      <td>38.13</td>\n      <td>320.0</td>\n      <td>15.0</td>\n      <td>0.0</td>\n      <td>30.13</td>\n      <td>1020.5</td>\n      <td>...</td>\n      <td>M</td>\n      <td>M</td>\n      <td>M</td>\n      <td>M</td>\n      <td>M</td>\n      <td>M</td>\n      <td>M</td>\n      <td>M</td>\n      <td>6.78</td>\n      <td>CYUL 142200Z 32015G26KT 15SM BKN060 BKN170 M06...</td>\n    </tr>\n    <tr>\n      <th>21</th>\n      <td>CYUL</td>\n      <td>2021-03-14 19:00</td>\n      <td>19.4</td>\n      <td>-2.2</td>\n      <td>37.82</td>\n      <td>310.0</td>\n      <td>16.0</td>\n      <td>0.0</td>\n      <td>30.16</td>\n      <td>1021.7</td>\n      <td>...</td>\n      <td>M</td>\n      <td>M</td>\n      <td>M</td>\n      <td>M</td>\n      <td>M</td>\n      <td>M</td>\n      <td>M</td>\n      <td>M</td>\n      <td>4.00</td>\n      <td>CYUL 142300Z 31016G25KT 15SM SCT060 BKN180 M07...</td>\n    </tr>\n  </tbody>\n</table>\n<p>5 rows × 29 columns</p>\n</div>"
     },
     "metadata": {},
     "execution_count": 15
    }
   ],
   "source": [
    "new_weather = pd.read_csv('https://mesonet.agron.iastate.edu/cgi-bin/request/asos.py?station=CYUL&data=all&year1='+old_year+'&month1='+old_month+'&day1='+old_day+'&year2='+today_year+'&month2='+today_month+'&day2='+today_day+'&tz=America%2FNew_York&format=onlycomma&latlon=no&elev=no&missing=M&trace=T&direct=no&report_type=1&report_type=2')\n",
    "new_weather.tail()"
   ]
  },
  {
   "cell_type": "code",
   "execution_count": 18,
   "metadata": {},
   "outputs": [
    {
     "output_type": "execute_result",
     "data": {
      "text/plain": [
       "      station             valid  tmpf  dwpf   relh    drct  sknt  p01i   alti  \\\n",
       "95466    CYUL  2021-03-13 00:37    23  17.6  79.47  280.00  15.0   0.0  30.08   \n",
       "95467    CYUL  2021-03-13 01:00  24.8  15.8  68.18  280.00  13.0   0.0   30.1   \n",
       "95468    CYUL  2021-03-13 01:11  24.8    14  63.03  280.00  18.0   0.0   30.1   \n",
       "95469    CYUL  2021-03-13 02:00  24.8    14  63.03  280.00  17.0   0.0  30.14   \n",
       "95470    CYUL  2021-03-13 03:00    23  10.4  57.96  290.00  18.0   0.0  30.19   \n",
       "95471    CYUL  2021-03-13 04:00  21.2  10.4  62.53  270.00  15.0   0.0  30.23   \n",
       "95472    CYUL  2021-03-13 05:00  21.2  10.4  62.53  260.00  12.0   0.0  30.27   \n",
       "95473    CYUL  2021-03-13 06:00  17.6   6.8  62.02  280.00  16.0   0.0  30.28   \n",
       "95474    CYUL  2021-03-13 07:00  17.6   6.8  62.02  270.00  15.0   0.0  30.31   \n",
       "95475    CYUL  2021-03-13 08:00  17.6   6.8  62.02  280.00  15.0   0.0  30.31   \n",
       "95476    CYUL  2021-03-13 09:00  19.4   8.6  62.28  260.00   9.0   0.0  30.32   \n",
       "95477    CYUL  2021-03-13 10:00  21.2   8.6  57.69  280.00  11.0   0.0  30.29   \n",
       "95478    CYUL  2021-03-13 11:00  21.2  10.4  62.53  250.00  14.0   0.0  30.27   \n",
       "95479    CYUL  2021-03-13 12:00    23  10.4  57.96  280.00  12.0   0.0  30.23   \n",
       "95480    CYUL  2021-03-13 13:00  24.8  10.4  53.75  270.00  17.0   0.0  30.18   \n",
       "95481    CYUL  2021-03-13 14:00  26.6  10.4  49.88  250.00  16.0   0.0  30.14   \n",
       "95482    CYUL  2021-03-13 15:00  26.6  10.4  49.88  250.00  17.0   0.0  30.12   \n",
       "95483    CYUL  2021-03-13 16:00  28.4  10.4  46.32  250.00  19.0   0.0  30.08   \n",
       "95484    CYUL  2021-03-13 17:00  28.4  10.4  46.32  260.00  16.0   0.0  30.06   \n",
       "95485    CYUL  2021-03-13 18:00  28.4  10.4  46.32  270.00  11.0   0.0  30.04   \n",
       "95486    CYUL  2021-03-13 19:00  28.4  12.2  50.17  280.00   7.0   0.0  30.04   \n",
       "95487    CYUL  2021-03-13 20:00  26.6  17.6   68.4  270.00  14.0   0.0  30.03   \n",
       "95488    CYUL  2021-03-13 20:48  26.6  21.2  79.77  240.00   6.0   0.0  30.02   \n",
       "95489    CYUL  2021-03-13 21:00  26.6  21.2  79.77  240.00   6.0   0.0  30.01   \n",
       "95490    CYUL  2021-03-13 21:16  26.6  21.2  79.77  240.00   5.0   0.0     30   \n",
       "95491    CYUL  2021-03-13 22:00  26.6    23  86.07  210.00   3.0   0.0  29.97   \n",
       "95492    CYUL  2021-03-13 22:56  28.4  19.4  68.61  260.00   9.0   0.0  29.94   \n",
       "95493    CYUL  2021-03-13 23:00  28.4  19.4  68.61  260.00   9.0   0.0  29.94   \n",
       "95516    CYUL  2021-03-14 00:00  28.4  19.4  68.61     250   8.0   0.0  29.92   \n",
       "95517    CYUL  2021-03-14 01:00  26.6  17.6   68.4     250   8.0   0.0  29.91   \n",
       "95518    CYUL  2021-03-14 03:00  28.4  17.6  63.51     270   7.0   0.0  29.91   \n",
       "95519    CYUL  2021-03-14 04:00  28.4  17.6  63.51     260   8.0   0.0  29.88   \n",
       "95520    CYUL  2021-03-14 05:00  30.2  17.6  59.01     280   9.0   0.0  29.87   \n",
       "95521    CYUL  2021-03-14 06:00  28.4  17.6  63.51     300   9.0   0.0  29.89   \n",
       "95522    CYUL  2021-03-14 07:00  26.6  17.6   68.4     280   9.0   0.0   29.9   \n",
       "95523    CYUL  2021-03-14 08:00  26.6  15.8  63.27     270  10.0   0.0  29.91   \n",
       "95524    CYUL  2021-03-14 09:00  26.6  15.8  63.27     290  15.0   0.0  29.92   \n",
       "95525    CYUL  2021-03-14 09:44  26.6  15.8  63.27     290  18.0   0.0  29.95   \n",
       "95526    CYUL  2021-03-14 10:00  24.8  19.4  79.62     320  13.0   0.0  29.96   \n",
       "95527    CYUL  2021-03-14 10:07  24.8  21.2  85.96     330  10.0   0.0  29.96   \n",
       "95528    CYUL  2021-03-14 10:25  26.6   8.6  46.02     300  23.0   0.0  29.96   \n",
       "95529    CYUL  2021-03-14 11:00  26.6   3.2  35.98     300  23.0   0.0  29.97   \n",
       "95530    CYUL  2021-03-14 12:00  24.8   6.8  45.71     300  21.0   0.0  29.99   \n",
       "95531    CYUL  2021-03-14 13:00  24.8   6.8  45.71     310  20.0   0.0  30.02   \n",
       "95532    CYUL  2021-03-14 14:00  24.8     5  42.11     320  21.0   0.0  30.04   \n",
       "95533    CYUL  2021-03-14 15:00  24.8   3.2  38.77     320  14.0   0.0  30.06   \n",
       "95534    CYUL  2021-03-14 16:00    23   3.2   41.8     330  18.0   0.0  30.07   \n",
       "95535    CYUL  2021-03-14 17:00    23   1.4  38.45     330  19.0   0.0  30.09   \n",
       "95536    CYUL  2021-03-14 18:00  21.2  -0.4  38.13     320  15.0   0.0  30.13   \n",
       "95537    CYUL  2021-03-14 19:00  19.4  -2.2  37.82     310  16.0   0.0  30.16   \n",
       "\n",
       "         mslp  ...     skyl4    wxcodes ice_accretion_1hr ice_accretion_3hr  \\\n",
       "95466    1019  ...         M        -SN                 M                 M   \n",
       "95467  1019.6  ...         M          M                 M                 M   \n",
       "95468  1019.8  ...         M          M                 M                 M   \n",
       "95469    1021  ...         M          M                 M                 M   \n",
       "95470  1022.8  ...         M          M                 M                 M   \n",
       "95471  1024.2  ...         M          M                 M                 M   \n",
       "95472  1025.5  ...         M          M                 M                 M   \n",
       "95473  1025.8  ...         M          M                 M                 M   \n",
       "95474  1026.7  ...         M          M                 M                 M   \n",
       "95475  1026.8  ...         M          M                 M                 M   \n",
       "95476  1027.2  ...         M          M                 M                 M   \n",
       "95477  1026.1  ...         M          M                 M                 M   \n",
       "95478  1025.3  ...         M          M                 M                 M   \n",
       "95479  1023.9  ...         M          M                 M                 M   \n",
       "95480  1022.5  ...  25000.00          M                 M                 M   \n",
       "95481  1021.1  ...         M          M                 M                 M   \n",
       "95482  1020.2  ...         M          M                 M                 M   \n",
       "95483  1019.1  ...         M          M                 M                 M   \n",
       "95484  1018.3  ...         M          M                 M                 M   \n",
       "95485  1017.6  ...         M          M                 M                 M   \n",
       "95486  1017.7  ...         M          M                 M                 M   \n",
       "95487  1017.4  ...         M        -SN                 M                 M   \n",
       "95488  1016.9  ...         M        -SN                 M                 M   \n",
       "95489  1016.7  ...         M        -SN                 M                 M   \n",
       "95490  1016.3  ...         M        -SN                 M                 M   \n",
       "95491  1015.3  ...         M        -SN                 M                 M   \n",
       "95492  1014.4  ...         M          M                 M                 M   \n",
       "95493  1014.4  ...         M          M                 M                 M   \n",
       "95516  1013.7  ...         M          M                 M                 M   \n",
       "95517  1013.3  ...         M          M                 M                 M   \n",
       "95518  1013.2  ...         M          M                 M                 M   \n",
       "95519  1012.3  ...         M          M                 M                 M   \n",
       "95520  1011.8  ...         M          M                 M                 M   \n",
       "95521  1012.4  ...         M          M                 M                 M   \n",
       "95522  1012.8  ...         M          M                 M                 M   \n",
       "95523  1013.3  ...         M          M                 M                 M   \n",
       "95524  1013.7  ...         M          M                 M                 M   \n",
       "95525  1014.5  ...         M        -SN                 M                 M   \n",
       "95526  1014.8  ...         M         SN                 M                 M   \n",
       "95527  1014.8  ...         M        -SN                 M                 M   \n",
       "95528  1014.9  ...         M  DRSN VCSH                 M                 M   \n",
       "95529  1015.2  ...         M          M                 M                 M   \n",
       "95530  1015.9  ...         M          M                 M                 M   \n",
       "95531  1017.1  ...         M          M                 M                 M   \n",
       "95532  1017.7  ...         M       VCSH                 M                 M   \n",
       "95533  1018.2  ...         M       VCSH                 M                 M   \n",
       "95534  1018.8  ...         M          M                 M                 M   \n",
       "95535  1019.4  ...         M          M                 M                 M   \n",
       "95536  1020.5  ...         M          M                 M                 M   \n",
       "95537  1021.7  ...         M          M                 M                 M   \n",
       "\n",
       "      ice_accretion_6hr peak_wind_gust peak_wind_drct peak_wind_time   feel  \\\n",
       "95466                 M              M              M              M   9.11   \n",
       "95467                 M              M              M              M  12.34   \n",
       "95468                 M              M              M              M  10.27   \n",
       "95469                 M              M              M              M  10.64   \n",
       "95470                 M              M              M              M   7.90   \n",
       "95471                 M              M              M              M   6.78   \n",
       "95472                 M              M              M              M   8.26   \n",
       "95473                 M              M              M              M   1.65   \n",
       "95474                 M              M              M              M   2.11   \n",
       "95475                 M              M              M              M   2.11   \n",
       "95476                 M              M              M              M   7.85   \n",
       "95477                 M              M              M              M   8.82   \n",
       "95478                 M              M              M              M   7.24   \n",
       "95479                 M              M              M              M  10.55   \n",
       "95480                 M              M              M              M  10.64   \n",
       "95481                 M              M              M              M  13.38   \n",
       "95482                 M              M              M              M  13.00   \n",
       "95483                 M              M              M              M  14.68   \n",
       "95484                 M              M              M              M  15.73   \n",
       "95485                 M              M              M              M  17.92   \n",
       "95486                 M              M              M              M  20.39   \n",
       "95487                 M              M              M              M  14.20   \n",
       "95488                 M              M              M              M  19.03   \n",
       "95489                 M              M              M              M  19.03   \n",
       "95490                 M              M              M              M  19.98   \n",
       "95491                 M              M              M              M  22.52   \n",
       "95492                 M              M              M              M  19.04   \n",
       "95493                 M              M              M              M  19.04   \n",
       "95516                 M              M              M              M  19.68   \n",
       "95517                 M              M              M              M  17.46   \n",
       "95518                 M              M              M              M  20.39   \n",
       "95519                 M              M              M              M  19.68   \n",
       "95520                 M              M              M              M  21.28   \n",
       "95521                 M              M              M              M  19.04   \n",
       "95522                 M              M              M              M   16.8   \n",
       "95523                 M              M              M              M   16.2   \n",
       "95524                 M              M              M              M  13.78   \n",
       "95525                 M              M              M              M  12.64   \n",
       "95526                 M              M              M              M  12.34   \n",
       "95527                 M              M              M              M  13.94   \n",
       "95528                 M              M              M              M  11.06   \n",
       "95529                 M              M              M              M  11.06   \n",
       "95530                 M              M              M              M   9.25   \n",
       "95531                 M              M              M              M   9.58   \n",
       "95532                 M              M              M              M   9.25   \n",
       "95533                 M              M              M              M  11.88   \n",
       "95534                 M              M              M              M    7.9   \n",
       "95535                 M              M              M              M   7.54   \n",
       "95536                 M              M              M              M   6.78   \n",
       "95537                 M              M              M              M      4   \n",
       "\n",
       "                                                   metar  \n",
       "95466  CYUL 130537Z 28015G23KT 6SM -SN OVC020 M05/M08...  \n",
       "95467  CYUL 130600Z 28013G25KT 15SM SCT036 BKN098 M04...  \n",
       "95468  CYUL 130611Z 28018G26KT 15SM FEW035 SCT120 M04...  \n",
       "95469  CYUL 130700Z 28017G26KT 15SM SCT039 BKN120 M04...  \n",
       "95470  CYUL 130800Z 29018G24KT 15SM SKC M05/M12 A3019...  \n",
       "95471  CYUL 130900Z 27015G21KT 15SM FEW024 M06/M12 A3...  \n",
       "95472  CYUL 131000Z 26012G22KT 15SM SCT030 M06/M12 A3...  \n",
       "95473  CYUL 131100Z 28016KT 15SM FEW027 M08/M14 A3028...  \n",
       "95474  CYUL 131200Z 27015G22KT 30SM SKC M08/M14 A3031...  \n",
       "95475  CYUL 131300Z 28015KT 30SM FEW024 BKN210 M08/M1...  \n",
       "95476  CYUL 131400Z 26009G19KT 30SM FEW026 M07/M13 A3...  \n",
       "95477  CYUL 131500Z 28011G17KT 30SM FEW028 FEW140 BKN...  \n",
       "95478  CYUL 131600Z 25014KT 30SM FEW028 FEW130 BKN220...  \n",
       "95479  CYUL 131700Z 28012KT 30SM FEW028 FEW120 BKN220...  \n",
       "95480  CYUL 131800Z 27017KT 30SM FEW030 FEW120 BKN170...  \n",
       "95481  CYUL 131900Z 25016G23KT 30SM FEW030 FEW170 OVC...  \n",
       "95482  CYUL 132000Z 25017G25KT 30SM FEW035 FEW160 BKN...  \n",
       "95483  CYUL 132100Z 25019G25KT 30SM FEW082 FEW130 BKN...  \n",
       "95484  CYUL 132200Z 26016G23KT 30SM FEW085 FEW130 FEW...  \n",
       "95485  CYUL 132300Z 27011G18KT 30SM FEW090 FEW150 FEW...  \n",
       "95486  CYUL 140000Z 28007KT 15SM OVC065 M02/M11 A3004...  \n",
       "95487  CYUL 140100Z 27014KT 12SM -SN OVC060 M03/M08 A...  \n",
       "95488  CYUL 140148Z 24006KT 2 1/2SM -SN OVC022 M03/M0...  \n",
       "95489  CYUL 140200Z 24006KT 220V280 2 1/2SM -SN OVC02...  \n",
       "95490  CYUL 140216Z 24005KT 3SM -SN OVC055 M03/M06 A3...  \n",
       "95491  CYUL 140300Z 21003KT 15SM -SN OVC046 M03/M05 A...  \n",
       "95492  CYUL 140356Z 26009KT 15SM BKN100 M02/M07 A2994...  \n",
       "95493  CYUL 140400Z 26009KT 15SM SCT049 BKN097 M02/M0...  \n",
       "95516  CYUL 140500Z 25008KT 15SM SCT046 M02/M07 A2992...  \n",
       "95517  CYUL 140600Z 25008KT 15SM FEW038 M03/M08 A2991...  \n",
       "95518  CYUL 140700Z 27007KT 15SM BKN120 M02/M08 A2991...  \n",
       "95519  CYUL 140800Z 26008KT 15SM SCT035 M02/M08 A2988...  \n",
       "95520  CYUL 140900Z 28009KT 15SM BKN041 M01/M08 A2987...  \n",
       "95521  CYUL 141000Z 30009KT 15SM BKN036 M02/M08 A2989...  \n",
       "95522  CYUL 141100Z 28009KT 15SM BKN040 M03/M08 A2990...  \n",
       "95523  CYUL 141200Z 27010KT 20SM SCT035 BKN063 M03/M0...  \n",
       "95524  CYUL 141300Z 29015KT 15SM BKN026 M03/M09 A2992...  \n",
       "95525  CYUL 141344Z 29018G28KT 6SM -SN OVC022 M03/M09...  \n",
       "95526  CYUL 141400Z 32013G26KT 1/2SM R24R/2400VP6000F...  \n",
       "95527  CYUL 141407Z 33010G19KT 15SM R24R/2600V4500FT/...  \n",
       "95528  CYUL 141425Z 30023G29KT 270V330 15SM DRSN VCSH...  \n",
       "95529  CYUL 141500Z 30023G33KT 15SM FEW040 BKN070 M03...  \n",
       "95530  CYUL 141600Z 30021G27KT 30SM SCT045 BKN120 BKN...  \n",
       "95531  CYUL 141700Z 31020G29KT 15SM SCT045 BKN220 M04...  \n",
       "95532  CYUL 141800Z 32021G28KT 15SM VCSH BKN045 OVC25...  \n",
       "95533  CYUL 141900Z 32014G19KT 290V350 15SM VCSH BKN0...  \n",
       "95534  CYUL 142000Z 33018G25KT 15SM BKN055 M05/M16 A3...  \n",
       "95535  CYUL 142100Z 33019G25KT 15SM BKN055 M05/M17 A3...  \n",
       "95536  CYUL 142200Z 32015G26KT 15SM BKN060 BKN170 M06...  \n",
       "95537  CYUL 142300Z 31016G25KT 15SM SCT060 BKN180 M07...  \n",
       "\n",
       "[50 rows x 29 columns]"
      ],
      "text/html": "<div>\n<style scoped>\n    .dataframe tbody tr th:only-of-type {\n        vertical-align: middle;\n    }\n\n    .dataframe tbody tr th {\n        vertical-align: top;\n    }\n\n    .dataframe thead th {\n        text-align: right;\n    }\n</style>\n<table border=\"1\" class=\"dataframe\">\n  <thead>\n    <tr style=\"text-align: right;\">\n      <th></th>\n      <th>station</th>\n      <th>valid</th>\n      <th>tmpf</th>\n      <th>dwpf</th>\n      <th>relh</th>\n      <th>drct</th>\n      <th>sknt</th>\n      <th>p01i</th>\n      <th>alti</th>\n      <th>mslp</th>\n      <th>...</th>\n      <th>skyl4</th>\n      <th>wxcodes</th>\n      <th>ice_accretion_1hr</th>\n      <th>ice_accretion_3hr</th>\n      <th>ice_accretion_6hr</th>\n      <th>peak_wind_gust</th>\n      <th>peak_wind_drct</th>\n      <th>peak_wind_time</th>\n      <th>feel</th>\n      <th>metar</th>\n    </tr>\n  </thead>\n  <tbody>\n    <tr>\n      <th>95466</th>\n      <td>CYUL</td>\n      <td>2021-03-13 00:37</td>\n      <td>23</td>\n      <td>17.6</td>\n      <td>79.47</td>\n      <td>280.00</td>\n      <td>15.0</td>\n      <td>0.0</td>\n      <td>30.08</td>\n      <td>1019</td>\n      <td>...</td>\n      <td>M</td>\n      <td>-SN</td>\n      <td>M</td>\n      <td>M</td>\n      <td>M</td>\n      <td>M</td>\n      <td>M</td>\n      <td>M</td>\n      <td>9.11</td>\n      <td>CYUL 130537Z 28015G23KT 6SM -SN OVC020 M05/M08...</td>\n    </tr>\n    <tr>\n      <th>95467</th>\n      <td>CYUL</td>\n      <td>2021-03-13 01:00</td>\n      <td>24.8</td>\n      <td>15.8</td>\n      <td>68.18</td>\n      <td>280.00</td>\n      <td>13.0</td>\n      <td>0.0</td>\n      <td>30.1</td>\n      <td>1019.6</td>\n      <td>...</td>\n      <td>M</td>\n      <td>M</td>\n      <td>M</td>\n      <td>M</td>\n      <td>M</td>\n      <td>M</td>\n      <td>M</td>\n      <td>M</td>\n      <td>12.34</td>\n      <td>CYUL 130600Z 28013G25KT 15SM SCT036 BKN098 M04...</td>\n    </tr>\n    <tr>\n      <th>95468</th>\n      <td>CYUL</td>\n      <td>2021-03-13 01:11</td>\n      <td>24.8</td>\n      <td>14</td>\n      <td>63.03</td>\n      <td>280.00</td>\n      <td>18.0</td>\n      <td>0.0</td>\n      <td>30.1</td>\n      <td>1019.8</td>\n      <td>...</td>\n      <td>M</td>\n      <td>M</td>\n      <td>M</td>\n      <td>M</td>\n      <td>M</td>\n      <td>M</td>\n      <td>M</td>\n      <td>M</td>\n      <td>10.27</td>\n      <td>CYUL 130611Z 28018G26KT 15SM FEW035 SCT120 M04...</td>\n    </tr>\n    <tr>\n      <th>95469</th>\n      <td>CYUL</td>\n      <td>2021-03-13 02:00</td>\n      <td>24.8</td>\n      <td>14</td>\n      <td>63.03</td>\n      <td>280.00</td>\n      <td>17.0</td>\n      <td>0.0</td>\n      <td>30.14</td>\n      <td>1021</td>\n      <td>...</td>\n      <td>M</td>\n      <td>M</td>\n      <td>M</td>\n      <td>M</td>\n      <td>M</td>\n      <td>M</td>\n      <td>M</td>\n      <td>M</td>\n      <td>10.64</td>\n      <td>CYUL 130700Z 28017G26KT 15SM SCT039 BKN120 M04...</td>\n    </tr>\n    <tr>\n      <th>95470</th>\n      <td>CYUL</td>\n      <td>2021-03-13 03:00</td>\n      <td>23</td>\n      <td>10.4</td>\n      <td>57.96</td>\n      <td>290.00</td>\n      <td>18.0</td>\n      <td>0.0</td>\n      <td>30.19</td>\n      <td>1022.8</td>\n      <td>...</td>\n      <td>M</td>\n      <td>M</td>\n      <td>M</td>\n      <td>M</td>\n      <td>M</td>\n      <td>M</td>\n      <td>M</td>\n      <td>M</td>\n      <td>7.90</td>\n      <td>CYUL 130800Z 29018G24KT 15SM SKC M05/M12 A3019...</td>\n    </tr>\n    <tr>\n      <th>95471</th>\n      <td>CYUL</td>\n      <td>2021-03-13 04:00</td>\n      <td>21.2</td>\n      <td>10.4</td>\n      <td>62.53</td>\n      <td>270.00</td>\n      <td>15.0</td>\n      <td>0.0</td>\n      <td>30.23</td>\n      <td>1024.2</td>\n      <td>...</td>\n      <td>M</td>\n      <td>M</td>\n      <td>M</td>\n      <td>M</td>\n      <td>M</td>\n      <td>M</td>\n      <td>M</td>\n      <td>M</td>\n      <td>6.78</td>\n      <td>CYUL 130900Z 27015G21KT 15SM FEW024 M06/M12 A3...</td>\n    </tr>\n    <tr>\n      <th>95472</th>\n      <td>CYUL</td>\n      <td>2021-03-13 05:00</td>\n      <td>21.2</td>\n      <td>10.4</td>\n      <td>62.53</td>\n      <td>260.00</td>\n      <td>12.0</td>\n      <td>0.0</td>\n      <td>30.27</td>\n      <td>1025.5</td>\n      <td>...</td>\n      <td>M</td>\n      <td>M</td>\n      <td>M</td>\n      <td>M</td>\n      <td>M</td>\n      <td>M</td>\n      <td>M</td>\n      <td>M</td>\n      <td>8.26</td>\n      <td>CYUL 131000Z 26012G22KT 15SM SCT030 M06/M12 A3...</td>\n    </tr>\n    <tr>\n      <th>95473</th>\n      <td>CYUL</td>\n      <td>2021-03-13 06:00</td>\n      <td>17.6</td>\n      <td>6.8</td>\n      <td>62.02</td>\n      <td>280.00</td>\n      <td>16.0</td>\n      <td>0.0</td>\n      <td>30.28</td>\n      <td>1025.8</td>\n      <td>...</td>\n      <td>M</td>\n      <td>M</td>\n      <td>M</td>\n      <td>M</td>\n      <td>M</td>\n      <td>M</td>\n      <td>M</td>\n      <td>M</td>\n      <td>1.65</td>\n      <td>CYUL 131100Z 28016KT 15SM FEW027 M08/M14 A3028...</td>\n    </tr>\n    <tr>\n      <th>95474</th>\n      <td>CYUL</td>\n      <td>2021-03-13 07:00</td>\n      <td>17.6</td>\n      <td>6.8</td>\n      <td>62.02</td>\n      <td>270.00</td>\n      <td>15.0</td>\n      <td>0.0</td>\n      <td>30.31</td>\n      <td>1026.7</td>\n      <td>...</td>\n      <td>M</td>\n      <td>M</td>\n      <td>M</td>\n      <td>M</td>\n      <td>M</td>\n      <td>M</td>\n      <td>M</td>\n      <td>M</td>\n      <td>2.11</td>\n      <td>CYUL 131200Z 27015G22KT 30SM SKC M08/M14 A3031...</td>\n    </tr>\n    <tr>\n      <th>95475</th>\n      <td>CYUL</td>\n      <td>2021-03-13 08:00</td>\n      <td>17.6</td>\n      <td>6.8</td>\n      <td>62.02</td>\n      <td>280.00</td>\n      <td>15.0</td>\n      <td>0.0</td>\n      <td>30.31</td>\n      <td>1026.8</td>\n      <td>...</td>\n      <td>M</td>\n      <td>M</td>\n      <td>M</td>\n      <td>M</td>\n      <td>M</td>\n      <td>M</td>\n      <td>M</td>\n      <td>M</td>\n      <td>2.11</td>\n      <td>CYUL 131300Z 28015KT 30SM FEW024 BKN210 M08/M1...</td>\n    </tr>\n    <tr>\n      <th>95476</th>\n      <td>CYUL</td>\n      <td>2021-03-13 09:00</td>\n      <td>19.4</td>\n      <td>8.6</td>\n      <td>62.28</td>\n      <td>260.00</td>\n      <td>9.0</td>\n      <td>0.0</td>\n      <td>30.32</td>\n      <td>1027.2</td>\n      <td>...</td>\n      <td>M</td>\n      <td>M</td>\n      <td>M</td>\n      <td>M</td>\n      <td>M</td>\n      <td>M</td>\n      <td>M</td>\n      <td>M</td>\n      <td>7.85</td>\n      <td>CYUL 131400Z 26009G19KT 30SM FEW026 M07/M13 A3...</td>\n    </tr>\n    <tr>\n      <th>95477</th>\n      <td>CYUL</td>\n      <td>2021-03-13 10:00</td>\n      <td>21.2</td>\n      <td>8.6</td>\n      <td>57.69</td>\n      <td>280.00</td>\n      <td>11.0</td>\n      <td>0.0</td>\n      <td>30.29</td>\n      <td>1026.1</td>\n      <td>...</td>\n      <td>M</td>\n      <td>M</td>\n      <td>M</td>\n      <td>M</td>\n      <td>M</td>\n      <td>M</td>\n      <td>M</td>\n      <td>M</td>\n      <td>8.82</td>\n      <td>CYUL 131500Z 28011G17KT 30SM FEW028 FEW140 BKN...</td>\n    </tr>\n    <tr>\n      <th>95478</th>\n      <td>CYUL</td>\n      <td>2021-03-13 11:00</td>\n      <td>21.2</td>\n      <td>10.4</td>\n      <td>62.53</td>\n      <td>250.00</td>\n      <td>14.0</td>\n      <td>0.0</td>\n      <td>30.27</td>\n      <td>1025.3</td>\n      <td>...</td>\n      <td>M</td>\n      <td>M</td>\n      <td>M</td>\n      <td>M</td>\n      <td>M</td>\n      <td>M</td>\n      <td>M</td>\n      <td>M</td>\n      <td>7.24</td>\n      <td>CYUL 131600Z 25014KT 30SM FEW028 FEW130 BKN220...</td>\n    </tr>\n    <tr>\n      <th>95479</th>\n      <td>CYUL</td>\n      <td>2021-03-13 12:00</td>\n      <td>23</td>\n      <td>10.4</td>\n      <td>57.96</td>\n      <td>280.00</td>\n      <td>12.0</td>\n      <td>0.0</td>\n      <td>30.23</td>\n      <td>1023.9</td>\n      <td>...</td>\n      <td>M</td>\n      <td>M</td>\n      <td>M</td>\n      <td>M</td>\n      <td>M</td>\n      <td>M</td>\n      <td>M</td>\n      <td>M</td>\n      <td>10.55</td>\n      <td>CYUL 131700Z 28012KT 30SM FEW028 FEW120 BKN220...</td>\n    </tr>\n    <tr>\n      <th>95480</th>\n      <td>CYUL</td>\n      <td>2021-03-13 13:00</td>\n      <td>24.8</td>\n      <td>10.4</td>\n      <td>53.75</td>\n      <td>270.00</td>\n      <td>17.0</td>\n      <td>0.0</td>\n      <td>30.18</td>\n      <td>1022.5</td>\n      <td>...</td>\n      <td>25000.00</td>\n      <td>M</td>\n      <td>M</td>\n      <td>M</td>\n      <td>M</td>\n      <td>M</td>\n      <td>M</td>\n      <td>M</td>\n      <td>10.64</td>\n      <td>CYUL 131800Z 27017KT 30SM FEW030 FEW120 BKN170...</td>\n    </tr>\n    <tr>\n      <th>95481</th>\n      <td>CYUL</td>\n      <td>2021-03-13 14:00</td>\n      <td>26.6</td>\n      <td>10.4</td>\n      <td>49.88</td>\n      <td>250.00</td>\n      <td>16.0</td>\n      <td>0.0</td>\n      <td>30.14</td>\n      <td>1021.1</td>\n      <td>...</td>\n      <td>M</td>\n      <td>M</td>\n      <td>M</td>\n      <td>M</td>\n      <td>M</td>\n      <td>M</td>\n      <td>M</td>\n      <td>M</td>\n      <td>13.38</td>\n      <td>CYUL 131900Z 25016G23KT 30SM FEW030 FEW170 OVC...</td>\n    </tr>\n    <tr>\n      <th>95482</th>\n      <td>CYUL</td>\n      <td>2021-03-13 15:00</td>\n      <td>26.6</td>\n      <td>10.4</td>\n      <td>49.88</td>\n      <td>250.00</td>\n      <td>17.0</td>\n      <td>0.0</td>\n      <td>30.12</td>\n      <td>1020.2</td>\n      <td>...</td>\n      <td>M</td>\n      <td>M</td>\n      <td>M</td>\n      <td>M</td>\n      <td>M</td>\n      <td>M</td>\n      <td>M</td>\n      <td>M</td>\n      <td>13.00</td>\n      <td>CYUL 132000Z 25017G25KT 30SM FEW035 FEW160 BKN...</td>\n    </tr>\n    <tr>\n      <th>95483</th>\n      <td>CYUL</td>\n      <td>2021-03-13 16:00</td>\n      <td>28.4</td>\n      <td>10.4</td>\n      <td>46.32</td>\n      <td>250.00</td>\n      <td>19.0</td>\n      <td>0.0</td>\n      <td>30.08</td>\n      <td>1019.1</td>\n      <td>...</td>\n      <td>M</td>\n      <td>M</td>\n      <td>M</td>\n      <td>M</td>\n      <td>M</td>\n      <td>M</td>\n      <td>M</td>\n      <td>M</td>\n      <td>14.68</td>\n      <td>CYUL 132100Z 25019G25KT 30SM FEW082 FEW130 BKN...</td>\n    </tr>\n    <tr>\n      <th>95484</th>\n      <td>CYUL</td>\n      <td>2021-03-13 17:00</td>\n      <td>28.4</td>\n      <td>10.4</td>\n      <td>46.32</td>\n      <td>260.00</td>\n      <td>16.0</td>\n      <td>0.0</td>\n      <td>30.06</td>\n      <td>1018.3</td>\n      <td>...</td>\n      <td>M</td>\n      <td>M</td>\n      <td>M</td>\n      <td>M</td>\n      <td>M</td>\n      <td>M</td>\n      <td>M</td>\n      <td>M</td>\n      <td>15.73</td>\n      <td>CYUL 132200Z 26016G23KT 30SM FEW085 FEW130 FEW...</td>\n    </tr>\n    <tr>\n      <th>95485</th>\n      <td>CYUL</td>\n      <td>2021-03-13 18:00</td>\n      <td>28.4</td>\n      <td>10.4</td>\n      <td>46.32</td>\n      <td>270.00</td>\n      <td>11.0</td>\n      <td>0.0</td>\n      <td>30.04</td>\n      <td>1017.6</td>\n      <td>...</td>\n      <td>M</td>\n      <td>M</td>\n      <td>M</td>\n      <td>M</td>\n      <td>M</td>\n      <td>M</td>\n      <td>M</td>\n      <td>M</td>\n      <td>17.92</td>\n      <td>CYUL 132300Z 27011G18KT 30SM FEW090 FEW150 FEW...</td>\n    </tr>\n    <tr>\n      <th>95486</th>\n      <td>CYUL</td>\n      <td>2021-03-13 19:00</td>\n      <td>28.4</td>\n      <td>12.2</td>\n      <td>50.17</td>\n      <td>280.00</td>\n      <td>7.0</td>\n      <td>0.0</td>\n      <td>30.04</td>\n      <td>1017.7</td>\n      <td>...</td>\n      <td>M</td>\n      <td>M</td>\n      <td>M</td>\n      <td>M</td>\n      <td>M</td>\n      <td>M</td>\n      <td>M</td>\n      <td>M</td>\n      <td>20.39</td>\n      <td>CYUL 140000Z 28007KT 15SM OVC065 M02/M11 A3004...</td>\n    </tr>\n    <tr>\n      <th>95487</th>\n      <td>CYUL</td>\n      <td>2021-03-13 20:00</td>\n      <td>26.6</td>\n      <td>17.6</td>\n      <td>68.4</td>\n      <td>270.00</td>\n      <td>14.0</td>\n      <td>0.0</td>\n      <td>30.03</td>\n      <td>1017.4</td>\n      <td>...</td>\n      <td>M</td>\n      <td>-SN</td>\n      <td>M</td>\n      <td>M</td>\n      <td>M</td>\n      <td>M</td>\n      <td>M</td>\n      <td>M</td>\n      <td>14.20</td>\n      <td>CYUL 140100Z 27014KT 12SM -SN OVC060 M03/M08 A...</td>\n    </tr>\n    <tr>\n      <th>95488</th>\n      <td>CYUL</td>\n      <td>2021-03-13 20:48</td>\n      <td>26.6</td>\n      <td>21.2</td>\n      <td>79.77</td>\n      <td>240.00</td>\n      <td>6.0</td>\n      <td>0.0</td>\n      <td>30.02</td>\n      <td>1016.9</td>\n      <td>...</td>\n      <td>M</td>\n      <td>-SN</td>\n      <td>M</td>\n      <td>M</td>\n      <td>M</td>\n      <td>M</td>\n      <td>M</td>\n      <td>M</td>\n      <td>19.03</td>\n      <td>CYUL 140148Z 24006KT 2 1/2SM -SN OVC022 M03/M0...</td>\n    </tr>\n    <tr>\n      <th>95489</th>\n      <td>CYUL</td>\n      <td>2021-03-13 21:00</td>\n      <td>26.6</td>\n      <td>21.2</td>\n      <td>79.77</td>\n      <td>240.00</td>\n      <td>6.0</td>\n      <td>0.0</td>\n      <td>30.01</td>\n      <td>1016.7</td>\n      <td>...</td>\n      <td>M</td>\n      <td>-SN</td>\n      <td>M</td>\n      <td>M</td>\n      <td>M</td>\n      <td>M</td>\n      <td>M</td>\n      <td>M</td>\n      <td>19.03</td>\n      <td>CYUL 140200Z 24006KT 220V280 2 1/2SM -SN OVC02...</td>\n    </tr>\n    <tr>\n      <th>95490</th>\n      <td>CYUL</td>\n      <td>2021-03-13 21:16</td>\n      <td>26.6</td>\n      <td>21.2</td>\n      <td>79.77</td>\n      <td>240.00</td>\n      <td>5.0</td>\n      <td>0.0</td>\n      <td>30</td>\n      <td>1016.3</td>\n      <td>...</td>\n      <td>M</td>\n      <td>-SN</td>\n      <td>M</td>\n      <td>M</td>\n      <td>M</td>\n      <td>M</td>\n      <td>M</td>\n      <td>M</td>\n      <td>19.98</td>\n      <td>CYUL 140216Z 24005KT 3SM -SN OVC055 M03/M06 A3...</td>\n    </tr>\n    <tr>\n      <th>95491</th>\n      <td>CYUL</td>\n      <td>2021-03-13 22:00</td>\n      <td>26.6</td>\n      <td>23</td>\n      <td>86.07</td>\n      <td>210.00</td>\n      <td>3.0</td>\n      <td>0.0</td>\n      <td>29.97</td>\n      <td>1015.3</td>\n      <td>...</td>\n      <td>M</td>\n      <td>-SN</td>\n      <td>M</td>\n      <td>M</td>\n      <td>M</td>\n      <td>M</td>\n      <td>M</td>\n      <td>M</td>\n      <td>22.52</td>\n      <td>CYUL 140300Z 21003KT 15SM -SN OVC046 M03/M05 A...</td>\n    </tr>\n    <tr>\n      <th>95492</th>\n      <td>CYUL</td>\n      <td>2021-03-13 22:56</td>\n      <td>28.4</td>\n      <td>19.4</td>\n      <td>68.61</td>\n      <td>260.00</td>\n      <td>9.0</td>\n      <td>0.0</td>\n      <td>29.94</td>\n      <td>1014.4</td>\n      <td>...</td>\n      <td>M</td>\n      <td>M</td>\n      <td>M</td>\n      <td>M</td>\n      <td>M</td>\n      <td>M</td>\n      <td>M</td>\n      <td>M</td>\n      <td>19.04</td>\n      <td>CYUL 140356Z 26009KT 15SM BKN100 M02/M07 A2994...</td>\n    </tr>\n    <tr>\n      <th>95493</th>\n      <td>CYUL</td>\n      <td>2021-03-13 23:00</td>\n      <td>28.4</td>\n      <td>19.4</td>\n      <td>68.61</td>\n      <td>260.00</td>\n      <td>9.0</td>\n      <td>0.0</td>\n      <td>29.94</td>\n      <td>1014.4</td>\n      <td>...</td>\n      <td>M</td>\n      <td>M</td>\n      <td>M</td>\n      <td>M</td>\n      <td>M</td>\n      <td>M</td>\n      <td>M</td>\n      <td>M</td>\n      <td>19.04</td>\n      <td>CYUL 140400Z 26009KT 15SM SCT049 BKN097 M02/M0...</td>\n    </tr>\n    <tr>\n      <th>95516</th>\n      <td>CYUL</td>\n      <td>2021-03-14 00:00</td>\n      <td>28.4</td>\n      <td>19.4</td>\n      <td>68.61</td>\n      <td>250</td>\n      <td>8.0</td>\n      <td>0.0</td>\n      <td>29.92</td>\n      <td>1013.7</td>\n      <td>...</td>\n      <td>M</td>\n      <td>M</td>\n      <td>M</td>\n      <td>M</td>\n      <td>M</td>\n      <td>M</td>\n      <td>M</td>\n      <td>M</td>\n      <td>19.68</td>\n      <td>CYUL 140500Z 25008KT 15SM SCT046 M02/M07 A2992...</td>\n    </tr>\n    <tr>\n      <th>95517</th>\n      <td>CYUL</td>\n      <td>2021-03-14 01:00</td>\n      <td>26.6</td>\n      <td>17.6</td>\n      <td>68.4</td>\n      <td>250</td>\n      <td>8.0</td>\n      <td>0.0</td>\n      <td>29.91</td>\n      <td>1013.3</td>\n      <td>...</td>\n      <td>M</td>\n      <td>M</td>\n      <td>M</td>\n      <td>M</td>\n      <td>M</td>\n      <td>M</td>\n      <td>M</td>\n      <td>M</td>\n      <td>17.46</td>\n      <td>CYUL 140600Z 25008KT 15SM FEW038 M03/M08 A2991...</td>\n    </tr>\n    <tr>\n      <th>95518</th>\n      <td>CYUL</td>\n      <td>2021-03-14 03:00</td>\n      <td>28.4</td>\n      <td>17.6</td>\n      <td>63.51</td>\n      <td>270</td>\n      <td>7.0</td>\n      <td>0.0</td>\n      <td>29.91</td>\n      <td>1013.2</td>\n      <td>...</td>\n      <td>M</td>\n      <td>M</td>\n      <td>M</td>\n      <td>M</td>\n      <td>M</td>\n      <td>M</td>\n      <td>M</td>\n      <td>M</td>\n      <td>20.39</td>\n      <td>CYUL 140700Z 27007KT 15SM BKN120 M02/M08 A2991...</td>\n    </tr>\n    <tr>\n      <th>95519</th>\n      <td>CYUL</td>\n      <td>2021-03-14 04:00</td>\n      <td>28.4</td>\n      <td>17.6</td>\n      <td>63.51</td>\n      <td>260</td>\n      <td>8.0</td>\n      <td>0.0</td>\n      <td>29.88</td>\n      <td>1012.3</td>\n      <td>...</td>\n      <td>M</td>\n      <td>M</td>\n      <td>M</td>\n      <td>M</td>\n      <td>M</td>\n      <td>M</td>\n      <td>M</td>\n      <td>M</td>\n      <td>19.68</td>\n      <td>CYUL 140800Z 26008KT 15SM SCT035 M02/M08 A2988...</td>\n    </tr>\n    <tr>\n      <th>95520</th>\n      <td>CYUL</td>\n      <td>2021-03-14 05:00</td>\n      <td>30.2</td>\n      <td>17.6</td>\n      <td>59.01</td>\n      <td>280</td>\n      <td>9.0</td>\n      <td>0.0</td>\n      <td>29.87</td>\n      <td>1011.8</td>\n      <td>...</td>\n      <td>M</td>\n      <td>M</td>\n      <td>M</td>\n      <td>M</td>\n      <td>M</td>\n      <td>M</td>\n      <td>M</td>\n      <td>M</td>\n      <td>21.28</td>\n      <td>CYUL 140900Z 28009KT 15SM BKN041 M01/M08 A2987...</td>\n    </tr>\n    <tr>\n      <th>95521</th>\n      <td>CYUL</td>\n      <td>2021-03-14 06:00</td>\n      <td>28.4</td>\n      <td>17.6</td>\n      <td>63.51</td>\n      <td>300</td>\n      <td>9.0</td>\n      <td>0.0</td>\n      <td>29.89</td>\n      <td>1012.4</td>\n      <td>...</td>\n      <td>M</td>\n      <td>M</td>\n      <td>M</td>\n      <td>M</td>\n      <td>M</td>\n      <td>M</td>\n      <td>M</td>\n      <td>M</td>\n      <td>19.04</td>\n      <td>CYUL 141000Z 30009KT 15SM BKN036 M02/M08 A2989...</td>\n    </tr>\n    <tr>\n      <th>95522</th>\n      <td>CYUL</td>\n      <td>2021-03-14 07:00</td>\n      <td>26.6</td>\n      <td>17.6</td>\n      <td>68.4</td>\n      <td>280</td>\n      <td>9.0</td>\n      <td>0.0</td>\n      <td>29.9</td>\n      <td>1012.8</td>\n      <td>...</td>\n      <td>M</td>\n      <td>M</td>\n      <td>M</td>\n      <td>M</td>\n      <td>M</td>\n      <td>M</td>\n      <td>M</td>\n      <td>M</td>\n      <td>16.8</td>\n      <td>CYUL 141100Z 28009KT 15SM BKN040 M03/M08 A2990...</td>\n    </tr>\n    <tr>\n      <th>95523</th>\n      <td>CYUL</td>\n      <td>2021-03-14 08:00</td>\n      <td>26.6</td>\n      <td>15.8</td>\n      <td>63.27</td>\n      <td>270</td>\n      <td>10.0</td>\n      <td>0.0</td>\n      <td>29.91</td>\n      <td>1013.3</td>\n      <td>...</td>\n      <td>M</td>\n      <td>M</td>\n      <td>M</td>\n      <td>M</td>\n      <td>M</td>\n      <td>M</td>\n      <td>M</td>\n      <td>M</td>\n      <td>16.2</td>\n      <td>CYUL 141200Z 27010KT 20SM SCT035 BKN063 M03/M0...</td>\n    </tr>\n    <tr>\n      <th>95524</th>\n      <td>CYUL</td>\n      <td>2021-03-14 09:00</td>\n      <td>26.6</td>\n      <td>15.8</td>\n      <td>63.27</td>\n      <td>290</td>\n      <td>15.0</td>\n      <td>0.0</td>\n      <td>29.92</td>\n      <td>1013.7</td>\n      <td>...</td>\n      <td>M</td>\n      <td>M</td>\n      <td>M</td>\n      <td>M</td>\n      <td>M</td>\n      <td>M</td>\n      <td>M</td>\n      <td>M</td>\n      <td>13.78</td>\n      <td>CYUL 141300Z 29015KT 15SM BKN026 M03/M09 A2992...</td>\n    </tr>\n    <tr>\n      <th>95525</th>\n      <td>CYUL</td>\n      <td>2021-03-14 09:44</td>\n      <td>26.6</td>\n      <td>15.8</td>\n      <td>63.27</td>\n      <td>290</td>\n      <td>18.0</td>\n      <td>0.0</td>\n      <td>29.95</td>\n      <td>1014.5</td>\n      <td>...</td>\n      <td>M</td>\n      <td>-SN</td>\n      <td>M</td>\n      <td>M</td>\n      <td>M</td>\n      <td>M</td>\n      <td>M</td>\n      <td>M</td>\n      <td>12.64</td>\n      <td>CYUL 141344Z 29018G28KT 6SM -SN OVC022 M03/M09...</td>\n    </tr>\n    <tr>\n      <th>95526</th>\n      <td>CYUL</td>\n      <td>2021-03-14 10:00</td>\n      <td>24.8</td>\n      <td>19.4</td>\n      <td>79.62</td>\n      <td>320</td>\n      <td>13.0</td>\n      <td>0.0</td>\n      <td>29.96</td>\n      <td>1014.8</td>\n      <td>...</td>\n      <td>M</td>\n      <td>SN</td>\n      <td>M</td>\n      <td>M</td>\n      <td>M</td>\n      <td>M</td>\n      <td>M</td>\n      <td>M</td>\n      <td>12.34</td>\n      <td>CYUL 141400Z 32013G26KT 1/2SM R24R/2400VP6000F...</td>\n    </tr>\n    <tr>\n      <th>95527</th>\n      <td>CYUL</td>\n      <td>2021-03-14 10:07</td>\n      <td>24.8</td>\n      <td>21.2</td>\n      <td>85.96</td>\n      <td>330</td>\n      <td>10.0</td>\n      <td>0.0</td>\n      <td>29.96</td>\n      <td>1014.8</td>\n      <td>...</td>\n      <td>M</td>\n      <td>-SN</td>\n      <td>M</td>\n      <td>M</td>\n      <td>M</td>\n      <td>M</td>\n      <td>M</td>\n      <td>M</td>\n      <td>13.94</td>\n      <td>CYUL 141407Z 33010G19KT 15SM R24R/2600V4500FT/...</td>\n    </tr>\n    <tr>\n      <th>95528</th>\n      <td>CYUL</td>\n      <td>2021-03-14 10:25</td>\n      <td>26.6</td>\n      <td>8.6</td>\n      <td>46.02</td>\n      <td>300</td>\n      <td>23.0</td>\n      <td>0.0</td>\n      <td>29.96</td>\n      <td>1014.9</td>\n      <td>...</td>\n      <td>M</td>\n      <td>DRSN VCSH</td>\n      <td>M</td>\n      <td>M</td>\n      <td>M</td>\n      <td>M</td>\n      <td>M</td>\n      <td>M</td>\n      <td>11.06</td>\n      <td>CYUL 141425Z 30023G29KT 270V330 15SM DRSN VCSH...</td>\n    </tr>\n    <tr>\n      <th>95529</th>\n      <td>CYUL</td>\n      <td>2021-03-14 11:00</td>\n      <td>26.6</td>\n      <td>3.2</td>\n      <td>35.98</td>\n      <td>300</td>\n      <td>23.0</td>\n      <td>0.0</td>\n      <td>29.97</td>\n      <td>1015.2</td>\n      <td>...</td>\n      <td>M</td>\n      <td>M</td>\n      <td>M</td>\n      <td>M</td>\n      <td>M</td>\n      <td>M</td>\n      <td>M</td>\n      <td>M</td>\n      <td>11.06</td>\n      <td>CYUL 141500Z 30023G33KT 15SM FEW040 BKN070 M03...</td>\n    </tr>\n    <tr>\n      <th>95530</th>\n      <td>CYUL</td>\n      <td>2021-03-14 12:00</td>\n      <td>24.8</td>\n      <td>6.8</td>\n      <td>45.71</td>\n      <td>300</td>\n      <td>21.0</td>\n      <td>0.0</td>\n      <td>29.99</td>\n      <td>1015.9</td>\n      <td>...</td>\n      <td>M</td>\n      <td>M</td>\n      <td>M</td>\n      <td>M</td>\n      <td>M</td>\n      <td>M</td>\n      <td>M</td>\n      <td>M</td>\n      <td>9.25</td>\n      <td>CYUL 141600Z 30021G27KT 30SM SCT045 BKN120 BKN...</td>\n    </tr>\n    <tr>\n      <th>95531</th>\n      <td>CYUL</td>\n      <td>2021-03-14 13:00</td>\n      <td>24.8</td>\n      <td>6.8</td>\n      <td>45.71</td>\n      <td>310</td>\n      <td>20.0</td>\n      <td>0.0</td>\n      <td>30.02</td>\n      <td>1017.1</td>\n      <td>...</td>\n      <td>M</td>\n      <td>M</td>\n      <td>M</td>\n      <td>M</td>\n      <td>M</td>\n      <td>M</td>\n      <td>M</td>\n      <td>M</td>\n      <td>9.58</td>\n      <td>CYUL 141700Z 31020G29KT 15SM SCT045 BKN220 M04...</td>\n    </tr>\n    <tr>\n      <th>95532</th>\n      <td>CYUL</td>\n      <td>2021-03-14 14:00</td>\n      <td>24.8</td>\n      <td>5</td>\n      <td>42.11</td>\n      <td>320</td>\n      <td>21.0</td>\n      <td>0.0</td>\n      <td>30.04</td>\n      <td>1017.7</td>\n      <td>...</td>\n      <td>M</td>\n      <td>VCSH</td>\n      <td>M</td>\n      <td>M</td>\n      <td>M</td>\n      <td>M</td>\n      <td>M</td>\n      <td>M</td>\n      <td>9.25</td>\n      <td>CYUL 141800Z 32021G28KT 15SM VCSH BKN045 OVC25...</td>\n    </tr>\n    <tr>\n      <th>95533</th>\n      <td>CYUL</td>\n      <td>2021-03-14 15:00</td>\n      <td>24.8</td>\n      <td>3.2</td>\n      <td>38.77</td>\n      <td>320</td>\n      <td>14.0</td>\n      <td>0.0</td>\n      <td>30.06</td>\n      <td>1018.2</td>\n      <td>...</td>\n      <td>M</td>\n      <td>VCSH</td>\n      <td>M</td>\n      <td>M</td>\n      <td>M</td>\n      <td>M</td>\n      <td>M</td>\n      <td>M</td>\n      <td>11.88</td>\n      <td>CYUL 141900Z 32014G19KT 290V350 15SM VCSH BKN0...</td>\n    </tr>\n    <tr>\n      <th>95534</th>\n      <td>CYUL</td>\n      <td>2021-03-14 16:00</td>\n      <td>23</td>\n      <td>3.2</td>\n      <td>41.8</td>\n      <td>330</td>\n      <td>18.0</td>\n      <td>0.0</td>\n      <td>30.07</td>\n      <td>1018.8</td>\n      <td>...</td>\n      <td>M</td>\n      <td>M</td>\n      <td>M</td>\n      <td>M</td>\n      <td>M</td>\n      <td>M</td>\n      <td>M</td>\n      <td>M</td>\n      <td>7.9</td>\n      <td>CYUL 142000Z 33018G25KT 15SM BKN055 M05/M16 A3...</td>\n    </tr>\n    <tr>\n      <th>95535</th>\n      <td>CYUL</td>\n      <td>2021-03-14 17:00</td>\n      <td>23</td>\n      <td>1.4</td>\n      <td>38.45</td>\n      <td>330</td>\n      <td>19.0</td>\n      <td>0.0</td>\n      <td>30.09</td>\n      <td>1019.4</td>\n      <td>...</td>\n      <td>M</td>\n      <td>M</td>\n      <td>M</td>\n      <td>M</td>\n      <td>M</td>\n      <td>M</td>\n      <td>M</td>\n      <td>M</td>\n      <td>7.54</td>\n      <td>CYUL 142100Z 33019G25KT 15SM BKN055 M05/M17 A3...</td>\n    </tr>\n    <tr>\n      <th>95536</th>\n      <td>CYUL</td>\n      <td>2021-03-14 18:00</td>\n      <td>21.2</td>\n      <td>-0.4</td>\n      <td>38.13</td>\n      <td>320</td>\n      <td>15.0</td>\n      <td>0.0</td>\n      <td>30.13</td>\n      <td>1020.5</td>\n      <td>...</td>\n      <td>M</td>\n      <td>M</td>\n      <td>M</td>\n      <td>M</td>\n      <td>M</td>\n      <td>M</td>\n      <td>M</td>\n      <td>M</td>\n      <td>6.78</td>\n      <td>CYUL 142200Z 32015G26KT 15SM BKN060 BKN170 M06...</td>\n    </tr>\n    <tr>\n      <th>95537</th>\n      <td>CYUL</td>\n      <td>2021-03-14 19:00</td>\n      <td>19.4</td>\n      <td>-2.2</td>\n      <td>37.82</td>\n      <td>310</td>\n      <td>16.0</td>\n      <td>0.0</td>\n      <td>30.16</td>\n      <td>1021.7</td>\n      <td>...</td>\n      <td>M</td>\n      <td>M</td>\n      <td>M</td>\n      <td>M</td>\n      <td>M</td>\n      <td>M</td>\n      <td>M</td>\n      <td>M</td>\n      <td>4</td>\n      <td>CYUL 142300Z 31016G25KT 15SM SCT060 BKN180 M07...</td>\n    </tr>\n  </tbody>\n</table>\n<p>50 rows × 29 columns</p>\n</div>"
     },
     "metadata": {},
     "execution_count": 18
    }
   ],
   "source": [
    "concat_weather = pd.concat([old_weather, new_weather], ignore_index=True).drop_duplicates(subset='valid', keep='last')\n",
    "concat_weather.tail(50)"
   ]
  },
  {
   "cell_type": "code",
   "execution_count": 21,
   "metadata": {},
   "outputs": [],
   "source": [
    "concat_weather.to_csv('../CYULweather.csv', index=False)"
   ]
  },
  {
   "cell_type": "code",
   "execution_count": null,
   "metadata": {},
   "outputs": [],
   "source": []
  }
 ]
}