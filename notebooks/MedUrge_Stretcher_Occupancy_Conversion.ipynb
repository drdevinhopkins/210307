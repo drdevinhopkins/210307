{
  "nbformat": 4,
  "nbformat_minor": 0,
  "metadata": {
    "colab": {
      "name": "MedUrge Stretcher Occupancy Conversion.ipynb",
      "provenance": [],
      "collapsed_sections": []
    },
    "kernelspec": {
      "name": "python3",
      "display_name": "Python 3",
      "language": "python"
    },
    "widgets": {
      "application/vnd.jupyter.widget-state+json": {
        "9b7ce60d8faa4e76b47daffe8903586d": {
          "model_module": "@jupyter-widgets/controls",
          "model_name": "HBoxModel",
          "state": {
            "_view_name": "HBoxView",
            "_dom_classes": [],
            "_model_name": "HBoxModel",
            "_view_module": "@jupyter-widgets/controls",
            "_model_module_version": "1.5.0",
            "_view_count": null,
            "_view_module_version": "1.5.0",
            "box_style": "",
            "layout": "IPY_MODEL_23dd706abbd246a7a964840363610b36",
            "_model_module": "@jupyter-widgets/controls",
            "children": [
              "IPY_MODEL_3f83ada2cf7b446a9b48a2966d975bfc",
              "IPY_MODEL_4b30e2f949194f81844f150e9e97cef9"
            ]
          }
        },
        "23dd706abbd246a7a964840363610b36": {
          "model_module": "@jupyter-widgets/base",
          "model_name": "LayoutModel",
          "state": {
            "_view_name": "LayoutView",
            "grid_template_rows": null,
            "right": null,
            "justify_content": null,
            "_view_module": "@jupyter-widgets/base",
            "overflow": null,
            "_model_module_version": "1.2.0",
            "_view_count": null,
            "flex_flow": null,
            "width": null,
            "min_width": null,
            "border": null,
            "align_items": null,
            "bottom": null,
            "_model_module": "@jupyter-widgets/base",
            "top": null,
            "grid_column": null,
            "overflow_y": null,
            "overflow_x": null,
            "grid_auto_flow": null,
            "grid_area": null,
            "grid_template_columns": null,
            "flex": null,
            "_model_name": "LayoutModel",
            "justify_items": null,
            "grid_row": null,
            "max_height": null,
            "align_content": null,
            "visibility": null,
            "align_self": null,
            "height": null,
            "min_height": null,
            "padding": null,
            "grid_auto_rows": null,
            "grid_gap": null,
            "max_width": null,
            "order": null,
            "_view_module_version": "1.2.0",
            "grid_template_areas": null,
            "object_position": null,
            "object_fit": null,
            "grid_auto_columns": null,
            "margin": null,
            "display": null,
            "left": null
          }
        },
        "3f83ada2cf7b446a9b48a2966d975bfc": {
          "model_module": "@jupyter-widgets/controls",
          "model_name": "FloatProgressModel",
          "state": {
            "_view_name": "ProgressView",
            "style": "IPY_MODEL_80f0ec45b5d64f008231157fffee7bcf",
            "_dom_classes": [],
            "description": "",
            "_model_name": "FloatProgressModel",
            "bar_style": "success",
            "max": 1,
            "_view_module": "@jupyter-widgets/controls",
            "_model_module_version": "1.5.0",
            "value": 1,
            "_view_count": null,
            "_view_module_version": "1.5.0",
            "orientation": "horizontal",
            "min": 0,
            "description_tooltip": null,
            "_model_module": "@jupyter-widgets/controls",
            "layout": "IPY_MODEL_83c0fe3a18d940dc88b18fe963476f32"
          }
        },
        "4b30e2f949194f81844f150e9e97cef9": {
          "model_module": "@jupyter-widgets/controls",
          "model_name": "HTMLModel",
          "state": {
            "_view_name": "HTMLView",
            "style": "IPY_MODEL_13f8344d92b74973950036e92346571d",
            "_dom_classes": [],
            "description": "",
            "_model_name": "HTMLModel",
            "placeholder": "​",
            "_view_module": "@jupyter-widgets/controls",
            "_model_module_version": "1.5.0",
            "value": " 28/? [00:01&lt;00:00, 17.19it/s]",
            "_view_count": null,
            "_view_module_version": "1.5.0",
            "description_tooltip": null,
            "_model_module": "@jupyter-widgets/controls",
            "layout": "IPY_MODEL_31568f407c4942118d9f0e79facdebc9"
          }
        },
        "80f0ec45b5d64f008231157fffee7bcf": {
          "model_module": "@jupyter-widgets/controls",
          "model_name": "ProgressStyleModel",
          "state": {
            "_view_name": "StyleView",
            "_model_name": "ProgressStyleModel",
            "description_width": "initial",
            "_view_module": "@jupyter-widgets/base",
            "_model_module_version": "1.5.0",
            "_view_count": null,
            "_view_module_version": "1.2.0",
            "bar_color": null,
            "_model_module": "@jupyter-widgets/controls"
          }
        },
        "83c0fe3a18d940dc88b18fe963476f32": {
          "model_module": "@jupyter-widgets/base",
          "model_name": "LayoutModel",
          "state": {
            "_view_name": "LayoutView",
            "grid_template_rows": null,
            "right": null,
            "justify_content": null,
            "_view_module": "@jupyter-widgets/base",
            "overflow": null,
            "_model_module_version": "1.2.0",
            "_view_count": null,
            "flex_flow": null,
            "width": null,
            "min_width": null,
            "border": null,
            "align_items": null,
            "bottom": null,
            "_model_module": "@jupyter-widgets/base",
            "top": null,
            "grid_column": null,
            "overflow_y": null,
            "overflow_x": null,
            "grid_auto_flow": null,
            "grid_area": null,
            "grid_template_columns": null,
            "flex": null,
            "_model_name": "LayoutModel",
            "justify_items": null,
            "grid_row": null,
            "max_height": null,
            "align_content": null,
            "visibility": null,
            "align_self": null,
            "height": null,
            "min_height": null,
            "padding": null,
            "grid_auto_rows": null,
            "grid_gap": null,
            "max_width": null,
            "order": null,
            "_view_module_version": "1.2.0",
            "grid_template_areas": null,
            "object_position": null,
            "object_fit": null,
            "grid_auto_columns": null,
            "margin": null,
            "display": null,
            "left": null
          }
        },
        "13f8344d92b74973950036e92346571d": {
          "model_module": "@jupyter-widgets/controls",
          "model_name": "DescriptionStyleModel",
          "state": {
            "_view_name": "StyleView",
            "_model_name": "DescriptionStyleModel",
            "description_width": "",
            "_view_module": "@jupyter-widgets/base",
            "_model_module_version": "1.5.0",
            "_view_count": null,
            "_view_module_version": "1.2.0",
            "_model_module": "@jupyter-widgets/controls"
          }
        },
        "31568f407c4942118d9f0e79facdebc9": {
          "model_module": "@jupyter-widgets/base",
          "model_name": "LayoutModel",
          "state": {
            "_view_name": "LayoutView",
            "grid_template_rows": null,
            "right": null,
            "justify_content": null,
            "_view_module": "@jupyter-widgets/base",
            "overflow": null,
            "_model_module_version": "1.2.0",
            "_view_count": null,
            "flex_flow": null,
            "width": null,
            "min_width": null,
            "border": null,
            "align_items": null,
            "bottom": null,
            "_model_module": "@jupyter-widgets/base",
            "top": null,
            "grid_column": null,
            "overflow_y": null,
            "overflow_x": null,
            "grid_auto_flow": null,
            "grid_area": null,
            "grid_template_columns": null,
            "flex": null,
            "_model_name": "LayoutModel",
            "justify_items": null,
            "grid_row": null,
            "max_height": null,
            "align_content": null,
            "visibility": null,
            "align_self": null,
            "height": null,
            "min_height": null,
            "padding": null,
            "grid_auto_rows": null,
            "grid_gap": null,
            "max_width": null,
            "order": null,
            "_view_module_version": "1.2.0",
            "grid_template_areas": null,
            "object_position": null,
            "object_fit": null,
            "grid_auto_columns": null,
            "margin": null,
            "display": null,
            "left": null
          }
        }
      }
    }
  },
  "cells": [
    {
      "cell_type": "code",
      "metadata": {
        "id": "AKPaRxSbDSSo"
      },
      "source": [
        "import pandas as pd\n",
        "from tqdm import tqdm, tqdm_notebook"
      ],
      "execution_count": 1,
      "outputs": []
    },
    {
      "cell_type": "code",
      "metadata": {
        "id": "H6IxJeSfDYyL"
      },
      "source": [
        "path = '../data/OCT2020STRETCHEROCCUPANCY.XLS'\n",
        "table = pd.read_excel(path, header=4)\n",
        "# table.Date = pd.to_datetime(table.Date)\n",
        "table = table.head(28)\n",
        "table.head()"
      ],
      "execution_count": 3,
      "outputs": [
        {
          "output_type": "execute_result",
          "data": {
            "text/plain": [
              "        Date         Day  Patient count midnight  Percent midnight  \\\n",
              "0 2020-10-01  Friday                          49             92.45   \n",
              "1 2020-10-02  Saturday                        64            120.75   \n",
              "2 2020-10-03  Sunday                          64            120.75   \n",
              "3 2020-10-04  Monday                          56            105.66   \n",
              "4 2020-10-05  Tuesday                         52             98.11   \n",
              "\n",
              "   New patient midnight  Patient count 1H  Percent 1H  New patient 1H  \\\n",
              "0                     2                46       86.79               2   \n",
              "1                     1                60      113.21               3   \n",
              "2                     2                61      115.09               2   \n",
              "3                     2                53      100.00               0   \n",
              "4                     0                50       94.34               2   \n",
              "\n",
              "   Patient count 2H  Percent 2H  ...  Patient count 21H  Percent 21H  \\\n",
              "0                45       84.91  ...                 68       128.30   \n",
              "1                59      111.32  ...                 69       130.19   \n",
              "2                59      111.32  ...                 47        88.68   \n",
              "3                53      100.00  ...                 52        98.11   \n",
              "4                48       90.57  ...                 71       133.96   \n",
              "\n",
              "   New patient 21H  Patient count 22H  Percent 22H  New patient 22H  \\\n",
              "0                4                 63       118.87                6   \n",
              "1                5                 67       126.42                7   \n",
              "2                7                 50        94.34                7   \n",
              "3                5                 52        98.11                5   \n",
              "4                3                 65       122.64                4   \n",
              "\n",
              "   Patient count 23H  Percent 23H  New patient 23H  New Patient  \n",
              "0                 65       122.64                4          116  \n",
              "1                 69       130.19                1          113  \n",
              "2                 55       103.77                2          111  \n",
              "3                 52        98.11                6           98  \n",
              "4                 63       118.87                5          126  \n",
              "\n",
              "[5 rows x 75 columns]"
            ],
            "text/html": "<div>\n<style scoped>\n    .dataframe tbody tr th:only-of-type {\n        vertical-align: middle;\n    }\n\n    .dataframe tbody tr th {\n        vertical-align: top;\n    }\n\n    .dataframe thead th {\n        text-align: right;\n    }\n</style>\n<table border=\"1\" class=\"dataframe\">\n  <thead>\n    <tr style=\"text-align: right;\">\n      <th></th>\n      <th>Date</th>\n      <th>Day</th>\n      <th>Patient count midnight</th>\n      <th>Percent midnight</th>\n      <th>New patient midnight</th>\n      <th>Patient count 1H</th>\n      <th>Percent 1H</th>\n      <th>New patient 1H</th>\n      <th>Patient count 2H</th>\n      <th>Percent 2H</th>\n      <th>...</th>\n      <th>Patient count 21H</th>\n      <th>Percent 21H</th>\n      <th>New patient 21H</th>\n      <th>Patient count 22H</th>\n      <th>Percent 22H</th>\n      <th>New patient 22H</th>\n      <th>Patient count 23H</th>\n      <th>Percent 23H</th>\n      <th>New patient 23H</th>\n      <th>New Patient</th>\n    </tr>\n  </thead>\n  <tbody>\n    <tr>\n      <th>0</th>\n      <td>2020-10-01</td>\n      <td>Friday</td>\n      <td>49</td>\n      <td>92.45</td>\n      <td>2</td>\n      <td>46</td>\n      <td>86.79</td>\n      <td>2</td>\n      <td>45</td>\n      <td>84.91</td>\n      <td>...</td>\n      <td>68</td>\n      <td>128.30</td>\n      <td>4</td>\n      <td>63</td>\n      <td>118.87</td>\n      <td>6</td>\n      <td>65</td>\n      <td>122.64</td>\n      <td>4</td>\n      <td>116</td>\n    </tr>\n    <tr>\n      <th>1</th>\n      <td>2020-10-02</td>\n      <td>Saturday</td>\n      <td>64</td>\n      <td>120.75</td>\n      <td>1</td>\n      <td>60</td>\n      <td>113.21</td>\n      <td>3</td>\n      <td>59</td>\n      <td>111.32</td>\n      <td>...</td>\n      <td>69</td>\n      <td>130.19</td>\n      <td>5</td>\n      <td>67</td>\n      <td>126.42</td>\n      <td>7</td>\n      <td>69</td>\n      <td>130.19</td>\n      <td>1</td>\n      <td>113</td>\n    </tr>\n    <tr>\n      <th>2</th>\n      <td>2020-10-03</td>\n      <td>Sunday</td>\n      <td>64</td>\n      <td>120.75</td>\n      <td>2</td>\n      <td>61</td>\n      <td>115.09</td>\n      <td>2</td>\n      <td>59</td>\n      <td>111.32</td>\n      <td>...</td>\n      <td>47</td>\n      <td>88.68</td>\n      <td>7</td>\n      <td>50</td>\n      <td>94.34</td>\n      <td>7</td>\n      <td>55</td>\n      <td>103.77</td>\n      <td>2</td>\n      <td>111</td>\n    </tr>\n    <tr>\n      <th>3</th>\n      <td>2020-10-04</td>\n      <td>Monday</td>\n      <td>56</td>\n      <td>105.66</td>\n      <td>2</td>\n      <td>53</td>\n      <td>100.00</td>\n      <td>0</td>\n      <td>53</td>\n      <td>100.00</td>\n      <td>...</td>\n      <td>52</td>\n      <td>98.11</td>\n      <td>5</td>\n      <td>52</td>\n      <td>98.11</td>\n      <td>5</td>\n      <td>52</td>\n      <td>98.11</td>\n      <td>6</td>\n      <td>98</td>\n    </tr>\n    <tr>\n      <th>4</th>\n      <td>2020-10-05</td>\n      <td>Tuesday</td>\n      <td>52</td>\n      <td>98.11</td>\n      <td>0</td>\n      <td>50</td>\n      <td>94.34</td>\n      <td>2</td>\n      <td>48</td>\n      <td>90.57</td>\n      <td>...</td>\n      <td>71</td>\n      <td>133.96</td>\n      <td>3</td>\n      <td>65</td>\n      <td>122.64</td>\n      <td>4</td>\n      <td>63</td>\n      <td>118.87</td>\n      <td>5</td>\n      <td>126</td>\n    </tr>\n  </tbody>\n</table>\n<p>5 rows × 75 columns</p>\n</div>"
          },
          "metadata": {},
          "execution_count": 3
        }
      ]
    },
    {
      "cell_type": "code",
      "metadata": {
        "id": "oSAXykebDdk4",
        "colab": {
          "base_uri": "https://localhost:8080/",
          "height": 488,
          "referenced_widgets": [
            "9b7ce60d8faa4e76b47daffe8903586d",
            "23dd706abbd246a7a964840363610b36",
            "3f83ada2cf7b446a9b48a2966d975bfc",
            "4b30e2f949194f81844f150e9e97cef9",
            "80f0ec45b5d64f008231157fffee7bcf",
            "83c0fe3a18d940dc88b18fe963476f32",
            "13f8344d92b74973950036e92346571d",
            "31568f407c4942118d9f0e79facdebc9"
          ]
        },
        "outputId": "3cc0736f-54f5-427f-c892-355ddc2e27f5"
      },
      "source": [
        "column_names = [\"ds\", \"y\"]\n",
        "df = pd.DataFrame(columns = column_names)\n",
        "\n",
        "for i,row in tqdm_notebook(table.iterrows()):\n",
        "  for hour in range(0,24):\n",
        "    \n",
        "    date = row['Date']\n",
        "    hr = hour\n",
        "    timestamp = date.replace(hour=hr)\n",
        "    count = row[2+3*hour]\n",
        "    df = df.append(pd.Series([timestamp, count], index=df.columns), ignore_index=True)\n",
        "    # print(timestamp, count)\n",
        "\n",
        "df"
      ],
      "execution_count": 4,
      "outputs": [
        {
          "output_type": "stream",
          "name": "stderr",
          "text": [
            "<ipython-input-4-df38554b58bc>:4: TqdmDeprecationWarning: This function will be removed in tqdm==5.0.0\nPlease use `tqdm.notebook.tqdm` instead of `tqdm.tqdm_notebook`\n  for i,row in tqdm_notebook(table.iterrows()):\n"
          ]
        },
        {
          "output_type": "display_data",
          "data": {
            "text/plain": "HBox(children=(HTML(value=''), FloatProgress(value=1.0, bar_style='info', layout=Layout(width='20px'), max=1.0…",
            "application/vnd.jupyter.widget-view+json": {
              "version_major": 2,
              "version_minor": 0,
              "model_id": "f11b1851456f4916badaaabae0e9d6e8"
            }
          },
          "metadata": {}
        },
        {
          "output_type": "stream",
          "name": "stdout",
          "text": [
            "\n"
          ]
        },
        {
          "output_type": "execute_result",
          "data": {
            "text/plain": [
              "                     ds   y\n",
              "0   2020-10-01 00:00:00  49\n",
              "1   2020-10-01 01:00:00  46\n",
              "2   2020-10-01 02:00:00  45\n",
              "3   2020-10-01 03:00:00  44\n",
              "4   2020-10-01 04:00:00  45\n",
              "..                  ...  ..\n",
              "667 2020-10-28 19:00:00  44\n",
              "668 2020-10-28 20:00:00  39\n",
              "669 2020-10-28 21:00:00  43\n",
              "670 2020-10-28 22:00:00  39\n",
              "671 2020-10-28 23:00:00  35\n",
              "\n",
              "[672 rows x 2 columns]"
            ],
            "text/html": "<div>\n<style scoped>\n    .dataframe tbody tr th:only-of-type {\n        vertical-align: middle;\n    }\n\n    .dataframe tbody tr th {\n        vertical-align: top;\n    }\n\n    .dataframe thead th {\n        text-align: right;\n    }\n</style>\n<table border=\"1\" class=\"dataframe\">\n  <thead>\n    <tr style=\"text-align: right;\">\n      <th></th>\n      <th>ds</th>\n      <th>y</th>\n    </tr>\n  </thead>\n  <tbody>\n    <tr>\n      <th>0</th>\n      <td>2020-10-01 00:00:00</td>\n      <td>49</td>\n    </tr>\n    <tr>\n      <th>1</th>\n      <td>2020-10-01 01:00:00</td>\n      <td>46</td>\n    </tr>\n    <tr>\n      <th>2</th>\n      <td>2020-10-01 02:00:00</td>\n      <td>45</td>\n    </tr>\n    <tr>\n      <th>3</th>\n      <td>2020-10-01 03:00:00</td>\n      <td>44</td>\n    </tr>\n    <tr>\n      <th>4</th>\n      <td>2020-10-01 04:00:00</td>\n      <td>45</td>\n    </tr>\n    <tr>\n      <th>...</th>\n      <td>...</td>\n      <td>...</td>\n    </tr>\n    <tr>\n      <th>667</th>\n      <td>2020-10-28 19:00:00</td>\n      <td>44</td>\n    </tr>\n    <tr>\n      <th>668</th>\n      <td>2020-10-28 20:00:00</td>\n      <td>39</td>\n    </tr>\n    <tr>\n      <th>669</th>\n      <td>2020-10-28 21:00:00</td>\n      <td>43</td>\n    </tr>\n    <tr>\n      <th>670</th>\n      <td>2020-10-28 22:00:00</td>\n      <td>39</td>\n    </tr>\n    <tr>\n      <th>671</th>\n      <td>2020-10-28 23:00:00</td>\n      <td>35</td>\n    </tr>\n  </tbody>\n</table>\n<p>672 rows × 2 columns</p>\n</div>"
          },
          "metadata": {},
          "execution_count": 4
        }
      ]
    },
    {
      "cell_type": "code",
      "execution_count": 10,
      "metadata": {},
      "outputs": [
        {
          "output_type": "execute_result",
          "data": {
            "text/plain": [
              "                     ds   y\n",
              "0   2020-10-01 00:00:00  49\n",
              "1   2020-10-01 01:00:00  46\n",
              "2   2020-10-01 02:00:00  45\n",
              "3   2020-10-01 03:00:00  44\n",
              "4   2020-10-01 04:00:00  45\n",
              "..                  ...  ..\n",
              "667 2020-10-28 19:00:00  44\n",
              "668 2020-10-28 20:00:00  39\n",
              "669 2020-10-28 21:00:00  43\n",
              "670 2020-10-28 22:00:00  39\n",
              "671 2020-10-28 23:00:00  35\n",
              "\n",
              "[672 rows x 2 columns]"
            ],
            "text/html": "<div>\n<style scoped>\n    .dataframe tbody tr th:only-of-type {\n        vertical-align: middle;\n    }\n\n    .dataframe tbody tr th {\n        vertical-align: top;\n    }\n\n    .dataframe thead th {\n        text-align: right;\n    }\n</style>\n<table border=\"1\" class=\"dataframe\">\n  <thead>\n    <tr style=\"text-align: right;\">\n      <th></th>\n      <th>ds</th>\n      <th>y</th>\n    </tr>\n  </thead>\n  <tbody>\n    <tr>\n      <th>0</th>\n      <td>2020-10-01 00:00:00</td>\n      <td>49</td>\n    </tr>\n    <tr>\n      <th>1</th>\n      <td>2020-10-01 01:00:00</td>\n      <td>46</td>\n    </tr>\n    <tr>\n      <th>2</th>\n      <td>2020-10-01 02:00:00</td>\n      <td>45</td>\n    </tr>\n    <tr>\n      <th>3</th>\n      <td>2020-10-01 03:00:00</td>\n      <td>44</td>\n    </tr>\n    <tr>\n      <th>4</th>\n      <td>2020-10-01 04:00:00</td>\n      <td>45</td>\n    </tr>\n    <tr>\n      <th>...</th>\n      <td>...</td>\n      <td>...</td>\n    </tr>\n    <tr>\n      <th>667</th>\n      <td>2020-10-28 19:00:00</td>\n      <td>44</td>\n    </tr>\n    <tr>\n      <th>668</th>\n      <td>2020-10-28 20:00:00</td>\n      <td>39</td>\n    </tr>\n    <tr>\n      <th>669</th>\n      <td>2020-10-28 21:00:00</td>\n      <td>43</td>\n    </tr>\n    <tr>\n      <th>670</th>\n      <td>2020-10-28 22:00:00</td>\n      <td>39</td>\n    </tr>\n    <tr>\n      <th>671</th>\n      <td>2020-10-28 23:00:00</td>\n      <td>35</td>\n    </tr>\n  </tbody>\n</table>\n<p>672 rows × 2 columns</p>\n</div>"
          },
          "metadata": {},
          "execution_count": 10
        }
      ],
      "source": [
        "df.ds = pd.to_datetime(df.ds)\n",
        "df"
      ]
    },
    {
      "cell_type": "code",
      "metadata": {
        "id": "8m5QLF0ILU6q"
      },
      "source": [
        "old = pd.read_csv('../jghOccupancy.csv')\n",
        "old.ds = pd.to_datetime(old.ds)\n",
        "old"
      ],
      "execution_count": 11,
      "outputs": [
        {
          "output_type": "execute_result",
          "data": {
            "text/plain": [
              "                       ds     y\n",
              "0     2012-05-01 00:00:00  39.0\n",
              "1     2012-05-01 01:00:00  40.0\n",
              "2     2012-05-01 02:00:00  40.0\n",
              "3     2012-05-01 03:00:00  40.0\n",
              "4     2012-05-01 04:00:00  39.0\n",
              "...                   ...   ...\n",
              "76825 2021-03-16 14:00:00  90.0\n",
              "76826 2021-03-16 15:00:00  86.0\n",
              "76827 2021-03-16 16:00:00  88.0\n",
              "76828 2021-03-16 17:00:00  83.0\n",
              "76829 2021-03-16 18:00:00  80.0\n",
              "\n",
              "[76830 rows x 2 columns]"
            ],
            "text/html": "<div>\n<style scoped>\n    .dataframe tbody tr th:only-of-type {\n        vertical-align: middle;\n    }\n\n    .dataframe tbody tr th {\n        vertical-align: top;\n    }\n\n    .dataframe thead th {\n        text-align: right;\n    }\n</style>\n<table border=\"1\" class=\"dataframe\">\n  <thead>\n    <tr style=\"text-align: right;\">\n      <th></th>\n      <th>ds</th>\n      <th>y</th>\n    </tr>\n  </thead>\n  <tbody>\n    <tr>\n      <th>0</th>\n      <td>2012-05-01 00:00:00</td>\n      <td>39.0</td>\n    </tr>\n    <tr>\n      <th>1</th>\n      <td>2012-05-01 01:00:00</td>\n      <td>40.0</td>\n    </tr>\n    <tr>\n      <th>2</th>\n      <td>2012-05-01 02:00:00</td>\n      <td>40.0</td>\n    </tr>\n    <tr>\n      <th>3</th>\n      <td>2012-05-01 03:00:00</td>\n      <td>40.0</td>\n    </tr>\n    <tr>\n      <th>4</th>\n      <td>2012-05-01 04:00:00</td>\n      <td>39.0</td>\n    </tr>\n    <tr>\n      <th>...</th>\n      <td>...</td>\n      <td>...</td>\n    </tr>\n    <tr>\n      <th>76825</th>\n      <td>2021-03-16 14:00:00</td>\n      <td>90.0</td>\n    </tr>\n    <tr>\n      <th>76826</th>\n      <td>2021-03-16 15:00:00</td>\n      <td>86.0</td>\n    </tr>\n    <tr>\n      <th>76827</th>\n      <td>2021-03-16 16:00:00</td>\n      <td>88.0</td>\n    </tr>\n    <tr>\n      <th>76828</th>\n      <td>2021-03-16 17:00:00</td>\n      <td>83.0</td>\n    </tr>\n    <tr>\n      <th>76829</th>\n      <td>2021-03-16 18:00:00</td>\n      <td>80.0</td>\n    </tr>\n  </tbody>\n</table>\n<p>76830 rows × 2 columns</p>\n</div>"
          },
          "metadata": {},
          "execution_count": 11
        }
      ]
    },
    {
      "cell_type": "code",
      "execution_count": 12,
      "metadata": {},
      "outputs": [
        {
          "output_type": "execute_result",
          "data": {
            "text/plain": [
              "                       ds   y\n",
              "0     2012-05-01 00:00:00  39\n",
              "1     2012-05-01 01:00:00  40\n",
              "2     2012-05-01 02:00:00  40\n",
              "3     2012-05-01 03:00:00  40\n",
              "4     2012-05-01 04:00:00  39\n",
              "...                   ...  ..\n",
              "77497 2020-10-28 19:00:00  44\n",
              "77498 2020-10-28 20:00:00  39\n",
              "77499 2020-10-28 21:00:00  43\n",
              "77500 2020-10-28 22:00:00  39\n",
              "77501 2020-10-28 23:00:00  35\n",
              "\n",
              "[77502 rows x 2 columns]"
            ],
            "text/html": "<div>\n<style scoped>\n    .dataframe tbody tr th:only-of-type {\n        vertical-align: middle;\n    }\n\n    .dataframe tbody tr th {\n        vertical-align: top;\n    }\n\n    .dataframe thead th {\n        text-align: right;\n    }\n</style>\n<table border=\"1\" class=\"dataframe\">\n  <thead>\n    <tr style=\"text-align: right;\">\n      <th></th>\n      <th>ds</th>\n      <th>y</th>\n    </tr>\n  </thead>\n  <tbody>\n    <tr>\n      <th>0</th>\n      <td>2012-05-01 00:00:00</td>\n      <td>39</td>\n    </tr>\n    <tr>\n      <th>1</th>\n      <td>2012-05-01 01:00:00</td>\n      <td>40</td>\n    </tr>\n    <tr>\n      <th>2</th>\n      <td>2012-05-01 02:00:00</td>\n      <td>40</td>\n    </tr>\n    <tr>\n      <th>3</th>\n      <td>2012-05-01 03:00:00</td>\n      <td>40</td>\n    </tr>\n    <tr>\n      <th>4</th>\n      <td>2012-05-01 04:00:00</td>\n      <td>39</td>\n    </tr>\n    <tr>\n      <th>...</th>\n      <td>...</td>\n      <td>...</td>\n    </tr>\n    <tr>\n      <th>77497</th>\n      <td>2020-10-28 19:00:00</td>\n      <td>44</td>\n    </tr>\n    <tr>\n      <th>77498</th>\n      <td>2020-10-28 20:00:00</td>\n      <td>39</td>\n    </tr>\n    <tr>\n      <th>77499</th>\n      <td>2020-10-28 21:00:00</td>\n      <td>43</td>\n    </tr>\n    <tr>\n      <th>77500</th>\n      <td>2020-10-28 22:00:00</td>\n      <td>39</td>\n    </tr>\n    <tr>\n      <th>77501</th>\n      <td>2020-10-28 23:00:00</td>\n      <td>35</td>\n    </tr>\n  </tbody>\n</table>\n<p>77502 rows × 2 columns</p>\n</div>"
          },
          "metadata": {},
          "execution_count": 12
        }
      ],
      "source": [
        "new = pd.concat([old, df], ignore_index=True)\n",
        "new"
      ]
    },
    {
      "cell_type": "code",
      "execution_count": 14,
      "metadata": {},
      "outputs": [],
      "source": [
        "new.sort_values(by='ds').to_csv('../jghOccupancy.csv', index=False)"
      ]
    },
    {
      "cell_type": "code",
      "execution_count": null,
      "metadata": {},
      "outputs": [],
      "source": []
    }
  ]
}