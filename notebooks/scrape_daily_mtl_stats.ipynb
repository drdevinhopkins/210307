{
 "metadata": {
  "language_info": {
   "codemirror_mode": {
    "name": "ipython",
    "version": 3
   },
   "file_extension": ".py",
   "mimetype": "text/x-python",
   "name": "python",
   "nbconvert_exporter": "python",
   "pygments_lexer": "ipython3",
   "version": "3.8.5-final"
  },
  "orig_nbformat": 2,
  "kernelspec": {
   "name": "python3",
   "display_name": "Python 3.8.5 64-bit ('base': conda)",
   "metadata": {
    "interpreter": {
     "hash": "759f92077ddf767ee53021667a11c5c835d99672edecdbae08c8b508f136d5a9"
    }
   }
  }
 },
 "nbformat": 4,
 "nbformat_minor": 2,
 "cells": [
  {
   "cell_type": "code",
   "execution_count": 1,
   "metadata": {},
   "outputs": [],
   "source": [
    "import pandas as pd\n",
    "from bs4 import BeautifulSoup\n",
    "import requests\n",
    "from datetime import date, timedelta\n",
    "import time\n",
    "import os\n",
    "\n",
    "\n"
   ]
  },
  {
   "cell_type": "code",
   "execution_count": 2,
   "metadata": {},
   "outputs": [
    {
     "output_type": "error",
     "ename": "FileNotFoundError",
     "evalue": "[Errno 2] No such file or directory: 'dailyMontrealEdStats.csv'",
     "traceback": [
      "\u001b[0;31m---------------------------------------------------------------------------\u001b[0m",
      "\u001b[0;31mFileNotFoundError\u001b[0m                         Traceback (most recent call last)",
      "\u001b[0;32m<ipython-input-2-19504b82f7d3>\u001b[0m in \u001b[0;36m<module>\u001b[0;34m\u001b[0m\n\u001b[0;32m----> 1\u001b[0;31m \u001b[0mold_data\u001b[0m \u001b[0;34m=\u001b[0m \u001b[0mpd\u001b[0m\u001b[0;34m.\u001b[0m\u001b[0mread_csv\u001b[0m\u001b[0;34m(\u001b[0m\u001b[0;34m'dailyMontrealEdStats.csv'\u001b[0m\u001b[0;34m)\u001b[0m\u001b[0;34m\u001b[0m\u001b[0;34m\u001b[0m\u001b[0m\n\u001b[0m\u001b[1;32m      2\u001b[0m \u001b[0mold_data\u001b[0m\u001b[0;34m[\u001b[0m\u001b[0;34m'date'\u001b[0m\u001b[0;34m]\u001b[0m \u001b[0;34m=\u001b[0m \u001b[0mpd\u001b[0m\u001b[0;34m.\u001b[0m\u001b[0mto_datetime\u001b[0m\u001b[0;34m(\u001b[0m\u001b[0mold_data\u001b[0m\u001b[0;34m[\u001b[0m\u001b[0;34m'date'\u001b[0m\u001b[0;34m]\u001b[0m\u001b[0;34m)\u001b[0m\u001b[0;34m\u001b[0m\u001b[0;34m\u001b[0m\u001b[0m\n\u001b[1;32m      3\u001b[0m \u001b[0mprint\u001b[0m\u001b[0;34m(\u001b[0m\u001b[0;34m'old data: '\u001b[0m\u001b[0;34m,\u001b[0m \u001b[0mlen\u001b[0m\u001b[0;34m(\u001b[0m\u001b[0mold_data\u001b[0m\u001b[0;34m)\u001b[0m\u001b[0;34m,\u001b[0m \u001b[0;34m' rows, ending '\u001b[0m\u001b[0;34m,\u001b[0m \u001b[0mold_data\u001b[0m\u001b[0;34m.\u001b[0m\u001b[0mdate\u001b[0m\u001b[0;34m.\u001b[0m\u001b[0mmax\u001b[0m\u001b[0;34m(\u001b[0m\u001b[0;34m)\u001b[0m\u001b[0;34m)\u001b[0m\u001b[0;34m\u001b[0m\u001b[0;34m\u001b[0m\u001b[0m\n\u001b[1;32m      4\u001b[0m \u001b[0mold_data\u001b[0m\u001b[0;34m.\u001b[0m\u001b[0mhead\u001b[0m\u001b[0;34m(\u001b[0m\u001b[0;34m)\u001b[0m\u001b[0;34m\u001b[0m\u001b[0;34m\u001b[0m\u001b[0m\n",
      "\u001b[0;32m~/opt/anaconda3/lib/python3.8/site-packages/pandas/io/parsers.py\u001b[0m in \u001b[0;36mread_csv\u001b[0;34m(filepath_or_buffer, sep, delimiter, header, names, index_col, usecols, squeeze, prefix, mangle_dupe_cols, dtype, engine, converters, true_values, false_values, skipinitialspace, skiprows, skipfooter, nrows, na_values, keep_default_na, na_filter, verbose, skip_blank_lines, parse_dates, infer_datetime_format, keep_date_col, date_parser, dayfirst, cache_dates, iterator, chunksize, compression, thousands, decimal, lineterminator, quotechar, quoting, doublequote, escapechar, comment, encoding, dialect, error_bad_lines, warn_bad_lines, delim_whitespace, low_memory, memory_map, float_precision)\u001b[0m\n\u001b[1;32m    684\u001b[0m     )\n\u001b[1;32m    685\u001b[0m \u001b[0;34m\u001b[0m\u001b[0m\n\u001b[0;32m--> 686\u001b[0;31m     \u001b[0;32mreturn\u001b[0m \u001b[0m_read\u001b[0m\u001b[0;34m(\u001b[0m\u001b[0mfilepath_or_buffer\u001b[0m\u001b[0;34m,\u001b[0m \u001b[0mkwds\u001b[0m\u001b[0;34m)\u001b[0m\u001b[0;34m\u001b[0m\u001b[0;34m\u001b[0m\u001b[0m\n\u001b[0m\u001b[1;32m    687\u001b[0m \u001b[0;34m\u001b[0m\u001b[0m\n\u001b[1;32m    688\u001b[0m \u001b[0;34m\u001b[0m\u001b[0m\n",
      "\u001b[0;32m~/opt/anaconda3/lib/python3.8/site-packages/pandas/io/parsers.py\u001b[0m in \u001b[0;36m_read\u001b[0;34m(filepath_or_buffer, kwds)\u001b[0m\n\u001b[1;32m    450\u001b[0m \u001b[0;34m\u001b[0m\u001b[0m\n\u001b[1;32m    451\u001b[0m     \u001b[0;31m# Create the parser.\u001b[0m\u001b[0;34m\u001b[0m\u001b[0;34m\u001b[0m\u001b[0;34m\u001b[0m\u001b[0m\n\u001b[0;32m--> 452\u001b[0;31m     \u001b[0mparser\u001b[0m \u001b[0;34m=\u001b[0m \u001b[0mTextFileReader\u001b[0m\u001b[0;34m(\u001b[0m\u001b[0mfp_or_buf\u001b[0m\u001b[0;34m,\u001b[0m \u001b[0;34m**\u001b[0m\u001b[0mkwds\u001b[0m\u001b[0;34m)\u001b[0m\u001b[0;34m\u001b[0m\u001b[0;34m\u001b[0m\u001b[0m\n\u001b[0m\u001b[1;32m    453\u001b[0m \u001b[0;34m\u001b[0m\u001b[0m\n\u001b[1;32m    454\u001b[0m     \u001b[0;32mif\u001b[0m \u001b[0mchunksize\u001b[0m \u001b[0;32mor\u001b[0m \u001b[0miterator\u001b[0m\u001b[0;34m:\u001b[0m\u001b[0;34m\u001b[0m\u001b[0;34m\u001b[0m\u001b[0m\n",
      "\u001b[0;32m~/opt/anaconda3/lib/python3.8/site-packages/pandas/io/parsers.py\u001b[0m in \u001b[0;36m__init__\u001b[0;34m(self, f, engine, **kwds)\u001b[0m\n\u001b[1;32m    944\u001b[0m             \u001b[0mself\u001b[0m\u001b[0;34m.\u001b[0m\u001b[0moptions\u001b[0m\u001b[0;34m[\u001b[0m\u001b[0;34m\"has_index_names\"\u001b[0m\u001b[0;34m]\u001b[0m \u001b[0;34m=\u001b[0m \u001b[0mkwds\u001b[0m\u001b[0;34m[\u001b[0m\u001b[0;34m\"has_index_names\"\u001b[0m\u001b[0;34m]\u001b[0m\u001b[0;34m\u001b[0m\u001b[0;34m\u001b[0m\u001b[0m\n\u001b[1;32m    945\u001b[0m \u001b[0;34m\u001b[0m\u001b[0m\n\u001b[0;32m--> 946\u001b[0;31m         \u001b[0mself\u001b[0m\u001b[0;34m.\u001b[0m\u001b[0m_make_engine\u001b[0m\u001b[0;34m(\u001b[0m\u001b[0mself\u001b[0m\u001b[0;34m.\u001b[0m\u001b[0mengine\u001b[0m\u001b[0;34m)\u001b[0m\u001b[0;34m\u001b[0m\u001b[0;34m\u001b[0m\u001b[0m\n\u001b[0m\u001b[1;32m    947\u001b[0m \u001b[0;34m\u001b[0m\u001b[0m\n\u001b[1;32m    948\u001b[0m     \u001b[0;32mdef\u001b[0m \u001b[0mclose\u001b[0m\u001b[0;34m(\u001b[0m\u001b[0mself\u001b[0m\u001b[0;34m)\u001b[0m\u001b[0;34m:\u001b[0m\u001b[0;34m\u001b[0m\u001b[0;34m\u001b[0m\u001b[0m\n",
      "\u001b[0;32m~/opt/anaconda3/lib/python3.8/site-packages/pandas/io/parsers.py\u001b[0m in \u001b[0;36m_make_engine\u001b[0;34m(self, engine)\u001b[0m\n\u001b[1;32m   1176\u001b[0m     \u001b[0;32mdef\u001b[0m \u001b[0m_make_engine\u001b[0m\u001b[0;34m(\u001b[0m\u001b[0mself\u001b[0m\u001b[0;34m,\u001b[0m \u001b[0mengine\u001b[0m\u001b[0;34m=\u001b[0m\u001b[0;34m\"c\"\u001b[0m\u001b[0;34m)\u001b[0m\u001b[0;34m:\u001b[0m\u001b[0;34m\u001b[0m\u001b[0;34m\u001b[0m\u001b[0m\n\u001b[1;32m   1177\u001b[0m         \u001b[0;32mif\u001b[0m \u001b[0mengine\u001b[0m \u001b[0;34m==\u001b[0m \u001b[0;34m\"c\"\u001b[0m\u001b[0;34m:\u001b[0m\u001b[0;34m\u001b[0m\u001b[0;34m\u001b[0m\u001b[0m\n\u001b[0;32m-> 1178\u001b[0;31m             \u001b[0mself\u001b[0m\u001b[0;34m.\u001b[0m\u001b[0m_engine\u001b[0m \u001b[0;34m=\u001b[0m \u001b[0mCParserWrapper\u001b[0m\u001b[0;34m(\u001b[0m\u001b[0mself\u001b[0m\u001b[0;34m.\u001b[0m\u001b[0mf\u001b[0m\u001b[0;34m,\u001b[0m \u001b[0;34m**\u001b[0m\u001b[0mself\u001b[0m\u001b[0;34m.\u001b[0m\u001b[0moptions\u001b[0m\u001b[0;34m)\u001b[0m\u001b[0;34m\u001b[0m\u001b[0;34m\u001b[0m\u001b[0m\n\u001b[0m\u001b[1;32m   1179\u001b[0m         \u001b[0;32melse\u001b[0m\u001b[0;34m:\u001b[0m\u001b[0;34m\u001b[0m\u001b[0;34m\u001b[0m\u001b[0m\n\u001b[1;32m   1180\u001b[0m             \u001b[0;32mif\u001b[0m \u001b[0mengine\u001b[0m \u001b[0;34m==\u001b[0m \u001b[0;34m\"python\"\u001b[0m\u001b[0;34m:\u001b[0m\u001b[0;34m\u001b[0m\u001b[0;34m\u001b[0m\u001b[0m\n",
      "\u001b[0;32m~/opt/anaconda3/lib/python3.8/site-packages/pandas/io/parsers.py\u001b[0m in \u001b[0;36m__init__\u001b[0;34m(self, src, **kwds)\u001b[0m\n\u001b[1;32m   2006\u001b[0m         \u001b[0mkwds\u001b[0m\u001b[0;34m[\u001b[0m\u001b[0;34m\"usecols\"\u001b[0m\u001b[0;34m]\u001b[0m \u001b[0;34m=\u001b[0m \u001b[0mself\u001b[0m\u001b[0;34m.\u001b[0m\u001b[0musecols\u001b[0m\u001b[0;34m\u001b[0m\u001b[0;34m\u001b[0m\u001b[0m\n\u001b[1;32m   2007\u001b[0m \u001b[0;34m\u001b[0m\u001b[0m\n\u001b[0;32m-> 2008\u001b[0;31m         \u001b[0mself\u001b[0m\u001b[0;34m.\u001b[0m\u001b[0m_reader\u001b[0m \u001b[0;34m=\u001b[0m \u001b[0mparsers\u001b[0m\u001b[0;34m.\u001b[0m\u001b[0mTextReader\u001b[0m\u001b[0;34m(\u001b[0m\u001b[0msrc\u001b[0m\u001b[0;34m,\u001b[0m \u001b[0;34m**\u001b[0m\u001b[0mkwds\u001b[0m\u001b[0;34m)\u001b[0m\u001b[0;34m\u001b[0m\u001b[0;34m\u001b[0m\u001b[0m\n\u001b[0m\u001b[1;32m   2009\u001b[0m         \u001b[0mself\u001b[0m\u001b[0;34m.\u001b[0m\u001b[0munnamed_cols\u001b[0m \u001b[0;34m=\u001b[0m \u001b[0mself\u001b[0m\u001b[0;34m.\u001b[0m\u001b[0m_reader\u001b[0m\u001b[0;34m.\u001b[0m\u001b[0munnamed_cols\u001b[0m\u001b[0;34m\u001b[0m\u001b[0;34m\u001b[0m\u001b[0m\n\u001b[1;32m   2010\u001b[0m \u001b[0;34m\u001b[0m\u001b[0m\n",
      "\u001b[0;32mpandas/_libs/parsers.pyx\u001b[0m in \u001b[0;36mpandas._libs.parsers.TextReader.__cinit__\u001b[0;34m()\u001b[0m\n",
      "\u001b[0;32mpandas/_libs/parsers.pyx\u001b[0m in \u001b[0;36mpandas._libs.parsers.TextReader._setup_parser_source\u001b[0;34m()\u001b[0m\n",
      "\u001b[0;31mFileNotFoundError\u001b[0m: [Errno 2] No such file or directory: 'dailyMontrealEdStats.csv'"
     ]
    }
   ],
   "source": [
    "old_data = pd.read_csv('dailyMontrealEdStats.csv')\n",
    "old_data['date'] = pd.to_datetime(old_data['date'])\n",
    "print('old data: ', len(old_data), ' rows, ending ', old_data.date.max())\n",
    "old_data.head()\n"
   ]
  },
  {
   "cell_type": "code",
   "execution_count": 4,
   "metadata": {},
   "outputs": [
    {
     "output_type": "execute_result",
     "data": {
      "text/plain": [
       "                                     Installation Taux occupation civières(%)  \\\n",
       "0                              CHU Sainte-Justine                          31   \n",
       "1  Centre hospitalier de l'Université de Montréal                         114   \n",
       "2                     Hôpital Louis-H. Lafontaine                          42   \n",
       "3                           Hôpital Santa Cabrini                         129   \n",
       "4  Pavillon Maisonneuve/Pavillon Marcel-Lamoureux                         131   \n",
       "\n",
       "  Nombre de civières fonctionnelles Nombre de patients sur civière  \\\n",
       "0                                16                              5   \n",
       "1                                51                             58   \n",
       "2                                12                              5   \n",
       "3                                38                             49   \n",
       "4                                54                             71   \n",
       "\n",
       "  Nombre de patients sur civière +24h Nombre de patients sur civière +48h  \\\n",
       "0                                   0                                   0   \n",
       "1                                  21                                   7   \n",
       "2                                   3                                   1   \n",
       "3                                  17                                  11   \n",
       "4                                  21                                   4   \n",
       "\n",
       "  Nombre patients arrivés en ambulance Nombre inscriptions  \\\n",
       "0                                    7                 186   \n",
       "1                                   48                 165   \n",
       "2                                    0                  13   \n",
       "3                                   36                  91   \n",
       "4                                   41                 152   \n",
       "\n",
       "  Nombre inscriptions avec SAG  \n",
       "0                            2  \n",
       "1                            0  \n",
       "2                            0  \n",
       "3                            0  \n",
       "4                            0  "
      ],
      "text/html": "<div>\n<style scoped>\n    .dataframe tbody tr th:only-of-type {\n        vertical-align: middle;\n    }\n\n    .dataframe tbody tr th {\n        vertical-align: top;\n    }\n\n    .dataframe thead th {\n        text-align: right;\n    }\n</style>\n<table border=\"1\" class=\"dataframe\">\n  <thead>\n    <tr style=\"text-align: right;\">\n      <th></th>\n      <th>Installation</th>\n      <th>Taux occupation civières(%)</th>\n      <th>Nombre de civières fonctionnelles</th>\n      <th>Nombre de patients sur civière</th>\n      <th>Nombre de patients sur civière +24h</th>\n      <th>Nombre de patients sur civière +48h</th>\n      <th>Nombre patients arrivés en ambulance</th>\n      <th>Nombre inscriptions</th>\n      <th>Nombre inscriptions avec SAG</th>\n    </tr>\n  </thead>\n  <tbody>\n    <tr>\n      <th>0</th>\n      <td>CHU Sainte-Justine</td>\n      <td>31</td>\n      <td>16</td>\n      <td>5</td>\n      <td>0</td>\n      <td>0</td>\n      <td>7</td>\n      <td>186</td>\n      <td>2</td>\n    </tr>\n    <tr>\n      <th>1</th>\n      <td>Centre hospitalier de l'Université de Montréal</td>\n      <td>114</td>\n      <td>51</td>\n      <td>58</td>\n      <td>21</td>\n      <td>7</td>\n      <td>48</td>\n      <td>165</td>\n      <td>0</td>\n    </tr>\n    <tr>\n      <th>2</th>\n      <td>Hôpital Louis-H. Lafontaine</td>\n      <td>42</td>\n      <td>12</td>\n      <td>5</td>\n      <td>3</td>\n      <td>1</td>\n      <td>0</td>\n      <td>13</td>\n      <td>0</td>\n    </tr>\n    <tr>\n      <th>3</th>\n      <td>Hôpital Santa Cabrini</td>\n      <td>129</td>\n      <td>38</td>\n      <td>49</td>\n      <td>17</td>\n      <td>11</td>\n      <td>36</td>\n      <td>91</td>\n      <td>0</td>\n    </tr>\n    <tr>\n      <th>4</th>\n      <td>Pavillon Maisonneuve/Pavillon Marcel-Lamoureux</td>\n      <td>131</td>\n      <td>54</td>\n      <td>71</td>\n      <td>21</td>\n      <td>4</td>\n      <td>41</td>\n      <td>152</td>\n      <td>0</td>\n    </tr>\n  </tbody>\n</table>\n</div>"
     },
     "metadata": {},
     "execution_count": 4
    }
   ],
   "source": [
    "url = 'https://santemontreal.qc.ca/fileadmin/fichiers_portail/Donnees_urgence/urgence_quotidien_media.html'\n",
    "r = requests.get(url)\n",
    "soup = BeautifulSoup(r.text)\n",
    "\n",
    "table = soup.find('table')\n",
    "\n",
    "rows = table.find_all('tr')\n",
    "table_rows = rows[0].find_all('tr')\n",
    "\n",
    "columns = [i.text.replace('-', '') for i in table_rows[6].find_all('td')]\n",
    "\n",
    "df_rows = []\n",
    "for tr in table_rows[7:][:-6]:\n",
    "    td = tr.find_all('td')\n",
    "    row = [i.text for i in td]\n",
    "    if '\\xa0' in str(tr):\n",
    "        continue\n",
    "    if 'Sous-total' in str(tr):\n",
    "        continue\n",
    "    df_rows.append(row)\n",
    "\n",
    "df = pd.DataFrame.from_records(df_rows, columns=columns)\n",
    "\n",
    "df.head()\n"
   ]
  },
  {
   "cell_type": "code",
   "execution_count": 23,
   "metadata": {},
   "outputs": [
    {
     "output_type": "execute_result",
     "data": {
      "text/plain": [
       "                                     Installation  \\\n",
       "0                              CHU Sainte-Justine   \n",
       "1  Centre hospitalier de l'Université de Montréal   \n",
       "2                     Hôpital Louis-H. Lafontaine   \n",
       "3                           Hôpital Santa Cabrini   \n",
       "4  Pavillon Maisonneuve/Pavillon Marcel-Lamoureux   \n",
       "\n",
       "   Taux occupation civières(%)  Nombre de civières fonctionnelles  \\\n",
       "0                           25                                 16   \n",
       "1                          124                                 51   \n",
       "2                           67                                 12   \n",
       "3                          113                                 38   \n",
       "4                          135                                 54   \n",
       "\n",
       "   Nombre de patients sur civière  Nombre de patients sur civière +24h  \\\n",
       "0                               4                                    0   \n",
       "1                              63                                   23   \n",
       "2                               8                                    3   \n",
       "3                              43                                   18   \n",
       "4                              73                                   22   \n",
       "\n",
       "   Nombre de patients sur civière +48h  Nombre patients arrivés en ambulance  \\\n",
       "0                                    0                                    12   \n",
       "1                                    7                                    51   \n",
       "2                                    2                                     1   \n",
       "3                                    8                                    35   \n",
       "4                                    5                                    56   \n",
       "\n",
       "   Nombre inscriptions  Nombre inscriptions avec SAG       date  \n",
       "0                  154                             1 2021-03-08  \n",
       "1                  161                             0 2021-03-08  \n",
       "2                   13                             0 2021-03-08  \n",
       "3                   78                             0 2021-03-08  \n",
       "4                  174                             0 2021-03-08  "
      ],
      "text/html": "<div>\n<style scoped>\n    .dataframe tbody tr th:only-of-type {\n        vertical-align: middle;\n    }\n\n    .dataframe tbody tr th {\n        vertical-align: top;\n    }\n\n    .dataframe thead th {\n        text-align: right;\n    }\n</style>\n<table border=\"1\" class=\"dataframe\">\n  <thead>\n    <tr style=\"text-align: right;\">\n      <th></th>\n      <th>Installation</th>\n      <th>Taux occupation civières(%)</th>\n      <th>Nombre de civières fonctionnelles</th>\n      <th>Nombre de patients sur civière</th>\n      <th>Nombre de patients sur civière +24h</th>\n      <th>Nombre de patients sur civière +48h</th>\n      <th>Nombre patients arrivés en ambulance</th>\n      <th>Nombre inscriptions</th>\n      <th>Nombre inscriptions avec SAG</th>\n      <th>date</th>\n    </tr>\n  </thead>\n  <tbody>\n    <tr>\n      <th>0</th>\n      <td>CHU Sainte-Justine</td>\n      <td>25</td>\n      <td>16</td>\n      <td>4</td>\n      <td>0</td>\n      <td>0</td>\n      <td>12</td>\n      <td>154</td>\n      <td>1</td>\n      <td>2021-03-08</td>\n    </tr>\n    <tr>\n      <th>1</th>\n      <td>Centre hospitalier de l'Université de Montréal</td>\n      <td>124</td>\n      <td>51</td>\n      <td>63</td>\n      <td>23</td>\n      <td>7</td>\n      <td>51</td>\n      <td>161</td>\n      <td>0</td>\n      <td>2021-03-08</td>\n    </tr>\n    <tr>\n      <th>2</th>\n      <td>Hôpital Louis-H. Lafontaine</td>\n      <td>67</td>\n      <td>12</td>\n      <td>8</td>\n      <td>3</td>\n      <td>2</td>\n      <td>1</td>\n      <td>13</td>\n      <td>0</td>\n      <td>2021-03-08</td>\n    </tr>\n    <tr>\n      <th>3</th>\n      <td>Hôpital Santa Cabrini</td>\n      <td>113</td>\n      <td>38</td>\n      <td>43</td>\n      <td>18</td>\n      <td>8</td>\n      <td>35</td>\n      <td>78</td>\n      <td>0</td>\n      <td>2021-03-08</td>\n    </tr>\n    <tr>\n      <th>4</th>\n      <td>Pavillon Maisonneuve/Pavillon Marcel-Lamoureux</td>\n      <td>135</td>\n      <td>54</td>\n      <td>73</td>\n      <td>22</td>\n      <td>5</td>\n      <td>56</td>\n      <td>174</td>\n      <td>0</td>\n      <td>2021-03-08</td>\n    </tr>\n  </tbody>\n</table>\n</div>"
     },
     "metadata": {},
     "execution_count": 23
    }
   ],
   "source": [
    "columns.remove('Installation')\n",
    "\n",
    "for int_col in columns:\n",
    "    df[int_col] = pd.to_numeric(df[int_col], errors='coerce')\n",
    "\n",
    "yesterday = date.today() - timedelta(days=1)\n",
    "df['date'] = yesterday\n",
    "df.date = pd.to_datetime(df.date)\n",
    "\n",
    "new_data = df\n",
    "\n",
    "new_data.head()"
   ]
  },
  {
   "cell_type": "code",
   "execution_count": 25,
   "metadata": {},
   "outputs": [
    {
     "output_type": "stream",
     "name": "stdout",
     "text": [
      "new data:  21  rows, ending  2021-03-08 00:00:00\nconcat data:  6293  rows\nold jgh data:  3229  rows, ending  2021-03-06 00:00:00\nconcat jgh data:  3230\n"
     ]
    }
   ],
   "source": [
    "\n",
    "\n",
    "print('new data: ', len(new_data), ' rows, ending ', new_data.date.max())\n",
    "\n",
    "concat_data = pd.concat([old_data, new_data], ignore_index=False)\n",
    "concat_data = concat_data.drop_duplicates().reset_index(drop=True)\n",
    "print('concat data: ', len(concat_data), ' rows')\n",
    "\n",
    "concat_data.to_csv('dailyMontrealEdStats.csv', index=False)\n",
    "\n",
    "old_jgh_data = pd.read_csv('jghDailyVisits.csv')\n",
    "old_jgh_data['ds'] = pd.to_datetime(old_jgh_data['ds'])\n",
    "print('old jgh data: ', len(old_jgh_data),\n",
    "      ' rows, ending ', old_jgh_data.ds.max())\n",
    "\n",
    "new_jgh_data = df[df.Installation == \"L'Hôpital général juif Sir Mortimer B. Davis\"][[\n",
    "    'Nombre inscriptions', 'date']]\n",
    "\n",
    "new_jgh_data = new_jgh_data.rename(\n",
    "    columns={'Nombre inscriptions': \"y\", \"date\": \"ds\"})\n",
    "\n",
    "concat_jgh_data = old_jgh_data.append(\n",
    "    new_jgh_data, ignore_index=True, sort=True)\n",
    "\n",
    "print('concat jgh data: ', len(concat_jgh_data))\n",
    "\n",
    "concat_jgh_data.to_csv('jghDailyVisits.csv', index=False)"
   ]
  },
  {
   "cell_type": "code",
   "execution_count": null,
   "metadata": {},
   "outputs": [],
   "source": []
  }
 ]
}