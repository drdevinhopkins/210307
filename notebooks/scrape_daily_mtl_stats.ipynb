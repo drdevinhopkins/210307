{
 "metadata": {
  "language_info": {
   "codemirror_mode": {
    "name": "ipython",
    "version": 3
   },
   "file_extension": ".py",
   "mimetype": "text/x-python",
   "name": "python",
   "nbconvert_exporter": "python",
   "pygments_lexer": "ipython3",
   "version": "3.8.5-final"
  },
  "orig_nbformat": 2,
  "kernelspec": {
   "name": "python3",
   "display_name": "Python 3.8.5 64-bit ('base': conda)",
   "metadata": {
    "interpreter": {
     "hash": "759f92077ddf767ee53021667a11c5c835d99672edecdbae08c8b508f136d5a9"
    }
   }
  }
 },
 "nbformat": 4,
 "nbformat_minor": 2,
 "cells": [
  {
   "cell_type": "code",
   "execution_count": 5,
   "metadata": {},
   "outputs": [],
   "source": [
    "import pandas as pd\n",
    "from bs4 import BeautifulSoup\n",
    "import requests\n",
    "from datetime import date, timedelta\n",
    "import time\n",
    "import os\n",
    "\n",
    "\n"
   ]
  },
  {
   "cell_type": "code",
   "execution_count": 7,
   "metadata": {},
   "outputs": [
    {
     "output_type": "stream",
     "name": "stdout",
     "text": [
      "old data:  6293  rows, ending  2021-03-08 00:00:00\n"
     ]
    },
    {
     "output_type": "execute_result",
     "data": {
      "text/plain": [
       "                                     Installation  \\\n",
       "0                              CHU Sainte-Justine   \n",
       "1  Centre hospitalier de l'Université de Montréal   \n",
       "2                     Hôpital Louis-H. Lafontaine   \n",
       "3                           Hôpital Santa Cabrini   \n",
       "4  Pavillon Maisonneuve/Pavillon Marcel-Lamoureux   \n",
       "\n",
       "   Taux occupation civières(%)  Nombre de civières fonctionnelles  \\\n",
       "0                           94                                 16   \n",
       "1                          145                                 51   \n",
       "2                          200                                 12   \n",
       "3                           97                                 38   \n",
       "4                          115                                 54   \n",
       "\n",
       "   Nombre de patients sur civière  Nombre de patients sur civière +24h  \\\n",
       "0                              15                                    0   \n",
       "1                              74                                   36   \n",
       "2                              24                                   20   \n",
       "3                              37                                   12   \n",
       "4                              62                                   18   \n",
       "\n",
       "   Nombre de patients sur civière +48h  Nombre patients arrivés en ambulance  \\\n",
       "0                                    0                                    16   \n",
       "1                                   13                                    48   \n",
       "2                                   15                                     1   \n",
       "3                                    1                                    38   \n",
       "4                                    2                                    57   \n",
       "\n",
       "   Nombre inscriptions  Nombre inscriptions avec SAG       date  \n",
       "0                  274                            90 2020-01-25  \n",
       "1                  174                             0 2020-01-25  \n",
       "2                    9                             0 2020-01-25  \n",
       "3                  103                             0 2020-01-25  \n",
       "4                  194                             6 2020-01-25  "
      ],
      "text/html": "<div>\n<style scoped>\n    .dataframe tbody tr th:only-of-type {\n        vertical-align: middle;\n    }\n\n    .dataframe tbody tr th {\n        vertical-align: top;\n    }\n\n    .dataframe thead th {\n        text-align: right;\n    }\n</style>\n<table border=\"1\" class=\"dataframe\">\n  <thead>\n    <tr style=\"text-align: right;\">\n      <th></th>\n      <th>Installation</th>\n      <th>Taux occupation civières(%)</th>\n      <th>Nombre de civières fonctionnelles</th>\n      <th>Nombre de patients sur civière</th>\n      <th>Nombre de patients sur civière +24h</th>\n      <th>Nombre de patients sur civière +48h</th>\n      <th>Nombre patients arrivés en ambulance</th>\n      <th>Nombre inscriptions</th>\n      <th>Nombre inscriptions avec SAG</th>\n      <th>date</th>\n    </tr>\n  </thead>\n  <tbody>\n    <tr>\n      <th>0</th>\n      <td>CHU Sainte-Justine</td>\n      <td>94</td>\n      <td>16</td>\n      <td>15</td>\n      <td>0</td>\n      <td>0</td>\n      <td>16</td>\n      <td>274</td>\n      <td>90</td>\n      <td>2020-01-25</td>\n    </tr>\n    <tr>\n      <th>1</th>\n      <td>Centre hospitalier de l'Université de Montréal</td>\n      <td>145</td>\n      <td>51</td>\n      <td>74</td>\n      <td>36</td>\n      <td>13</td>\n      <td>48</td>\n      <td>174</td>\n      <td>0</td>\n      <td>2020-01-25</td>\n    </tr>\n    <tr>\n      <th>2</th>\n      <td>Hôpital Louis-H. Lafontaine</td>\n      <td>200</td>\n      <td>12</td>\n      <td>24</td>\n      <td>20</td>\n      <td>15</td>\n      <td>1</td>\n      <td>9</td>\n      <td>0</td>\n      <td>2020-01-25</td>\n    </tr>\n    <tr>\n      <th>3</th>\n      <td>Hôpital Santa Cabrini</td>\n      <td>97</td>\n      <td>38</td>\n      <td>37</td>\n      <td>12</td>\n      <td>1</td>\n      <td>38</td>\n      <td>103</td>\n      <td>0</td>\n      <td>2020-01-25</td>\n    </tr>\n    <tr>\n      <th>4</th>\n      <td>Pavillon Maisonneuve/Pavillon Marcel-Lamoureux</td>\n      <td>115</td>\n      <td>54</td>\n      <td>62</td>\n      <td>18</td>\n      <td>2</td>\n      <td>57</td>\n      <td>194</td>\n      <td>6</td>\n      <td>2020-01-25</td>\n    </tr>\n  </tbody>\n</table>\n</div>"
     },
     "metadata": {},
     "execution_count": 7
    }
   ],
   "source": [
    "old_data = pd.read_csv('../dailyMontrealEdStats.csv')\n",
    "old_data['date'] = pd.to_datetime(old_data['date'])\n",
    "print('old data: ', len(old_data), ' rows, ending ', old_data.date.max())\n",
    "old_data.head()\n"
   ]
  },
  {
   "cell_type": "code",
   "execution_count": 8,
   "metadata": {},
   "outputs": [
    {
     "output_type": "execute_result",
     "data": {
      "text/plain": [
       "                                     Installation Taux occupation civières(%)  \\\n",
       "0                              CHU Sainte-Justine                          31   \n",
       "1  Centre hospitalier de l'Université de Montréal                         114   \n",
       "2                     Hôpital Louis-H. Lafontaine                          42   \n",
       "3                           Hôpital Santa Cabrini                         129   \n",
       "4  Pavillon Maisonneuve/Pavillon Marcel-Lamoureux                         131   \n",
       "\n",
       "  Nombre de civières fonctionnelles Nombre de patients sur civière  \\\n",
       "0                                16                              5   \n",
       "1                                51                             58   \n",
       "2                                12                              5   \n",
       "3                                38                             49   \n",
       "4                                54                             71   \n",
       "\n",
       "  Nombre de patients sur civière +24h Nombre de patients sur civière +48h  \\\n",
       "0                                   0                                   0   \n",
       "1                                  21                                   7   \n",
       "2                                   3                                   1   \n",
       "3                                  17                                  11   \n",
       "4                                  21                                   4   \n",
       "\n",
       "  Nombre patients arrivés en ambulance Nombre inscriptions  \\\n",
       "0                                    7                 186   \n",
       "1                                   48                 165   \n",
       "2                                    0                  13   \n",
       "3                                   36                  91   \n",
       "4                                   41                 152   \n",
       "\n",
       "  Nombre inscriptions avec SAG  \n",
       "0                            2  \n",
       "1                            0  \n",
       "2                            0  \n",
       "3                            0  \n",
       "4                            0  "
      ],
      "text/html": "<div>\n<style scoped>\n    .dataframe tbody tr th:only-of-type {\n        vertical-align: middle;\n    }\n\n    .dataframe tbody tr th {\n        vertical-align: top;\n    }\n\n    .dataframe thead th {\n        text-align: right;\n    }\n</style>\n<table border=\"1\" class=\"dataframe\">\n  <thead>\n    <tr style=\"text-align: right;\">\n      <th></th>\n      <th>Installation</th>\n      <th>Taux occupation civières(%)</th>\n      <th>Nombre de civières fonctionnelles</th>\n      <th>Nombre de patients sur civière</th>\n      <th>Nombre de patients sur civière +24h</th>\n      <th>Nombre de patients sur civière +48h</th>\n      <th>Nombre patients arrivés en ambulance</th>\n      <th>Nombre inscriptions</th>\n      <th>Nombre inscriptions avec SAG</th>\n    </tr>\n  </thead>\n  <tbody>\n    <tr>\n      <th>0</th>\n      <td>CHU Sainte-Justine</td>\n      <td>31</td>\n      <td>16</td>\n      <td>5</td>\n      <td>0</td>\n      <td>0</td>\n      <td>7</td>\n      <td>186</td>\n      <td>2</td>\n    </tr>\n    <tr>\n      <th>1</th>\n      <td>Centre hospitalier de l'Université de Montréal</td>\n      <td>114</td>\n      <td>51</td>\n      <td>58</td>\n      <td>21</td>\n      <td>7</td>\n      <td>48</td>\n      <td>165</td>\n      <td>0</td>\n    </tr>\n    <tr>\n      <th>2</th>\n      <td>Hôpital Louis-H. Lafontaine</td>\n      <td>42</td>\n      <td>12</td>\n      <td>5</td>\n      <td>3</td>\n      <td>1</td>\n      <td>0</td>\n      <td>13</td>\n      <td>0</td>\n    </tr>\n    <tr>\n      <th>3</th>\n      <td>Hôpital Santa Cabrini</td>\n      <td>129</td>\n      <td>38</td>\n      <td>49</td>\n      <td>17</td>\n      <td>11</td>\n      <td>36</td>\n      <td>91</td>\n      <td>0</td>\n    </tr>\n    <tr>\n      <th>4</th>\n      <td>Pavillon Maisonneuve/Pavillon Marcel-Lamoureux</td>\n      <td>131</td>\n      <td>54</td>\n      <td>71</td>\n      <td>21</td>\n      <td>4</td>\n      <td>41</td>\n      <td>152</td>\n      <td>0</td>\n    </tr>\n  </tbody>\n</table>\n</div>"
     },
     "metadata": {},
     "execution_count": 8
    }
   ],
   "source": [
    "url = 'https://santemontreal.qc.ca/fileadmin/fichiers_portail/Donnees_urgence/urgence_quotidien_media.html'\n",
    "r = requests.get(url)\n",
    "soup = BeautifulSoup(r.text)\n",
    "\n",
    "table = soup.find('table')\n",
    "\n",
    "rows = table.find_all('tr')\n",
    "table_rows = rows[0].find_all('tr')\n",
    "\n",
    "columns = [i.text.replace('-', '') for i in table_rows[6].find_all('td')]\n",
    "\n",
    "df_rows = []\n",
    "for tr in table_rows[7:][:-6]:\n",
    "    td = tr.find_all('td')\n",
    "    row = [i.text for i in td]\n",
    "    if '\\xa0' in str(tr):\n",
    "        continue\n",
    "    if 'Sous-total' in str(tr):\n",
    "        continue\n",
    "    df_rows.append(row)\n",
    "\n",
    "df = pd.DataFrame.from_records(df_rows, columns=columns)\n",
    "\n",
    "df.head()\n"
   ]
  },
  {
   "cell_type": "code",
   "execution_count": 9,
   "metadata": {},
   "outputs": [
    {
     "output_type": "execute_result",
     "data": {
      "text/plain": [
       "                                     Installation  \\\n",
       "0                              CHU Sainte-Justine   \n",
       "1  Centre hospitalier de l'Université de Montréal   \n",
       "2                     Hôpital Louis-H. Lafontaine   \n",
       "3                           Hôpital Santa Cabrini   \n",
       "4  Pavillon Maisonneuve/Pavillon Marcel-Lamoureux   \n",
       "\n",
       "   Taux occupation civières(%)  Nombre de civières fonctionnelles  \\\n",
       "0                           31                                 16   \n",
       "1                          114                                 51   \n",
       "2                           42                                 12   \n",
       "3                          129                                 38   \n",
       "4                          131                                 54   \n",
       "\n",
       "   Nombre de patients sur civière  Nombre de patients sur civière +24h  \\\n",
       "0                               5                                    0   \n",
       "1                              58                                   21   \n",
       "2                               5                                    3   \n",
       "3                              49                                   17   \n",
       "4                              71                                   21   \n",
       "\n",
       "   Nombre de patients sur civière +48h  Nombre patients arrivés en ambulance  \\\n",
       "0                                    0                                     7   \n",
       "1                                    7                                    48   \n",
       "2                                    1                                     0   \n",
       "3                                   11                                    36   \n",
       "4                                    4                                    41   \n",
       "\n",
       "   Nombre inscriptions  Nombre inscriptions avec SAG       date  \n",
       "0                  186                             2 2021-03-09  \n",
       "1                  165                             0 2021-03-09  \n",
       "2                   13                             0 2021-03-09  \n",
       "3                   91                             0 2021-03-09  \n",
       "4                  152                             0 2021-03-09  "
      ],
      "text/html": "<div>\n<style scoped>\n    .dataframe tbody tr th:only-of-type {\n        vertical-align: middle;\n    }\n\n    .dataframe tbody tr th {\n        vertical-align: top;\n    }\n\n    .dataframe thead th {\n        text-align: right;\n    }\n</style>\n<table border=\"1\" class=\"dataframe\">\n  <thead>\n    <tr style=\"text-align: right;\">\n      <th></th>\n      <th>Installation</th>\n      <th>Taux occupation civières(%)</th>\n      <th>Nombre de civières fonctionnelles</th>\n      <th>Nombre de patients sur civière</th>\n      <th>Nombre de patients sur civière +24h</th>\n      <th>Nombre de patients sur civière +48h</th>\n      <th>Nombre patients arrivés en ambulance</th>\n      <th>Nombre inscriptions</th>\n      <th>Nombre inscriptions avec SAG</th>\n      <th>date</th>\n    </tr>\n  </thead>\n  <tbody>\n    <tr>\n      <th>0</th>\n      <td>CHU Sainte-Justine</td>\n      <td>31</td>\n      <td>16</td>\n      <td>5</td>\n      <td>0</td>\n      <td>0</td>\n      <td>7</td>\n      <td>186</td>\n      <td>2</td>\n      <td>2021-03-09</td>\n    </tr>\n    <tr>\n      <th>1</th>\n      <td>Centre hospitalier de l'Université de Montréal</td>\n      <td>114</td>\n      <td>51</td>\n      <td>58</td>\n      <td>21</td>\n      <td>7</td>\n      <td>48</td>\n      <td>165</td>\n      <td>0</td>\n      <td>2021-03-09</td>\n    </tr>\n    <tr>\n      <th>2</th>\n      <td>Hôpital Louis-H. Lafontaine</td>\n      <td>42</td>\n      <td>12</td>\n      <td>5</td>\n      <td>3</td>\n      <td>1</td>\n      <td>0</td>\n      <td>13</td>\n      <td>0</td>\n      <td>2021-03-09</td>\n    </tr>\n    <tr>\n      <th>3</th>\n      <td>Hôpital Santa Cabrini</td>\n      <td>129</td>\n      <td>38</td>\n      <td>49</td>\n      <td>17</td>\n      <td>11</td>\n      <td>36</td>\n      <td>91</td>\n      <td>0</td>\n      <td>2021-03-09</td>\n    </tr>\n    <tr>\n      <th>4</th>\n      <td>Pavillon Maisonneuve/Pavillon Marcel-Lamoureux</td>\n      <td>131</td>\n      <td>54</td>\n      <td>71</td>\n      <td>21</td>\n      <td>4</td>\n      <td>41</td>\n      <td>152</td>\n      <td>0</td>\n      <td>2021-03-09</td>\n    </tr>\n  </tbody>\n</table>\n</div>"
     },
     "metadata": {},
     "execution_count": 9
    }
   ],
   "source": [
    "columns.remove('Installation')\n",
    "\n",
    "for int_col in columns:\n",
    "    df[int_col] = pd.to_numeric(df[int_col], errors='coerce')\n",
    "\n",
    "yesterday = date.today() - timedelta(days=1)\n",
    "df['date'] = yesterday\n",
    "df.date = pd.to_datetime(df.date)\n",
    "\n",
    "new_data = df\n",
    "\n",
    "new_data.head()"
   ]
  },
  {
   "cell_type": "code",
   "execution_count": 11,
   "metadata": {},
   "outputs": [
    {
     "output_type": "stream",
     "name": "stdout",
     "text": [
      "new data:  21  rows, ending  2021-03-09 00:00:00\nconcat data:  6314  rows\nold jgh data:  3231  rows, ending  2021-03-08 00:00:00\nconcat jgh data:  3232\n"
     ]
    }
   ],
   "source": [
    "\n",
    "\n",
    "print('new data: ', len(new_data), ' rows, ending ', new_data.date.max())\n",
    "\n",
    "concat_data = pd.concat([old_data, new_data], ignore_index=False)\n",
    "concat_data = concat_data.drop_duplicates().reset_index(drop=True)\n",
    "print('concat data: ', len(concat_data), ' rows')\n",
    "\n",
    "concat_data.to_csv('../dailyMontrealEdStats.csv', index=False)\n",
    "\n",
    "old_jgh_data = pd.read_csv('../jghDailyVisits.csv')\n",
    "old_jgh_data['ds'] = pd.to_datetime(old_jgh_data['ds'])\n",
    "print('old jgh data: ', len(old_jgh_data),\n",
    "      ' rows, ending ', old_jgh_data.ds.max())\n",
    "\n",
    "new_jgh_data = df[df.Installation == \"L'Hôpital général juif Sir Mortimer B. Davis\"][[\n",
    "    'Nombre inscriptions', 'date']]\n",
    "\n",
    "new_jgh_data = new_jgh_data.rename(\n",
    "    columns={'Nombre inscriptions': \"y\", \"date\": \"ds\"})\n",
    "\n",
    "concat_jgh_data = old_jgh_data.append(\n",
    "    new_jgh_data, ignore_index=True, sort=True)\n",
    "\n",
    "print('concat jgh data: ', len(concat_jgh_data))\n",
    "\n",
    "concat_jgh_data.to_csv('../jghDailyVisits.csv', index=False)"
   ]
  },
  {
   "cell_type": "code",
   "execution_count": null,
   "metadata": {},
   "outputs": [],
   "source": []
  }
 ]
}