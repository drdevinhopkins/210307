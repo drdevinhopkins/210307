{
 "metadata": {
  "language_info": {
   "codemirror_mode": {
    "name": "ipython",
    "version": 3
   },
   "file_extension": ".py",
   "mimetype": "text/x-python",
   "name": "python",
   "nbconvert_exporter": "python",
   "pygments_lexer": "ipython3",
   "version": "3.8.5-final"
  },
  "orig_nbformat": 2,
  "kernelspec": {
   "name": "python3",
   "display_name": "Python 3.8.5 64-bit ('base': conda)",
   "metadata": {
    "interpreter": {
     "hash": "759f92077ddf767ee53021667a11c5c835d99672edecdbae08c8b508f136d5a9"
    }
   }
  }
 },
 "nbformat": 4,
 "nbformat_minor": 2,
 "cells": [
  {
   "cell_type": "code",
   "execution_count": 1,
   "metadata": {},
   "outputs": [
    {
     "output_type": "execute_result",
     "data": {
      "text/plain": [
       "                   Nom_etablissement                 Nom_installation  \\\n",
       "187219    CISSS de la Montérégie-Est           Hôpital Honoré-Mercier   \n",
       "187220    CISSS de la Montérégie-Est           Hôpital Pierre-Boucher   \n",
       "187221  CISSS de la Montérégie-Ouest  Centre hospitalier Anna-Laberge   \n",
       "187222  CISSS de la Montérégie-Ouest          Hôpital Barrie Memorial   \n",
       "187223  CISSS de la Montérégie-Ouest                Hôpital du Suroît   \n",
       "\n",
       "        No_permis_installation  Nombre_de_civieres_fonctionnelles  \\\n",
       "187219                51229193                               26.0   \n",
       "187220                51229011                               35.0   \n",
       "187221                51229151                               32.0   \n",
       "187222                51228005                                5.0   \n",
       "187223                51229136                               32.0   \n",
       "\n",
       "        Nombre_de_civieres_occupees  \\\n",
       "187219                         24.0   \n",
       "187220                         47.0   \n",
       "187221                         45.0   \n",
       "187222                          3.0   \n",
       "187223                         38.0   \n",
       "\n",
       "        Nombre_de_patients_sur_civiere_plus_de_24_heures  \\\n",
       "187219                                               6.0   \n",
       "187220                                               9.0   \n",
       "187221                                              25.0   \n",
       "187222                                               0.0   \n",
       "187223                                              15.0   \n",
       "\n",
       "        Nombre_de_patients_sur_civiere_plus_de_48_heures  \\\n",
       "187219                                               0.0   \n",
       "187220                                               1.0   \n",
       "187221                                              12.0   \n",
       "187222                                               0.0   \n",
       "187223                                               8.0   \n",
       "\n",
       "       Heure_de_l'extraction_(image)         Mise_a_jour  \n",
       "187219           2021-03-11 09:00:00 2021-03-11 09:28:00  \n",
       "187220           2021-03-11 09:00:00 2021-03-11 09:28:00  \n",
       "187221           2021-03-11 09:00:00 2021-03-11 09:28:00  \n",
       "187222           2021-03-11 09:00:00 2021-03-11 09:28:00  \n",
       "187223           2021-03-11 09:00:00 2021-03-11 09:28:00  "
      ],
      "text/html": "<div>\n<style scoped>\n    .dataframe tbody tr th:only-of-type {\n        vertical-align: middle;\n    }\n\n    .dataframe tbody tr th {\n        vertical-align: top;\n    }\n\n    .dataframe thead th {\n        text-align: right;\n    }\n</style>\n<table border=\"1\" class=\"dataframe\">\n  <thead>\n    <tr style=\"text-align: right;\">\n      <th></th>\n      <th>Nom_etablissement</th>\n      <th>Nom_installation</th>\n      <th>No_permis_installation</th>\n      <th>Nombre_de_civieres_fonctionnelles</th>\n      <th>Nombre_de_civieres_occupees</th>\n      <th>Nombre_de_patients_sur_civiere_plus_de_24_heures</th>\n      <th>Nombre_de_patients_sur_civiere_plus_de_48_heures</th>\n      <th>Heure_de_l'extraction_(image)</th>\n      <th>Mise_a_jour</th>\n    </tr>\n  </thead>\n  <tbody>\n    <tr>\n      <th>187219</th>\n      <td>CISSS de la Montérégie-Est</td>\n      <td>Hôpital Honoré-Mercier</td>\n      <td>51229193</td>\n      <td>26.0</td>\n      <td>24.0</td>\n      <td>6.0</td>\n      <td>0.0</td>\n      <td>2021-03-11 09:00:00</td>\n      <td>2021-03-11 09:28:00</td>\n    </tr>\n    <tr>\n      <th>187220</th>\n      <td>CISSS de la Montérégie-Est</td>\n      <td>Hôpital Pierre-Boucher</td>\n      <td>51229011</td>\n      <td>35.0</td>\n      <td>47.0</td>\n      <td>9.0</td>\n      <td>1.0</td>\n      <td>2021-03-11 09:00:00</td>\n      <td>2021-03-11 09:28:00</td>\n    </tr>\n    <tr>\n      <th>187221</th>\n      <td>CISSS de la Montérégie-Ouest</td>\n      <td>Centre hospitalier Anna-Laberge</td>\n      <td>51229151</td>\n      <td>32.0</td>\n      <td>45.0</td>\n      <td>25.0</td>\n      <td>12.0</td>\n      <td>2021-03-11 09:00:00</td>\n      <td>2021-03-11 09:28:00</td>\n    </tr>\n    <tr>\n      <th>187222</th>\n      <td>CISSS de la Montérégie-Ouest</td>\n      <td>Hôpital Barrie Memorial</td>\n      <td>51228005</td>\n      <td>5.0</td>\n      <td>3.0</td>\n      <td>0.0</td>\n      <td>0.0</td>\n      <td>2021-03-11 09:00:00</td>\n      <td>2021-03-11 09:28:00</td>\n    </tr>\n    <tr>\n      <th>187223</th>\n      <td>CISSS de la Montérégie-Ouest</td>\n      <td>Hôpital du Suroît</td>\n      <td>51229136</td>\n      <td>32.0</td>\n      <td>38.0</td>\n      <td>15.0</td>\n      <td>8.0</td>\n      <td>2021-03-11 09:00:00</td>\n      <td>2021-03-11 09:28:00</td>\n    </tr>\n  </tbody>\n</table>\n</div>"
     },
     "metadata": {},
     "execution_count": 1
    }
   ],
   "source": [
    "import pandas as pd\n",
    "\n",
    "old_data = pd.read_csv('../hourlyQuebecEDStats.csv')\n",
    "old_data['Mise_a_jour'] = pd.to_datetime(old_data['Mise_a_jour'])\n",
    "old_data[\"Heure_de_l'extraction_(image)\"] = pd.to_datetime(\n",
    "    old_data[\"Heure_de_l'extraction_(image)\"])\n",
    "# print('old data: ', len(old_data))\n",
    "\n",
    "old_data.tail()\n",
    "\n"
   ]
  },
  {
   "cell_type": "code",
   "execution_count": 2,
   "metadata": {},
   "outputs": [
    {
     "output_type": "execute_result",
     "data": {
      "text/plain": [
       "           Nom_etablissement                              Nom_installation   \\\n",
       "0  CISSS du Bas-Saint-Laurent                             Hôpital de Matane   \n",
       "1  CISSS du Bas-Saint-Laurent                    Centre hospitalier d'Amqui   \n",
       "2  CISSS du Bas-Saint-Laurent                  Hôpital régional de Rimouski   \n",
       "3  CISSS du Bas-Saint-Laurent             Centre hospitalier Trois-Pistoles   \n",
       "4  CISSS du Bas-Saint-Laurent  Centre hospitalier régional du Grand-Portage   \n",
       "\n",
       "    No_permis_installation   Nombre_de_civieres_fonctionnelles   \\\n",
       "0                  51218980                                   7   \n",
       "1                  51226892                                   6   \n",
       "2                  51227882                                  12   \n",
       "3                  51220499                                   3   \n",
       "4                  51218352                                   9   \n",
       "\n",
       "   Nombre_de_civieres_occupees   \\\n",
       "0                             6   \n",
       "1                             3   \n",
       "2                            10   \n",
       "3                             3   \n",
       "4                             8   \n",
       "\n",
       "   Nombre_de_patients_sur_civiere_plus_de_24_heures   \\\n",
       "0                                                  0   \n",
       "1                                                  0   \n",
       "2                                                  0   \n",
       "3                                                  0   \n",
       "4                                                  0   \n",
       "\n",
       "   Nombre_de_patients_sur_civiere_plus_de_48_heures   \\\n",
       "0                                                  0   \n",
       "1                                                  0   \n",
       "2                                                  0   \n",
       "3                                                  0   \n",
       "4                                                  0   \n",
       "\n",
       "   Heure_de_l'extraction_(image)        Mise_a_jour  \n",
       "0                        15:00:00  2021-03-11T15:28  \n",
       "1                        15:00:00  2021-03-11T15:28  \n",
       "2                        15:00:00  2021-03-11T15:28  \n",
       "3                        15:00:00  2021-03-11T15:28  \n",
       "4                        15:00:00  2021-03-11T15:28  "
      ],
      "text/html": "<div>\n<style scoped>\n    .dataframe tbody tr th:only-of-type {\n        vertical-align: middle;\n    }\n\n    .dataframe tbody tr th {\n        vertical-align: top;\n    }\n\n    .dataframe thead th {\n        text-align: right;\n    }\n</style>\n<table border=\"1\" class=\"dataframe\">\n  <thead>\n    <tr style=\"text-align: right;\">\n      <th></th>\n      <th>Nom_etablissement</th>\n      <th>Nom_installation</th>\n      <th>No_permis_installation</th>\n      <th>Nombre_de_civieres_fonctionnelles</th>\n      <th>Nombre_de_civieres_occupees</th>\n      <th>Nombre_de_patients_sur_civiere_plus_de_24_heures</th>\n      <th>Nombre_de_patients_sur_civiere_plus_de_48_heures</th>\n      <th>Heure_de_l'extraction_(image)</th>\n      <th>Mise_a_jour</th>\n    </tr>\n  </thead>\n  <tbody>\n    <tr>\n      <th>0</th>\n      <td>CISSS du Bas-Saint-Laurent</td>\n      <td>Hôpital de Matane</td>\n      <td>51218980</td>\n      <td>7</td>\n      <td>6</td>\n      <td>0</td>\n      <td>0</td>\n      <td>15:00:00</td>\n      <td>2021-03-11T15:28</td>\n    </tr>\n    <tr>\n      <th>1</th>\n      <td>CISSS du Bas-Saint-Laurent</td>\n      <td>Centre hospitalier d'Amqui</td>\n      <td>51226892</td>\n      <td>6</td>\n      <td>3</td>\n      <td>0</td>\n      <td>0</td>\n      <td>15:00:00</td>\n      <td>2021-03-11T15:28</td>\n    </tr>\n    <tr>\n      <th>2</th>\n      <td>CISSS du Bas-Saint-Laurent</td>\n      <td>Hôpital régional de Rimouski</td>\n      <td>51227882</td>\n      <td>12</td>\n      <td>10</td>\n      <td>0</td>\n      <td>0</td>\n      <td>15:00:00</td>\n      <td>2021-03-11T15:28</td>\n    </tr>\n    <tr>\n      <th>3</th>\n      <td>CISSS du Bas-Saint-Laurent</td>\n      <td>Centre hospitalier Trois-Pistoles</td>\n      <td>51220499</td>\n      <td>3</td>\n      <td>3</td>\n      <td>0</td>\n      <td>0</td>\n      <td>15:00:00</td>\n      <td>2021-03-11T15:28</td>\n    </tr>\n    <tr>\n      <th>4</th>\n      <td>CISSS du Bas-Saint-Laurent</td>\n      <td>Centre hospitalier régional du Grand-Portage</td>\n      <td>51218352</td>\n      <td>9</td>\n      <td>8</td>\n      <td>0</td>\n      <td>0</td>\n      <td>15:00:00</td>\n      <td>2021-03-11T15:28</td>\n    </tr>\n  </tbody>\n</table>\n</div>"
     },
     "metadata": {},
     "execution_count": 2
    }
   ],
   "source": [
    "new_data = pd.read_csv(\n",
    "    'https://www.msss.gouv.qc.ca/professionnels/statistiques/documents/urgences/Releve_horaire_urgences_7jours.csv', encoding=\"ISO-8859-1\")\n",
    "\n",
    "new_data.head()\n"
   ]
  },
  {
   "cell_type": "code",
   "execution_count": 3,
   "metadata": {},
   "outputs": [
    {
     "output_type": "execute_result",
     "data": {
      "text/plain": [
       "            Nom_etablissement                              Nom_installation  \\\n",
       "0  CISSS du Bas-Saint-Laurent                             Hôpital de Matane   \n",
       "1  CISSS du Bas-Saint-Laurent                    Centre hospitalier d'Amqui   \n",
       "2  CISSS du Bas-Saint-Laurent                  Hôpital régional de Rimouski   \n",
       "3  CISSS du Bas-Saint-Laurent             Centre hospitalier Trois-Pistoles   \n",
       "4  CISSS du Bas-Saint-Laurent  Centre hospitalier régional du Grand-Portage   \n",
       "\n",
       "   No_permis_installation  Nombre_de_civieres_fonctionnelles  \\\n",
       "0                51218980                                7.0   \n",
       "1                51226892                                6.0   \n",
       "2                51227882                               12.0   \n",
       "3                51220499                                3.0   \n",
       "4                51218352                                9.0   \n",
       "\n",
       "   Nombre_de_civieres_occupees  \\\n",
       "0                          6.0   \n",
       "1                          3.0   \n",
       "2                         10.0   \n",
       "3                          3.0   \n",
       "4                          8.0   \n",
       "\n",
       "   Nombre_de_patients_sur_civiere_plus_de_24_heures  \\\n",
       "0                                               0.0   \n",
       "1                                               0.0   \n",
       "2                                               0.0   \n",
       "3                                               0.0   \n",
       "4                                               0.0   \n",
       "\n",
       "   Nombre_de_patients_sur_civiere_plus_de_48_heures  \\\n",
       "0                                               0.0   \n",
       "1                                               0.0   \n",
       "2                                               0.0   \n",
       "3                                               0.0   \n",
       "4                                               0.0   \n",
       "\n",
       "  Heure_de_l'extraction_(image)         Mise_a_jour  \n",
       "0           2021-03-11 15:00:00 2021-03-11 15:28:00  \n",
       "1           2021-03-11 15:00:00 2021-03-11 15:28:00  \n",
       "2           2021-03-11 15:00:00 2021-03-11 15:28:00  \n",
       "3           2021-03-11 15:00:00 2021-03-11 15:28:00  \n",
       "4           2021-03-11 15:00:00 2021-03-11 15:28:00  "
      ],
      "text/html": "<div>\n<style scoped>\n    .dataframe tbody tr th:only-of-type {\n        vertical-align: middle;\n    }\n\n    .dataframe tbody tr th {\n        vertical-align: top;\n    }\n\n    .dataframe thead th {\n        text-align: right;\n    }\n</style>\n<table border=\"1\" class=\"dataframe\">\n  <thead>\n    <tr style=\"text-align: right;\">\n      <th></th>\n      <th>Nom_etablissement</th>\n      <th>Nom_installation</th>\n      <th>No_permis_installation</th>\n      <th>Nombre_de_civieres_fonctionnelles</th>\n      <th>Nombre_de_civieres_occupees</th>\n      <th>Nombre_de_patients_sur_civiere_plus_de_24_heures</th>\n      <th>Nombre_de_patients_sur_civiere_plus_de_48_heures</th>\n      <th>Heure_de_l'extraction_(image)</th>\n      <th>Mise_a_jour</th>\n    </tr>\n  </thead>\n  <tbody>\n    <tr>\n      <th>0</th>\n      <td>CISSS du Bas-Saint-Laurent</td>\n      <td>Hôpital de Matane</td>\n      <td>51218980</td>\n      <td>7.0</td>\n      <td>6.0</td>\n      <td>0.0</td>\n      <td>0.0</td>\n      <td>2021-03-11 15:00:00</td>\n      <td>2021-03-11 15:28:00</td>\n    </tr>\n    <tr>\n      <th>1</th>\n      <td>CISSS du Bas-Saint-Laurent</td>\n      <td>Centre hospitalier d'Amqui</td>\n      <td>51226892</td>\n      <td>6.0</td>\n      <td>3.0</td>\n      <td>0.0</td>\n      <td>0.0</td>\n      <td>2021-03-11 15:00:00</td>\n      <td>2021-03-11 15:28:00</td>\n    </tr>\n    <tr>\n      <th>2</th>\n      <td>CISSS du Bas-Saint-Laurent</td>\n      <td>Hôpital régional de Rimouski</td>\n      <td>51227882</td>\n      <td>12.0</td>\n      <td>10.0</td>\n      <td>0.0</td>\n      <td>0.0</td>\n      <td>2021-03-11 15:00:00</td>\n      <td>2021-03-11 15:28:00</td>\n    </tr>\n    <tr>\n      <th>3</th>\n      <td>CISSS du Bas-Saint-Laurent</td>\n      <td>Centre hospitalier Trois-Pistoles</td>\n      <td>51220499</td>\n      <td>3.0</td>\n      <td>3.0</td>\n      <td>0.0</td>\n      <td>0.0</td>\n      <td>2021-03-11 15:00:00</td>\n      <td>2021-03-11 15:28:00</td>\n    </tr>\n    <tr>\n      <th>4</th>\n      <td>CISSS du Bas-Saint-Laurent</td>\n      <td>Centre hospitalier régional du Grand-Portage</td>\n      <td>51218352</td>\n      <td>9.0</td>\n      <td>8.0</td>\n      <td>0.0</td>\n      <td>0.0</td>\n      <td>2021-03-11 15:00:00</td>\n      <td>2021-03-11 15:28:00</td>\n    </tr>\n  </tbody>\n</table>\n</div>"
     },
     "metadata": {},
     "execution_count": 3
    }
   ],
   "source": [
    "new_data.rename(columns=lambda x: x.strip(), inplace=True)\n",
    "new_data['Mise_a_jour'] = pd.to_datetime(new_data['Mise_a_jour'])\n",
    "new_data[\"Heure_de_l'extraction_(image)\"] = pd.to_datetime(\n",
    "    new_data[\"Heure_de_l'extraction_(image)\"])\n",
    "new_data['Nombre_de_civieres_fonctionnelles'] = pd.to_numeric(\n",
    "    new_data['Nombre_de_civieres_fonctionnelles'], errors='coerce')\n",
    "new_data['Nombre_de_civieres_occupees'] = pd.to_numeric(\n",
    "    new_data['Nombre_de_civieres_occupees'], errors='coerce')\n",
    "new_data['Nombre_de_patients_sur_civiere_plus_de_24_heures'] = pd.to_numeric(\n",
    "    new_data['Nombre_de_patients_sur_civiere_plus_de_24_heures'], errors='coerce')\n",
    "new_data['Nombre_de_patients_sur_civiere_plus_de_48_heures'] = pd.to_numeric(\n",
    "    new_data['Nombre_de_patients_sur_civiere_plus_de_48_heures'], errors='coerce')\n",
    "# print('new data: ', len(new_data))\n",
    "\n",
    "new_data.head()\n"
   ]
  },
  {
   "cell_type": "code",
   "execution_count": 10,
   "metadata": {},
   "outputs": [
    {
     "output_type": "stream",
     "name": "stdout",
     "text": [
      "concat data:  185600\n"
     ]
    }
   ],
   "source": [
    "concat_data = pd.concat([old_data, new_data], ignore_index=False)\n",
    "concat_data = concat_data.drop_duplicates().reset_index(drop=True)\n",
    "print('concat data: ', len(concat_data))\n",
    "\n"
   ]
  },
  {
   "cell_type": "code",
   "execution_count": null,
   "metadata": {},
   "outputs": [],
   "source": [
    "concat_data.to_csv('hourlyQuebecEDStats.csv', index=False)\n",
    "\n"
   ]
  },
  {
   "cell_type": "code",
   "execution_count": 11,
   "metadata": {},
   "outputs": [
    {
     "output_type": "execute_result",
     "data": {
      "text/plain": [
       "       y                  ds\n",
       "47  69.0 2021-03-10 20:00:00"
      ],
      "text/html": "<div>\n<style scoped>\n    .dataframe tbody tr th:only-of-type {\n        vertical-align: middle;\n    }\n\n    .dataframe tbody tr th {\n        vertical-align: top;\n    }\n\n    .dataframe thead th {\n        text-align: right;\n    }\n</style>\n<table border=\"1\" class=\"dataframe\">\n  <thead>\n    <tr style=\"text-align: right;\">\n      <th></th>\n      <th>y</th>\n      <th>ds</th>\n    </tr>\n  </thead>\n  <tbody>\n    <tr>\n      <th>47</th>\n      <td>69.0</td>\n      <td>2021-03-10 20:00:00</td>\n    </tr>\n  </tbody>\n</table>\n</div>"
     },
     "metadata": {},
     "execution_count": 11
    }
   ],
   "source": [
    "new_jgh_hourly = new_data[new_data.No_permis_installation == 12685608]\n",
    "new_jgh_hourly = new_jgh_hourly[[\n",
    "    'Nombre_de_civieres_occupees', \"Heure_de_l'extraction_(image)\"]]\n",
    "new_jgh_hourly = new_jgh_hourly.rename(\n",
    "    columns={'Nombre_de_civieres_occupees': 'y', \"Heure_de_l'extraction_(image)\": 'ds'})\n",
    "new_jgh_hourly.ds = pd.to_datetime(new_jgh_hourly.ds)\n",
    "new_jgh_hourly.head()\n"
   ]
  },
  {
   "cell_type": "code",
   "execution_count": 12,
   "metadata": {},
   "outputs": [
    {
     "output_type": "execute_result",
     "data": {
      "text/plain": [
       "                       ds     y\n",
       "76695 2021-03-10 15:00:00  82.0\n",
       "76696 2021-03-10 16:00:00  80.0\n",
       "76697 2021-03-10 17:00:00  73.0\n",
       "76698 2021-03-10 18:00:00  72.0\n",
       "76699 2021-03-11 19:00:00  77.0"
      ],
      "text/html": "<div>\n<style scoped>\n    .dataframe tbody tr th:only-of-type {\n        vertical-align: middle;\n    }\n\n    .dataframe tbody tr th {\n        vertical-align: top;\n    }\n\n    .dataframe thead th {\n        text-align: right;\n    }\n</style>\n<table border=\"1\" class=\"dataframe\">\n  <thead>\n    <tr style=\"text-align: right;\">\n      <th></th>\n      <th>ds</th>\n      <th>y</th>\n    </tr>\n  </thead>\n  <tbody>\n    <tr>\n      <th>76695</th>\n      <td>2021-03-10 15:00:00</td>\n      <td>82.0</td>\n    </tr>\n    <tr>\n      <th>76696</th>\n      <td>2021-03-10 16:00:00</td>\n      <td>80.0</td>\n    </tr>\n    <tr>\n      <th>76697</th>\n      <td>2021-03-10 17:00:00</td>\n      <td>73.0</td>\n    </tr>\n    <tr>\n      <th>76698</th>\n      <td>2021-03-10 18:00:00</td>\n      <td>72.0</td>\n    </tr>\n    <tr>\n      <th>76699</th>\n      <td>2021-03-11 19:00:00</td>\n      <td>77.0</td>\n    </tr>\n  </tbody>\n</table>\n</div>"
     },
     "metadata": {},
     "execution_count": 12
    }
   ],
   "source": [
    "jgh_occupancy = pd.read_csv('../jghOccupancy.csv')\n",
    "jgh_occupancy.ds = pd.to_datetime(jgh_occupancy.ds)\n",
    "jgh_occupancy.tail()\n"
   ]
  },
  {
   "cell_type": "code",
   "execution_count": 13,
   "metadata": {},
   "outputs": [],
   "source": [
    "jgh_occupancy = jgh_occupancy.append(\n",
    "    new_jgh_hourly, ignore_index=True, sort=False)\n",
    "jgh_occupancy = jgh_occupancy.drop_duplicates()\n",
    "jgh_occupancy = jgh_occupancy.dropna()\n",
    "jgh_occupancy.to_csv('../jghOccupancy.csv', index=False)"
   ]
  },
  {
   "cell_type": "code",
   "execution_count": null,
   "metadata": {},
   "outputs": [],
   "source": []
  }
 ]
}