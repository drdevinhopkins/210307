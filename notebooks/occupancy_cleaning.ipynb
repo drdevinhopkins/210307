{
 "metadata": {
  "language_info": {
   "codemirror_mode": {
    "name": "ipython",
    "version": 3
   },
   "file_extension": ".py",
   "mimetype": "text/x-python",
   "name": "python",
   "nbconvert_exporter": "python",
   "pygments_lexer": "ipython3",
   "version": "3.8.5-final"
  },
  "orig_nbformat": 2,
  "kernelspec": {
   "name": "python3",
   "display_name": "Python 3.8.5 64-bit ('base': conda)",
   "metadata": {
    "interpreter": {
     "hash": "759f92077ddf767ee53021667a11c5c835d99672edecdbae08c8b508f136d5a9"
    }
   }
  }
 },
 "nbformat": 4,
 "nbformat_minor": 2,
 "cells": [
  {
   "cell_type": "code",
   "execution_count": 1,
   "metadata": {},
   "outputs": [],
   "source": [
    "import pandas as pd"
   ]
  },
  {
   "cell_type": "code",
   "execution_count": 2,
   "metadata": {},
   "outputs": [
    {
     "output_type": "execute_result",
     "data": {
      "text/plain": [
       "                    ds     y\n",
       "0  2012-05-01 00:00:00  39.0\n",
       "1  2012-05-01 01:00:00  40.0\n",
       "2  2012-05-01 02:00:00  40.0\n",
       "3  2012-05-01 03:00:00  40.0\n",
       "4  2012-05-01 04:00:00  39.0"
      ],
      "text/html": "<div>\n<style scoped>\n    .dataframe tbody tr th:only-of-type {\n        vertical-align: middle;\n    }\n\n    .dataframe tbody tr th {\n        vertical-align: top;\n    }\n\n    .dataframe thead th {\n        text-align: right;\n    }\n</style>\n<table border=\"1\" class=\"dataframe\">\n  <thead>\n    <tr style=\"text-align: right;\">\n      <th></th>\n      <th>ds</th>\n      <th>y</th>\n    </tr>\n  </thead>\n  <tbody>\n    <tr>\n      <th>0</th>\n      <td>2012-05-01 00:00:00</td>\n      <td>39.0</td>\n    </tr>\n    <tr>\n      <th>1</th>\n      <td>2012-05-01 01:00:00</td>\n      <td>40.0</td>\n    </tr>\n    <tr>\n      <th>2</th>\n      <td>2012-05-01 02:00:00</td>\n      <td>40.0</td>\n    </tr>\n    <tr>\n      <th>3</th>\n      <td>2012-05-01 03:00:00</td>\n      <td>40.0</td>\n    </tr>\n    <tr>\n      <th>4</th>\n      <td>2012-05-01 04:00:00</td>\n      <td>39.0</td>\n    </tr>\n  </tbody>\n</table>\n</div>"
     },
     "metadata": {},
     "execution_count": 2
    }
   ],
   "source": [
    "df = pd.read_csv('../jghOccupancy.csv')\n",
    "df.head()"
   ]
  },
  {
   "cell_type": "code",
   "execution_count": 3,
   "metadata": {},
   "outputs": [
    {
     "output_type": "execute_result",
     "data": {
      "text/plain": [
       "                        ds     y\n",
       "0      2012-05-01 00:00:00  39.0\n",
       "1      2012-05-01 01:00:00  40.0\n",
       "2      2012-05-01 02:00:00  40.0\n",
       "3      2012-05-01 03:00:00  40.0\n",
       "4      2012-05-01 04:00:00  39.0\n",
       "...                    ...   ...\n",
       "76713  2021-03-11 11:00:00  58.0\n",
       "76714  2021-03-11 12:00:00  66.0\n",
       "76715  2021-03-11 13:00:00  71.0\n",
       "76716  2021-03-11 15:00:00  63.0\n",
       "76682  2021-03-90 23:00:00  58.0\n",
       "\n",
       "[76717 rows x 2 columns]"
      ],
      "text/html": "<div>\n<style scoped>\n    .dataframe tbody tr th:only-of-type {\n        vertical-align: middle;\n    }\n\n    .dataframe tbody tr th {\n        vertical-align: top;\n    }\n\n    .dataframe thead th {\n        text-align: right;\n    }\n</style>\n<table border=\"1\" class=\"dataframe\">\n  <thead>\n    <tr style=\"text-align: right;\">\n      <th></th>\n      <th>ds</th>\n      <th>y</th>\n    </tr>\n  </thead>\n  <tbody>\n    <tr>\n      <th>0</th>\n      <td>2012-05-01 00:00:00</td>\n      <td>39.0</td>\n    </tr>\n    <tr>\n      <th>1</th>\n      <td>2012-05-01 01:00:00</td>\n      <td>40.0</td>\n    </tr>\n    <tr>\n      <th>2</th>\n      <td>2012-05-01 02:00:00</td>\n      <td>40.0</td>\n    </tr>\n    <tr>\n      <th>3</th>\n      <td>2012-05-01 03:00:00</td>\n      <td>40.0</td>\n    </tr>\n    <tr>\n      <th>4</th>\n      <td>2012-05-01 04:00:00</td>\n      <td>39.0</td>\n    </tr>\n    <tr>\n      <th>...</th>\n      <td>...</td>\n      <td>...</td>\n    </tr>\n    <tr>\n      <th>76713</th>\n      <td>2021-03-11 11:00:00</td>\n      <td>58.0</td>\n    </tr>\n    <tr>\n      <th>76714</th>\n      <td>2021-03-11 12:00:00</td>\n      <td>66.0</td>\n    </tr>\n    <tr>\n      <th>76715</th>\n      <td>2021-03-11 13:00:00</td>\n      <td>71.0</td>\n    </tr>\n    <tr>\n      <th>76716</th>\n      <td>2021-03-11 15:00:00</td>\n      <td>63.0</td>\n    </tr>\n    <tr>\n      <th>76682</th>\n      <td>2021-03-90 23:00:00</td>\n      <td>58.0</td>\n    </tr>\n  </tbody>\n</table>\n<p>76717 rows × 2 columns</p>\n</div>"
     },
     "metadata": {},
     "execution_count": 3
    }
   ],
   "source": [
    "df.sort_values(by=['ds'])"
   ]
  },
  {
   "cell_type": "code",
   "execution_count": null,
   "metadata": {},
   "outputs": [],
   "source": []
  }
 ]
}