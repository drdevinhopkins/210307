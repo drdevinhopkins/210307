{
 "metadata": {
  "language_info": {
   "codemirror_mode": {
    "name": "ipython",
    "version": 3
   },
   "file_extension": ".py",
   "mimetype": "text/x-python",
   "name": "python",
   "nbconvert_exporter": "python",
   "pygments_lexer": "ipython3",
   "version": "3.8.5-final"
  },
  "orig_nbformat": 2,
  "kernelspec": {
   "name": "python3",
   "display_name": "Python 3.8.5 64-bit ('base': conda)",
   "metadata": {
    "interpreter": {
     "hash": "759f92077ddf767ee53021667a11c5c835d99672edecdbae08c8b508f136d5a9"
    }
   }
  }
 },
 "nbformat": 4,
 "nbformat_minor": 2,
 "cells": [
  {
   "cell_type": "code",
   "execution_count": 11,
   "metadata": {},
   "outputs": [],
   "source": [
    "import pandas as pd\n",
    "import tabula\n",
    "\n",
    "\n",
    "from datetime import date, timedelta\n",
    "# import time\n",
    "# import os\n",
    "\n",
    "\n"
   ]
  },
  {
   "cell_type": "code",
   "execution_count": 5,
   "metadata": {},
   "outputs": [
    {
     "output_type": "execute_result",
     "data": {
      "text/plain": [
       "  Unnamed: 0 Unnamed: 1 Unnamed: 2 Unnamed: 3     Patients sur civière  \\\n",
       "0        NaN        NaN        NaN        NaN                      NaN   \n",
       "1        NaN        NaN        NaN        NaN      Sept derniers jours   \n",
       "2        NaN        NaN        NaN        NaN                      NaN   \n",
       "3        NaN        NaN        NaN        NaN                      NaN   \n",
       "4        NaN        NaN      04/03      05/03  06/03 07/03 08/03 09/03   \n",
       "\n",
       "  Unnamed: 4 Unnamed: 5 Unnamed: 6 Unnamed: 7  \\\n",
       "0        NaN  Moyenne 5        NaN        NaN   \n",
       "1        NaN  dernières        NaN        NaN   \n",
       "2        NaN   semaines        NaN        NaN   \n",
       "3        NaN        An.        NaN        NaN   \n",
       "4      10/03        An.      04/03      05/03   \n",
       "\n",
       "  Patients sur civière plus de 24 h  ... Unnamed: 10  \\\n",
       "0                               NaN  ...         NaN   \n",
       "1               Sept derniers jours  ...         NaN   \n",
       "2                               NaN  ...         NaN   \n",
       "3                               NaN  ...         NaN   \n",
       "4     06/03 07/03 08/03 09/03 10/03  ...       05/03   \n",
       "\n",
       "  Patients sur civière plus de 48 h Unnamed: 11 Unnamed: 12 Unnamed: 13  \\\n",
       "0                               NaN   Moyenne 5         NaN         NaN   \n",
       "1               Sept derniers jours   dernières         NaN         NaN   \n",
       "2                               NaN    semaines         NaN         NaN   \n",
       "3                               NaN         An.         NaN         NaN   \n",
       "4     06/03 07/03 08/03 09/03 10/03         An.       04/03       05/03   \n",
       "\n",
       "       Visites totales la veille Unnamed: 14 Unnamed: 15  \\\n",
       "0                            NaN   Moyenne 5         NaN   \n",
       "1            Sept derniers jours   dernières         NaN   \n",
       "2                            NaN    semaines         NaN   \n",
       "3                            NaN         An.         NaN   \n",
       "4  06/03 07/03 08/03 09/03 10/03         An.       04/03   \n",
       "\n",
       "             Taux d'occupation % Unnamed: 16  \n",
       "0                            NaN         NaN  \n",
       "1            Sept derniers jours         NaN  \n",
       "2                            NaN         NaN  \n",
       "3                            NaN         NaN  \n",
       "4  05/03 06/03 07/03 08/03 09/03       10/03  \n",
       "\n",
       "[5 rows x 22 columns]"
      ],
      "text/html": "<div>\n<style scoped>\n    .dataframe tbody tr th:only-of-type {\n        vertical-align: middle;\n    }\n\n    .dataframe tbody tr th {\n        vertical-align: top;\n    }\n\n    .dataframe thead th {\n        text-align: right;\n    }\n</style>\n<table border=\"1\" class=\"dataframe\">\n  <thead>\n    <tr style=\"text-align: right;\">\n      <th></th>\n      <th>Unnamed: 0</th>\n      <th>Unnamed: 1</th>\n      <th>Unnamed: 2</th>\n      <th>Unnamed: 3</th>\n      <th>Patients sur civière</th>\n      <th>Unnamed: 4</th>\n      <th>Unnamed: 5</th>\n      <th>Unnamed: 6</th>\n      <th>Unnamed: 7</th>\n      <th>Patients sur civière plus de 24 h</th>\n      <th>...</th>\n      <th>Unnamed: 10</th>\n      <th>Patients sur civière plus de 48 h</th>\n      <th>Unnamed: 11</th>\n      <th>Unnamed: 12</th>\n      <th>Unnamed: 13</th>\n      <th>Visites totales la veille</th>\n      <th>Unnamed: 14</th>\n      <th>Unnamed: 15</th>\n      <th>Taux d'occupation %</th>\n      <th>Unnamed: 16</th>\n    </tr>\n  </thead>\n  <tbody>\n    <tr>\n      <th>0</th>\n      <td>NaN</td>\n      <td>NaN</td>\n      <td>NaN</td>\n      <td>NaN</td>\n      <td>NaN</td>\n      <td>NaN</td>\n      <td>Moyenne 5</td>\n      <td>NaN</td>\n      <td>NaN</td>\n      <td>NaN</td>\n      <td>...</td>\n      <td>NaN</td>\n      <td>NaN</td>\n      <td>Moyenne 5</td>\n      <td>NaN</td>\n      <td>NaN</td>\n      <td>NaN</td>\n      <td>Moyenne 5</td>\n      <td>NaN</td>\n      <td>NaN</td>\n      <td>NaN</td>\n    </tr>\n    <tr>\n      <th>1</th>\n      <td>NaN</td>\n      <td>NaN</td>\n      <td>NaN</td>\n      <td>NaN</td>\n      <td>Sept derniers jours</td>\n      <td>NaN</td>\n      <td>dernières</td>\n      <td>NaN</td>\n      <td>NaN</td>\n      <td>Sept derniers jours</td>\n      <td>...</td>\n      <td>NaN</td>\n      <td>Sept derniers jours</td>\n      <td>dernières</td>\n      <td>NaN</td>\n      <td>NaN</td>\n      <td>Sept derniers jours</td>\n      <td>dernières</td>\n      <td>NaN</td>\n      <td>Sept derniers jours</td>\n      <td>NaN</td>\n    </tr>\n    <tr>\n      <th>2</th>\n      <td>NaN</td>\n      <td>NaN</td>\n      <td>NaN</td>\n      <td>NaN</td>\n      <td>NaN</td>\n      <td>NaN</td>\n      <td>semaines</td>\n      <td>NaN</td>\n      <td>NaN</td>\n      <td>NaN</td>\n      <td>...</td>\n      <td>NaN</td>\n      <td>NaN</td>\n      <td>semaines</td>\n      <td>NaN</td>\n      <td>NaN</td>\n      <td>NaN</td>\n      <td>semaines</td>\n      <td>NaN</td>\n      <td>NaN</td>\n      <td>NaN</td>\n    </tr>\n    <tr>\n      <th>3</th>\n      <td>NaN</td>\n      <td>NaN</td>\n      <td>NaN</td>\n      <td>NaN</td>\n      <td>NaN</td>\n      <td>NaN</td>\n      <td>An.</td>\n      <td>NaN</td>\n      <td>NaN</td>\n      <td>NaN</td>\n      <td>...</td>\n      <td>NaN</td>\n      <td>NaN</td>\n      <td>An.</td>\n      <td>NaN</td>\n      <td>NaN</td>\n      <td>NaN</td>\n      <td>An.</td>\n      <td>NaN</td>\n      <td>NaN</td>\n      <td>NaN</td>\n    </tr>\n    <tr>\n      <th>4</th>\n      <td>NaN</td>\n      <td>NaN</td>\n      <td>04/03</td>\n      <td>05/03</td>\n      <td>06/03 07/03 08/03 09/03</td>\n      <td>10/03</td>\n      <td>An.</td>\n      <td>04/03</td>\n      <td>05/03</td>\n      <td>06/03 07/03 08/03 09/03 10/03</td>\n      <td>...</td>\n      <td>05/03</td>\n      <td>06/03 07/03 08/03 09/03 10/03</td>\n      <td>An.</td>\n      <td>04/03</td>\n      <td>05/03</td>\n      <td>06/03 07/03 08/03 09/03 10/03</td>\n      <td>An.</td>\n      <td>04/03</td>\n      <td>05/03 06/03 07/03 08/03 09/03</td>\n      <td>10/03</td>\n    </tr>\n  </tbody>\n</table>\n<p>5 rows × 22 columns</p>\n</div>"
     },
     "metadata": {},
     "execution_count": 5
    }
   ],
   "source": [
    "df = tabula.read_pdf(\"https://www.msss.gouv.qc.ca/professionnels/statistiques/documents/urgences/Rap_Quotid_SituatUrgence1.pdf\", pages=\"7\")\n",
    "df[0].head()"
   ]
  },
  {
   "cell_type": "code",
   "execution_count": 37,
   "metadata": {},
   "outputs": [
    {
     "output_type": "execute_result",
     "data": {
      "text/plain": [
       "[201, 170, 182, 201, 203]"
      ]
     },
     "metadata": {},
     "execution_count": 37
    }
   ],
   "source": [
    "new_jgh_last_5 = df[0].loc[27]['Visites totales la veille'].split(' ')\n",
    "new_jgh_last_5 = [int(visits) for visits in new_jgh_last_5]\n",
    "new_jgh_last_5"
   ]
  },
  {
   "cell_type": "code",
   "execution_count": 6,
   "metadata": {},
   "outputs": [
    {
     "output_type": "execute_result",
     "data": {
      "text/plain": [
       "'203'"
      ]
     },
     "metadata": {},
     "execution_count": 6
    }
   ],
   "source": [
    "jgh_visits_yest = df[0].loc[27]['Visites totales la veille'].split(' ')[4]\n",
    "jgh_visits_yest"
   ]
  },
  {
   "cell_type": "code",
   "execution_count": 7,
   "metadata": {},
   "outputs": [
    {
     "output_type": "stream",
     "name": "stdout",
     "text": [
      "old jgh data:  3232  rows, ending  2021-03-09 00:00:00\n"
     ]
    },
    {
     "output_type": "execute_result",
     "data": {
      "text/plain": [
       "             ds    y\n",
       "3227 2021-03-05  201\n",
       "3228 2021-03-06  170\n",
       "3229 2021-03-07  182\n",
       "3230 2021-03-08  201\n",
       "3231 2021-03-09  203"
      ],
      "text/html": "<div>\n<style scoped>\n    .dataframe tbody tr th:only-of-type {\n        vertical-align: middle;\n    }\n\n    .dataframe tbody tr th {\n        vertical-align: top;\n    }\n\n    .dataframe thead th {\n        text-align: right;\n    }\n</style>\n<table border=\"1\" class=\"dataframe\">\n  <thead>\n    <tr style=\"text-align: right;\">\n      <th></th>\n      <th>ds</th>\n      <th>y</th>\n    </tr>\n  </thead>\n  <tbody>\n    <tr>\n      <th>3227</th>\n      <td>2021-03-05</td>\n      <td>201</td>\n    </tr>\n    <tr>\n      <th>3228</th>\n      <td>2021-03-06</td>\n      <td>170</td>\n    </tr>\n    <tr>\n      <th>3229</th>\n      <td>2021-03-07</td>\n      <td>182</td>\n    </tr>\n    <tr>\n      <th>3230</th>\n      <td>2021-03-08</td>\n      <td>201</td>\n    </tr>\n    <tr>\n      <th>3231</th>\n      <td>2021-03-09</td>\n      <td>203</td>\n    </tr>\n  </tbody>\n</table>\n</div>"
     },
     "metadata": {},
     "execution_count": 7
    }
   ],
   "source": [
    "\n",
    "\n",
    "old_jgh_data = pd.read_csv('../jghDailyVisits.csv')\n",
    "old_jgh_data['ds'] = pd.to_datetime(old_jgh_data['ds'])\n",
    "print('old jgh data: ', len(old_jgh_data),\n",
    "      ' rows, ending ', old_jgh_data.ds.max())\n",
    "\n",
    "old_jgh_data.tail()\n"
   ]
  },
  {
   "cell_type": "code",
   "execution_count": 38,
   "metadata": {},
   "outputs": [
    {
     "output_type": "execute_result",
     "data": {
      "text/plain": [
       "[201, 170, 182, 201, 203]"
      ]
     },
     "metadata": {},
     "execution_count": 38
    }
   ],
   "source": [
    "old_jgh_last_5 = old_jgh_data.y.tail().tolist()\n",
    "old_jgh_last_5"
   ]
  },
  {
   "cell_type": "code",
   "execution_count": 27,
   "metadata": {},
   "outputs": [
    {
     "output_type": "execute_result",
     "data": {
      "text/plain": [
       "          ds    y\n",
       "0 2021-03-10  203"
      ],
      "text/html": "<div>\n<style scoped>\n    .dataframe tbody tr th:only-of-type {\n        vertical-align: middle;\n    }\n\n    .dataframe tbody tr th {\n        vertical-align: top;\n    }\n\n    .dataframe thead th {\n        text-align: right;\n    }\n</style>\n<table border=\"1\" class=\"dataframe\">\n  <thead>\n    <tr style=\"text-align: right;\">\n      <th></th>\n      <th>ds</th>\n      <th>y</th>\n    </tr>\n  </thead>\n  <tbody>\n    <tr>\n      <th>0</th>\n      <td>2021-03-10</td>\n      <td>203</td>\n    </tr>\n  </tbody>\n</table>\n</div>"
     },
     "metadata": {},
     "execution_count": 27
    }
   ],
   "source": [
    "new_jgh_data = pd.DataFrame([{'ds':pd.to_datetime(date.today()-timedelta(days=1)), 'y':jgh_visits_yest}])\n",
    "new_jgh_data"
   ]
  },
  {
   "cell_type": "code",
   "execution_count": 28,
   "metadata": {},
   "outputs": [
    {
     "output_type": "execute_result",
     "data": {
      "text/plain": [
       "             ds    y\n",
       "0    2012-05-01  211\n",
       "1    2012-05-02  201\n",
       "2    2012-05-03  204\n",
       "3    2012-05-04  210\n",
       "4    2012-05-05  180\n",
       "...         ...  ...\n",
       "3227 2021-03-05  201\n",
       "3228 2021-03-06  170\n",
       "3229 2021-03-07  182\n",
       "3230 2021-03-08  201\n",
       "3231 2021-03-09  203\n",
       "\n",
       "[3232 rows x 2 columns]"
      ],
      "text/html": "<div>\n<style scoped>\n    .dataframe tbody tr th:only-of-type {\n        vertical-align: middle;\n    }\n\n    .dataframe tbody tr th {\n        vertical-align: top;\n    }\n\n    .dataframe thead th {\n        text-align: right;\n    }\n</style>\n<table border=\"1\" class=\"dataframe\">\n  <thead>\n    <tr style=\"text-align: right;\">\n      <th></th>\n      <th>ds</th>\n      <th>y</th>\n    </tr>\n  </thead>\n  <tbody>\n    <tr>\n      <th>0</th>\n      <td>2012-05-01</td>\n      <td>211</td>\n    </tr>\n    <tr>\n      <th>1</th>\n      <td>2012-05-02</td>\n      <td>201</td>\n    </tr>\n    <tr>\n      <th>2</th>\n      <td>2012-05-03</td>\n      <td>204</td>\n    </tr>\n    <tr>\n      <th>3</th>\n      <td>2012-05-04</td>\n      <td>210</td>\n    </tr>\n    <tr>\n      <th>4</th>\n      <td>2012-05-05</td>\n      <td>180</td>\n    </tr>\n    <tr>\n      <th>...</th>\n      <td>...</td>\n      <td>...</td>\n    </tr>\n    <tr>\n      <th>3227</th>\n      <td>2021-03-05</td>\n      <td>201</td>\n    </tr>\n    <tr>\n      <th>3228</th>\n      <td>2021-03-06</td>\n      <td>170</td>\n    </tr>\n    <tr>\n      <th>3229</th>\n      <td>2021-03-07</td>\n      <td>182</td>\n    </tr>\n    <tr>\n      <th>3230</th>\n      <td>2021-03-08</td>\n      <td>201</td>\n    </tr>\n    <tr>\n      <th>3231</th>\n      <td>2021-03-09</td>\n      <td>203</td>\n    </tr>\n  </tbody>\n</table>\n<p>3232 rows × 2 columns</p>\n</div>"
     },
     "metadata": {},
     "execution_count": 28
    }
   ],
   "source": [
    "old_jgh_data"
   ]
  },
  {
   "cell_type": "code",
   "execution_count": 29,
   "metadata": {},
   "outputs": [
    {
     "output_type": "execute_result",
     "data": {
      "text/plain": [
       "             ds    y\n",
       "3228 2021-03-06  170\n",
       "3229 2021-03-07  182\n",
       "3230 2021-03-08  201\n",
       "3231 2021-03-09  203\n",
       "3232 2021-03-10  203"
      ],
      "text/html": "<div>\n<style scoped>\n    .dataframe tbody tr th:only-of-type {\n        vertical-align: middle;\n    }\n\n    .dataframe tbody tr th {\n        vertical-align: top;\n    }\n\n    .dataframe thead th {\n        text-align: right;\n    }\n</style>\n<table border=\"1\" class=\"dataframe\">\n  <thead>\n    <tr style=\"text-align: right;\">\n      <th></th>\n      <th>ds</th>\n      <th>y</th>\n    </tr>\n  </thead>\n  <tbody>\n    <tr>\n      <th>3228</th>\n      <td>2021-03-06</td>\n      <td>170</td>\n    </tr>\n    <tr>\n      <th>3229</th>\n      <td>2021-03-07</td>\n      <td>182</td>\n    </tr>\n    <tr>\n      <th>3230</th>\n      <td>2021-03-08</td>\n      <td>201</td>\n    </tr>\n    <tr>\n      <th>3231</th>\n      <td>2021-03-09</td>\n      <td>203</td>\n    </tr>\n    <tr>\n      <th>3232</th>\n      <td>2021-03-10</td>\n      <td>203</td>\n    </tr>\n  </tbody>\n</table>\n</div>"
     },
     "metadata": {},
     "execution_count": 29
    }
   ],
   "source": [
    "concat_jgh_data = old_jgh_data.append(\n",
    "    new_jgh_data, ignore_index=True, sort=True)\n",
    "\n",
    "concat_jgh_data.tail()\n",
    "\n",
    "# concat_jgh_data.to_csv('../jghDailyVisits.csv', index=False)"
   ]
  },
  {
   "cell_type": "code",
   "execution_count": null,
   "metadata": {},
   "outputs": [],
   "source": []
  },
  {
   "cell_type": "code",
   "execution_count": null,
   "metadata": {},
   "outputs": [],
   "source": []
  },
  {
   "cell_type": "code",
   "execution_count": 1,
   "metadata": {},
   "outputs": [
    {
     "output_type": "stream",
     "name": "stdout",
     "text": [
      "no new data\n"
     ]
    }
   ],
   "source": [
    "import pandas as pd\n",
    "import tabula\n",
    "from datetime import date, timedelta\n",
    "\n",
    "df = tabula.read_pdf(\"https://www.msss.gouv.qc.ca/professionnels/statistiques/documents/urgences/Rap_Quotid_SituatUrgence1.pdf\", pages=\"7\")[0]\n",
    "\n",
    "new_jgh_last_5 = df.loc[27]['Visites totales la veille'].split(' ')\n",
    "new_jgh_last_5 = [int(visits) for visits in new_jgh_last_5]\n",
    "\n",
    "old_jgh_data = pd.read_csv('../jghDailyVisits.csv')\n",
    "old_jgh_data['ds'] = pd.to_datetime(old_jgh_data['ds'])\n",
    "old_jgh_last_5 = old_jgh_data.y.tail().tolist()\n",
    "\n",
    "if new_jgh_last_5 != old_jgh_last_5:\n",
    "    print('new data')\n",
    "    jgh_visits_yest = new_jgh_last_5[4]\n",
    "    new_jgh_data = pd.DataFrame([{'ds':pd.to_datetime(date.today()-timedelta(days=1)), 'y':jgh_visits_yest}])\n",
    "    concat_jgh_data = old_jgh_data.append(new_jgh_data, ignore_index=True, sort=True)\n",
    "    concat_jgh_data.to_csv('../jghDailyVisits.csv', index=False)\n",
    "else:\n",
    "    print('no new data')\n",
    "\n",
    "\n"
   ]
  },
  {
   "cell_type": "code",
   "execution_count": 40,
   "metadata": {},
   "outputs": [
    {
     "output_type": "execute_result",
     "data": {
      "text/plain": [
       "203"
      ]
     },
     "metadata": {},
     "execution_count": 40
    }
   ],
   "source": [
    "new_jgh_last_5[4]"
   ]
  },
  {
   "cell_type": "code",
   "execution_count": null,
   "metadata": {},
   "outputs": [],
   "source": []
  }
 ]
}