{
 "metadata": {
  "language_info": {
   "codemirror_mode": {
    "name": "ipython",
    "version": 3
   },
   "file_extension": ".py",
   "mimetype": "text/x-python",
   "name": "python",
   "nbconvert_exporter": "python",
   "pygments_lexer": "ipython3",
   "version": "3.8.5-final"
  },
  "orig_nbformat": 2,
  "kernelspec": {
   "name": "python3",
   "display_name": "Python 3.8.5 64-bit ('base': conda)",
   "metadata": {
    "interpreter": {
     "hash": "759f92077ddf767ee53021667a11c5c835d99672edecdbae08c8b508f136d5a9"
    }
   }
  }
 },
 "nbformat": 4,
 "nbformat_minor": 2,
 "cells": [
  {
   "cell_type": "code",
   "execution_count": 1,
   "metadata": {},
   "outputs": [],
   "source": [
    "import pandas as pd"
   ]
  },
  {
   "cell_type": "code",
   "execution_count": 15,
   "metadata": {},
   "outputs": [
    {
     "output_type": "execute_result",
     "data": {
      "text/plain": [
       "            Nom_etablissement                              Nom_installation  \\\n",
       "0  CISSS du Bas-Saint-Laurent                             Hôpital de Matane   \n",
       "1  CISSS du Bas-Saint-Laurent                    Centre hospitalier d'Amqui   \n",
       "2  CISSS du Bas-Saint-Laurent                  Hôpital régional de Rimouski   \n",
       "3  CISSS du Bas-Saint-Laurent             Centre hospitalier Trois-Pistoles   \n",
       "4  CISSS du Bas-Saint-Laurent  Centre hospitalier régional du Grand-Portage   \n",
       "\n",
       "   No_permis_installation  Nombre_de_civieres_fonctionnelles  \\\n",
       "0                51218980                                7.0   \n",
       "1                51226892                                6.0   \n",
       "2                51227882                               12.0   \n",
       "3                51220499                                3.0   \n",
       "4                51218352                                9.0   \n",
       "\n",
       "   Nombre_de_civieres_occupees  \\\n",
       "0                          7.0   \n",
       "1                          2.0   \n",
       "2                          8.0   \n",
       "3                          0.0   \n",
       "4                          6.0   \n",
       "\n",
       "   Nombre_de_patients_sur_civiere_plus_de_24_heures  \\\n",
       "0                                               0.0   \n",
       "1                                               0.0   \n",
       "2                                               0.0   \n",
       "3                                               0.0   \n",
       "4                                               0.0   \n",
       "\n",
       "   Nombre_de_patients_sur_civiere_plus_de_48_heures  \\\n",
       "0                                               0.0   \n",
       "1                                               0.0   \n",
       "2                                               0.0   \n",
       "3                                               0.0   \n",
       "4                                               0.0   \n",
       "\n",
       "  Heure_de_l'extraction_(image)         Mise_a_jour  \n",
       "0                    2020-03-13 2020-03-13 00:28:00  \n",
       "1                    2020-03-13 2020-03-13 00:28:00  \n",
       "2                    2020-03-13 2020-03-13 00:28:00  \n",
       "3                    2020-03-13 2020-03-13 00:28:00  \n",
       "4                    2020-03-13 2020-03-13 00:28:00  "
      ],
      "text/html": "<div>\n<style scoped>\n    .dataframe tbody tr th:only-of-type {\n        vertical-align: middle;\n    }\n\n    .dataframe tbody tr th {\n        vertical-align: top;\n    }\n\n    .dataframe thead th {\n        text-align: right;\n    }\n</style>\n<table border=\"1\" class=\"dataframe\">\n  <thead>\n    <tr style=\"text-align: right;\">\n      <th></th>\n      <th>Nom_etablissement</th>\n      <th>Nom_installation</th>\n      <th>No_permis_installation</th>\n      <th>Nombre_de_civieres_fonctionnelles</th>\n      <th>Nombre_de_civieres_occupees</th>\n      <th>Nombre_de_patients_sur_civiere_plus_de_24_heures</th>\n      <th>Nombre_de_patients_sur_civiere_plus_de_48_heures</th>\n      <th>Heure_de_l'extraction_(image)</th>\n      <th>Mise_a_jour</th>\n    </tr>\n  </thead>\n  <tbody>\n    <tr>\n      <th>0</th>\n      <td>CISSS du Bas-Saint-Laurent</td>\n      <td>Hôpital de Matane</td>\n      <td>51218980</td>\n      <td>7.0</td>\n      <td>7.0</td>\n      <td>0.0</td>\n      <td>0.0</td>\n      <td>2020-03-13</td>\n      <td>2020-03-13 00:28:00</td>\n    </tr>\n    <tr>\n      <th>1</th>\n      <td>CISSS du Bas-Saint-Laurent</td>\n      <td>Centre hospitalier d'Amqui</td>\n      <td>51226892</td>\n      <td>6.0</td>\n      <td>2.0</td>\n      <td>0.0</td>\n      <td>0.0</td>\n      <td>2020-03-13</td>\n      <td>2020-03-13 00:28:00</td>\n    </tr>\n    <tr>\n      <th>2</th>\n      <td>CISSS du Bas-Saint-Laurent</td>\n      <td>Hôpital régional de Rimouski</td>\n      <td>51227882</td>\n      <td>12.0</td>\n      <td>8.0</td>\n      <td>0.0</td>\n      <td>0.0</td>\n      <td>2020-03-13</td>\n      <td>2020-03-13 00:28:00</td>\n    </tr>\n    <tr>\n      <th>3</th>\n      <td>CISSS du Bas-Saint-Laurent</td>\n      <td>Centre hospitalier Trois-Pistoles</td>\n      <td>51220499</td>\n      <td>3.0</td>\n      <td>0.0</td>\n      <td>0.0</td>\n      <td>0.0</td>\n      <td>2020-03-13</td>\n      <td>2020-03-13 00:28:00</td>\n    </tr>\n    <tr>\n      <th>4</th>\n      <td>CISSS du Bas-Saint-Laurent</td>\n      <td>Centre hospitalier régional du Grand-Portage</td>\n      <td>51218352</td>\n      <td>9.0</td>\n      <td>6.0</td>\n      <td>0.0</td>\n      <td>0.0</td>\n      <td>2020-03-13</td>\n      <td>2020-03-13 00:28:00</td>\n    </tr>\n  </tbody>\n</table>\n</div>"
     },
     "metadata": {},
     "execution_count": 15
    }
   ],
   "source": [
    "old_data = pd.read_csv('hourlyQuebecEDStats.csv')\n",
    "old_data['Mise_a_jour'] = pd.to_datetime(old_data['Mise_a_jour'])\n",
    "old_data[\"Heure_de_l'extraction_(image)\"] = pd.to_datetime(\n",
    "    old_data[\"Heure_de_l'extraction_(image)\"])\n",
    "old_data.head()"
   ]
  },
  {
   "cell_type": "code",
   "execution_count": 16,
   "metadata": {},
   "outputs": [
    {
     "output_type": "stream",
     "name": "stdout",
     "text": [
      "<class 'pandas.core.frame.DataFrame'>\nRangeIndex: 799782 entries, 0 to 799781\nData columns (total 9 columns):\n #   Column                                            Non-Null Count   Dtype         \n---  ------                                            --------------   -----         \n 0   Nom_etablissement                                 799782 non-null  object        \n 1   Nom_installation                                  799782 non-null  object        \n 2   No_permis_installation                            799782 non-null  int64         \n 3   Nombre_de_civieres_fonctionnelles                 788532 non-null  float64       \n 4   Nombre_de_civieres_occupees                       788532 non-null  float64       \n 5   Nombre_de_patients_sur_civiere_plus_de_24_heures  788532 non-null  float64       \n 6   Nombre_de_patients_sur_civiere_plus_de_48_heures  788532 non-null  float64       \n 7   Heure_de_l'extraction_(image)                     799781 non-null  datetime64[ns]\n 8   Mise_a_jour                                       799781 non-null  datetime64[ns]\ndtypes: datetime64[ns](2), float64(4), int64(1), object(2)\nmemory usage: 54.9+ MB\n"
     ]
    }
   ],
   "source": [
    "old_data.info()"
   ]
  },
  {
   "cell_type": "code",
   "execution_count": 20,
   "metadata": {},
   "outputs": [],
   "source": [
    "old_data_before_july_2020 = old_data[old_data[\"Heure_de_l'extraction_(image)\"]<'2020-07-01']\n",
    "old_data_before_july_2020.tail()\n",
    "old_data_before_july_2020.to_csv('archive/hourlyQC-before-20-07-01.csv', index=False)"
   ]
  },
  {
   "cell_type": "code",
   "execution_count": 21,
   "metadata": {},
   "outputs": [
    {
     "output_type": "execute_result",
     "data": {
      "text/plain": [
       "                 Nom_etablissement  \\\n",
       "293541  CISSS du Bas-Saint-Laurent   \n",
       "293542  CISSS du Bas-Saint-Laurent   \n",
       "293543  CISSS du Bas-Saint-Laurent   \n",
       "293544  CISSS du Bas-Saint-Laurent   \n",
       "293545  CISSS du Bas-Saint-Laurent   \n",
       "\n",
       "                                    Nom_installation  No_permis_installation  \\\n",
       "293541                             Hôpital de Matane                51218980   \n",
       "293542                    Centre hospitalier d'Amqui                51226892   \n",
       "293543                  Hôpital régional de Rimouski                51227882   \n",
       "293544             Centre hospitalier Trois-Pistoles                51220499   \n",
       "293545  Centre hospitalier régional du Grand-Portage                51218352   \n",
       "\n",
       "        Nombre_de_civieres_fonctionnelles  Nombre_de_civieres_occupees  \\\n",
       "293541                                7.0                          3.0   \n",
       "293542                                6.0                          6.0   \n",
       "293543                               12.0                         10.0   \n",
       "293544                                3.0                          0.0   \n",
       "293545                                9.0                          5.0   \n",
       "\n",
       "        Nombre_de_patients_sur_civiere_plus_de_24_heures  \\\n",
       "293541                                               0.0   \n",
       "293542                                               0.0   \n",
       "293543                                               0.0   \n",
       "293544                                               0.0   \n",
       "293545                                               0.0   \n",
       "\n",
       "        Nombre_de_patients_sur_civiere_plus_de_48_heures  \\\n",
       "293541                                               0.0   \n",
       "293542                                               0.0   \n",
       "293543                                               0.0   \n",
       "293544                                               0.0   \n",
       "293545                                               0.0   \n",
       "\n",
       "       Heure_de_l'extraction_(image)         Mise_a_jour  \n",
       "293541           2020-08-31 19:00:00 2020-08-31 19:28:00  \n",
       "293542           2020-08-31 19:00:00 2020-08-31 19:28:00  \n",
       "293543           2020-08-31 19:00:00 2020-08-31 19:28:00  \n",
       "293544           2020-08-31 19:00:00 2020-08-31 19:28:00  \n",
       "293545           2020-08-31 19:00:00 2020-08-31 19:28:00  "
      ],
      "text/html": "<div>\n<style scoped>\n    .dataframe tbody tr th:only-of-type {\n        vertical-align: middle;\n    }\n\n    .dataframe tbody tr th {\n        vertical-align: top;\n    }\n\n    .dataframe thead th {\n        text-align: right;\n    }\n</style>\n<table border=\"1\" class=\"dataframe\">\n  <thead>\n    <tr style=\"text-align: right;\">\n      <th></th>\n      <th>Nom_etablissement</th>\n      <th>Nom_installation</th>\n      <th>No_permis_installation</th>\n      <th>Nombre_de_civieres_fonctionnelles</th>\n      <th>Nombre_de_civieres_occupees</th>\n      <th>Nombre_de_patients_sur_civiere_plus_de_24_heures</th>\n      <th>Nombre_de_patients_sur_civiere_plus_de_48_heures</th>\n      <th>Heure_de_l'extraction_(image)</th>\n      <th>Mise_a_jour</th>\n    </tr>\n  </thead>\n  <tbody>\n    <tr>\n      <th>293541</th>\n      <td>CISSS du Bas-Saint-Laurent</td>\n      <td>Hôpital de Matane</td>\n      <td>51218980</td>\n      <td>7.0</td>\n      <td>3.0</td>\n      <td>0.0</td>\n      <td>0.0</td>\n      <td>2020-08-31 19:00:00</td>\n      <td>2020-08-31 19:28:00</td>\n    </tr>\n    <tr>\n      <th>293542</th>\n      <td>CISSS du Bas-Saint-Laurent</td>\n      <td>Centre hospitalier d'Amqui</td>\n      <td>51226892</td>\n      <td>6.0</td>\n      <td>6.0</td>\n      <td>0.0</td>\n      <td>0.0</td>\n      <td>2020-08-31 19:00:00</td>\n      <td>2020-08-31 19:28:00</td>\n    </tr>\n    <tr>\n      <th>293543</th>\n      <td>CISSS du Bas-Saint-Laurent</td>\n      <td>Hôpital régional de Rimouski</td>\n      <td>51227882</td>\n      <td>12.0</td>\n      <td>10.0</td>\n      <td>0.0</td>\n      <td>0.0</td>\n      <td>2020-08-31 19:00:00</td>\n      <td>2020-08-31 19:28:00</td>\n    </tr>\n    <tr>\n      <th>293544</th>\n      <td>CISSS du Bas-Saint-Laurent</td>\n      <td>Centre hospitalier Trois-Pistoles</td>\n      <td>51220499</td>\n      <td>3.0</td>\n      <td>0.0</td>\n      <td>0.0</td>\n      <td>0.0</td>\n      <td>2020-08-31 19:00:00</td>\n      <td>2020-08-31 19:28:00</td>\n    </tr>\n    <tr>\n      <th>293545</th>\n      <td>CISSS du Bas-Saint-Laurent</td>\n      <td>Centre hospitalier régional du Grand-Portage</td>\n      <td>51218352</td>\n      <td>9.0</td>\n      <td>5.0</td>\n      <td>0.0</td>\n      <td>0.0</td>\n      <td>2020-08-31 19:00:00</td>\n      <td>2020-08-31 19:28:00</td>\n    </tr>\n  </tbody>\n</table>\n</div>"
     },
     "metadata": {},
     "execution_count": 21
    }
   ],
   "source": [
    "old_data_2nd_half_2020 = old_data[old_data[\"Heure_de_l'extraction_(image)\"]<'2021-01-01']\n",
    "old_data_2nd_half_2020 = old_data_2nd_half_2020[old_data_2nd_half_2020[\"Heure_de_l'extraction_(image)\"]>'2020-07-01']\n",
    "old_data_2nd_half_2020.head()"
   ]
  },
  {
   "cell_type": "code",
   "execution_count": 23,
   "metadata": {},
   "outputs": [
    {
     "output_type": "execute_result",
     "data": {
      "text/plain": [
       "                   Nom_etablissement                 Nom_installation  \\\n",
       "621717    CISSS de la Montérégie-Est           Hôpital Honoré-Mercier   \n",
       "621718    CISSS de la Montérégie-Est           Hôpital Pierre-Boucher   \n",
       "621719  CISSS de la Montérégie-Ouest  Centre hospitalier Anna-Laberge   \n",
       "621720  CISSS de la Montérégie-Ouest          Hôpital Barrie Memorial   \n",
       "621721  CISSS de la Montérégie-Ouest                Hôpital du Suroît   \n",
       "\n",
       "        No_permis_installation  Nombre_de_civieres_fonctionnelles  \\\n",
       "621717                51229193                               26.0   \n",
       "621718                51229011                               35.0   \n",
       "621719                51229151                               32.0   \n",
       "621720                51228005                                5.0   \n",
       "621721                51229136                               32.0   \n",
       "\n",
       "        Nombre_de_civieres_occupees  \\\n",
       "621717                         17.0   \n",
       "621718                         48.0   \n",
       "621719                         27.0   \n",
       "621720                          2.0   \n",
       "621721                         26.0   \n",
       "\n",
       "        Nombre_de_patients_sur_civiere_plus_de_24_heures  \\\n",
       "621717                                               6.0   \n",
       "621718                                              22.0   \n",
       "621719                                              12.0   \n",
       "621720                                               0.0   \n",
       "621721                                              10.0   \n",
       "\n",
       "        Nombre_de_patients_sur_civiere_plus_de_48_heures  \\\n",
       "621717                                               0.0   \n",
       "621718                                               7.0   \n",
       "621719                                               1.0   \n",
       "621720                                               0.0   \n",
       "621721                                               2.0   \n",
       "\n",
       "       Heure_de_l'extraction_(image)         Mise_a_jour  \n",
       "621717           2020-12-31 23:00:00 2020-12-31 23:28:00  \n",
       "621718           2020-12-31 23:00:00 2020-12-31 23:28:00  \n",
       "621719           2020-12-31 23:00:00 2020-12-31 23:28:00  \n",
       "621720           2020-12-31 23:00:00 2020-12-31 23:28:00  \n",
       "621721           2020-12-31 23:00:00 2020-12-31 23:28:00  "
      ],
      "text/html": "<div>\n<style scoped>\n    .dataframe tbody tr th:only-of-type {\n        vertical-align: middle;\n    }\n\n    .dataframe tbody tr th {\n        vertical-align: top;\n    }\n\n    .dataframe thead th {\n        text-align: right;\n    }\n</style>\n<table border=\"1\" class=\"dataframe\">\n  <thead>\n    <tr style=\"text-align: right;\">\n      <th></th>\n      <th>Nom_etablissement</th>\n      <th>Nom_installation</th>\n      <th>No_permis_installation</th>\n      <th>Nombre_de_civieres_fonctionnelles</th>\n      <th>Nombre_de_civieres_occupees</th>\n      <th>Nombre_de_patients_sur_civiere_plus_de_24_heures</th>\n      <th>Nombre_de_patients_sur_civiere_plus_de_48_heures</th>\n      <th>Heure_de_l'extraction_(image)</th>\n      <th>Mise_a_jour</th>\n    </tr>\n  </thead>\n  <tbody>\n    <tr>\n      <th>621717</th>\n      <td>CISSS de la Montérégie-Est</td>\n      <td>Hôpital Honoré-Mercier</td>\n      <td>51229193</td>\n      <td>26.0</td>\n      <td>17.0</td>\n      <td>6.0</td>\n      <td>0.0</td>\n      <td>2020-12-31 23:00:00</td>\n      <td>2020-12-31 23:28:00</td>\n    </tr>\n    <tr>\n      <th>621718</th>\n      <td>CISSS de la Montérégie-Est</td>\n      <td>Hôpital Pierre-Boucher</td>\n      <td>51229011</td>\n      <td>35.0</td>\n      <td>48.0</td>\n      <td>22.0</td>\n      <td>7.0</td>\n      <td>2020-12-31 23:00:00</td>\n      <td>2020-12-31 23:28:00</td>\n    </tr>\n    <tr>\n      <th>621719</th>\n      <td>CISSS de la Montérégie-Ouest</td>\n      <td>Centre hospitalier Anna-Laberge</td>\n      <td>51229151</td>\n      <td>32.0</td>\n      <td>27.0</td>\n      <td>12.0</td>\n      <td>1.0</td>\n      <td>2020-12-31 23:00:00</td>\n      <td>2020-12-31 23:28:00</td>\n    </tr>\n    <tr>\n      <th>621720</th>\n      <td>CISSS de la Montérégie-Ouest</td>\n      <td>Hôpital Barrie Memorial</td>\n      <td>51228005</td>\n      <td>5.0</td>\n      <td>2.0</td>\n      <td>0.0</td>\n      <td>0.0</td>\n      <td>2020-12-31 23:00:00</td>\n      <td>2020-12-31 23:28:00</td>\n    </tr>\n    <tr>\n      <th>621721</th>\n      <td>CISSS de la Montérégie-Ouest</td>\n      <td>Hôpital du Suroît</td>\n      <td>51229136</td>\n      <td>32.0</td>\n      <td>26.0</td>\n      <td>10.0</td>\n      <td>2.0</td>\n      <td>2020-12-31 23:00:00</td>\n      <td>2020-12-31 23:28:00</td>\n    </tr>\n  </tbody>\n</table>\n</div>"
     },
     "metadata": {},
     "execution_count": 23
    }
   ],
   "source": [
    "old_data_2nd_half_2020.tail()"
   ]
  },
  {
   "cell_type": "code",
   "execution_count": 24,
   "metadata": {},
   "outputs": [],
   "source": [
    "old_data_2nd_half_2020.to_csv('archive/hourlyQC-2nd-half-2020.csv', index=False)"
   ]
  },
  {
   "cell_type": "code",
   "execution_count": 26,
   "metadata": {},
   "outputs": [],
   "source": [
    "old_data_2021 = old_data[old_data[\"Heure_de_l'extraction_(image)\"]>'2021-01-01']\n",
    "old_data_2021.to_csv('hourlyQuebecEDStats.csv', index=False)"
   ]
  },
  {
   "cell_type": "code",
   "execution_count": null,
   "metadata": {},
   "outputs": [],
   "source": []
  }
 ]
}